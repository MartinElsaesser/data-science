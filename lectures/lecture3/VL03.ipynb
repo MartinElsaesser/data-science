{
 "cells": [
  {
   "cell_type": "markdown",
   "id": "94514831",
   "metadata": {
    "slideshow": {
     "slide_type": "skip"
    }
   },
   "source": [
    "2023: Notiz für das nächste Jahr: Die Zeit war knapp, wir sollten entschlacken.\n",
    "- Abschnitt 1: Visualisierung kategorischer Größen in VL02 schieben.\n",
    "- Abschnitt 3: Pandas Funktionalität zur Indizierung in VL04 schieben."
   ]
  },
  {
   "cell_type": "markdown",
   "id": "d10f7fdc",
   "metadata": {
    "slideshow": {
     "slide_type": "skip"
    }
   },
   "source": [
    "2024: Die Zeit war wieder knapp (Teil 3 nur in 7 Minuten überflogen, muss nächste Woche erneut im Detail besprochen werden), evtl. Teil 2 stark kürzen?"
   ]
  },
  {
   "cell_type": "markdown",
   "id": "b6dbf9f6",
   "metadata": {
    "slideshow": {
     "slide_type": "skip"
    }
   },
   "source": [
    "2025: Nochmal den dritten Teil von VL02 durchgegangen, dafür mittleren Teil von VL03 entfernt. Den Zeitrahmen etwa eingehalten. Nächstes mal evtl. den dritten Teil von VL02 komplett integrieren (dann Problem mit den ersten beiden Übungen, da diese auf diesen Teil verweist). Nächstes mal:\n",
    "- drop_first vielleicht besser an einer anderen Spalte als sex diskutieren (m/f/d)\n",
    "- darüber nachdenken, ob pandas encoder überhaupt praxisrelevant sind, wenn wir sowieso sklearn Funktionalität empfehlen, ggf. hier kürzen\n",
    "- sns.pairplot statt selbstgeschriebener show_heartdata\n",
    "- wenn viel Zeit: besseres Beispiel suchen, wo max_depth-Parameter deutlicher vor Overfitting schützt"
   ]
  },
  {
   "cell_type": "code",
   "execution_count": 17,
   "id": "f2eceed6",
   "metadata": {
    "slideshow": {
     "slide_type": "subslide"
    }
   },
   "outputs": [
    {
     "name": "stdout",
     "output_type": "stream",
     "text": [
      "Hallo, Bob!\n",
      "HALLO, FRED!\n"
     ]
    }
   ],
   "source": [
    "def rufe(name, loud=False):\n",
    "    if loud:\n",
    "        print(f\"HALLO, {name.upper()}!\")\n",
    "    else:\n",
    "        print(f\"Hallo, {name}!\")\n",
    "\n",
    "rufe(\"Bob\") # Verwendung des Default-Wertes\n",
    "rufe(\"Fred\", True)"
   ]
  },
  {
   "cell_type": "markdown",
   "id": "c3fe632c",
   "metadata": {
    "slideshow": {
     "slide_type": "fragment"
    }
   },
   "source": [
    "Kann man eine Liste mit Argumenten (\"positional\") übergeben?"
   ]
  },
  {
   "cell_type": "code",
   "execution_count": 117,
   "id": "0127d821",
   "metadata": {
    "cell_style": "split",
    "slideshow": {
     "slide_type": "-"
    }
   },
   "outputs": [
    {
     "name": "stdout",
     "output_type": "stream",
     "text": [
      "Hallo, ['Bob', True]!\n"
     ]
    }
   ],
   "source": [
    "argumente = [\"Bob\", True]\n",
    "rufe ( argumente )         # falsch\n"
   ]
  },
  {
   "cell_type": "code",
   "execution_count": 118,
   "id": "99e0d8a5",
   "metadata": {
    "cell_style": "split",
    "scrolled": true,
    "slideshow": {
     "slide_type": "fragment"
    }
   },
   "outputs": [
    {
     "name": "stdout",
     "output_type": "stream",
     "text": [
      "HALLO, BOB!\n"
     ]
    }
   ],
   "source": [
    "rufe ( *argumente )\n",
    "# richtig: Die spezielle\n",
    "# \"Asterisk\"-Syntax * \"entpackt\"\n",
    "# eine Liste\n"
   ]
  },
  {
   "cell_type": "markdown",
   "id": "19bea8c5",
   "metadata": {
    "slideshow": {
     "slide_type": "subslide"
    }
   },
   "source": [
    "**Entpacken** von Dictionaries mit dem Asterisk-Operator:"
   ]
  },
  {
   "cell_type": "code",
   "execution_count": 19,
   "id": "01ff7052",
   "metadata": {
    "scrolled": true,
    "slideshow": {
     "slide_type": "-"
    }
   },
   "outputs": [
    {
     "name": "stdout",
     "output_type": "stream",
     "text": [
      "Help on function rufe in module __main__:\n",
      "\n",
      "rufe(name, loud=False)\n",
      "\n"
     ]
    }
   ],
   "source": [
    "# Wie war die Funktion \"rufe\" nochmal deklariert?\n",
    "# Alternativ: ?rufe (für docstring) und ??rufe (für den kompletten Quelltext)\n",
    "help(rufe)"
   ]
  },
  {
   "cell_type": "code",
   "execution_count": 189,
   "id": "670758f8",
   "metadata": {
    "cell_style": "split",
    "slideshow": {
     "slide_type": "fragment"
    }
   },
   "outputs": [
    {
     "name": "stdout",
     "output_type": "stream",
     "text": [
      "HALLO, FRED!\n"
     ]
    }
   ],
   "source": [
    "# Entpacken mit dem **-Operator\n",
    "d = {\"loud\": True, \"name\": \"Fred\"}\n",
    "rufe(**d) \n",
    "# äquivalent zu: rufe(loud=True,\n",
    "#                     name=\"Fred\")"
   ]
  },
  {
   "cell_type": "code",
   "execution_count": 340,
   "id": "d6645de7",
   "metadata": {
    "cell_style": "split",
    "slideshow": {
     "slide_type": "fragment"
    }
   },
   "outputs": [
    {
     "name": "stdout",
     "output_type": "stream",
     "text": [
      "HALLO, FRED!\n"
     ]
    }
   ],
   "source": [
    "# Kann auch mit dem *-Operator\n",
    "# kombiniert werden:\n",
    "rufe(*[\"Fred\"], **{\"loud\":True})"
   ]
  },
  {
   "cell_type": "code",
   "execution_count": null,
   "id": "fe6311b4",
   "metadata": {
    "slideshow": {
     "slide_type": "skip"
    }
   },
   "outputs": [],
   "source": []
  },
  {
   "cell_type": "markdown",
   "id": "b193fa6f",
   "metadata": {
    "cell_style": "split",
    "slideshow": {
     "slide_type": "slide"
    }
   },
   "source": [
    "<img src=\"VL03_Material/datenarten.png\" width=\"80%\" />\n",
    "<div class=\"tinyfont\">Abb. 3 aus: Nazemi, Kawa & Kaupp, Lukas & Burkhardt, Dirk & Below, Nicola. (2021). Datenvisualisierung. 10.1515/9783110657807-026.</div>"
   ]
  },
  {
   "cell_type": "markdown",
   "id": "a0f642ce",
   "metadata": {
    "cell_style": "split",
    "slideshow": {
     "slide_type": "-"
    }
   },
   "source": [
    "# <div style=\"color:blue;\">1. Visualisierung und Encodings</div>\n",
    "# <div>2. DecisionTreeClassifier</div>"
   ]
  },
  {
   "cell_type": "markdown",
   "id": "96f5f557",
   "metadata": {
    "slideshow": {
     "slide_type": "subslide"
    }
   },
   "source": [
    "### 1.1 Datentyp (=Skala), Datendimensionalität und Datenarten\n",
    "\n",
    "<center>\n",
    "<img src=\"VL03_Material/datenarten.png\" width=\"60%\" />\n",
    "<div class=\"tinyfont\">Abb. 3 aus: Nazemi, Kawa & Kaupp, Lukas & Burkhardt, Dirk & Below, Nicola. (2021). Datenvisualisierung. 10.1515/9783110657807-026.</div>\n",
    "    </center>"
   ]
  },
  {
   "cell_type": "markdown",
   "id": "2c5ded07",
   "metadata": {
    "slideshow": {
     "slide_type": "subslide"
    }
   },
   "source": [
    "### 1.2 Wiederholung: Visualisierung von numerischen Daten"
   ]
  },
  {
   "cell_type": "code",
   "execution_count": 44,
   "id": "260f1832",
   "metadata": {
    "cell_style": "split",
    "slideshow": {
     "slide_type": "fragment"
    }
   },
   "outputs": [
    {
     "data": {
      "text/plain": [
       "[0.0, 1.0, 0.0, 1.5, 0.0]"
      ]
     },
     "execution_count": 44,
     "metadata": {},
     "output_type": "execute_result"
    }
   ],
   "source": [
    "# Äquivalent:\n",
    "# import pandas as pd\n",
    "# data_oldpeak = pd.read_csv(\n",
    "#    \"VL02_Material/heart.csv\")[\"Oldpeak\"].tolist()\n",
    "\n",
    "with open(\"VL02_Material/heart_oldpeak.txt\",\"r\") as f:\n",
    "    data_oldpeak = f.read() \\\n",
    "        .replace(\"[\",\"\")    \\\n",
    "        .replace(\"]\",\"\")    \\\n",
    "        .split(\",\")\n",
    "    data_oldpeak = [float(x) for x in data_oldpeak]\n",
    "\n",
    "data_oldpeak[:5]\n"
   ]
  },
  {
   "cell_type": "code",
   "execution_count": 47,
   "id": "35af9635",
   "metadata": {
    "cell_style": "split",
    "scrolled": false,
    "slideshow": {
     "slide_type": "fragment"
    }
   },
   "outputs": [
    {
     "data": {
      "image/png": "[encoded data removed]",
      "text/plain": [
       "<Figure size 640x480 with 1 Axes>"
      ]
     },
     "metadata": {},
     "output_type": "display_data"
    }
   ],
   "source": [
    "# Strip-Plot mit sinnvollen Default-Argumenten\n",
    "\n",
    "import seaborn as sns\n",
    "\n",
    "def mystripplot(data, color=\"black\",\n",
    "                alpha=1.0, title=\"\" ):\n",
    "    ax = sns.stripplot ( data=data, orient=\"h\",\n",
    "                         color=color,\n",
    "                         alpha=alpha )\n",
    "    ax.set( title=title )\n",
    "\n",
    "mystripplot ( data_oldpeak, alpha=0.1 )\n"
   ]
  },
  {
   "cell_type": "code",
   "execution_count": 420,
   "id": "a1b8057d",
   "metadata": {
    "slideshow": {
     "slide_type": "subslide"
    }
   },
   "outputs": [
    {
     "data": {
      "image/png": "[encoded data removed]",
      "text/plain": [
       "<Figure size 640x480 with 1 Axes>"
      ]
     },
     "metadata": {},
     "output_type": "display_data"
    }
   ],
   "source": [
    "# Unpacking mit \"Asterisk\" *\n",
    "\n",
    "styledict = {\"color\": \"blue\",\n",
    "             \"alpha\": 0.5}         # Dictionary, also eine Sammlung von key/value-pairs\n",
    "\n",
    "mystripplot ( data_oldpeak, title=\"Heart dataset, Column Oldpeak\", **styledict )\n",
    "# mit ** wird das Dictionary entpackt und die Inhalte als Keyword-Argumente verwendet\n",
    "\n",
    "# ... ist das gleiche wie:\n",
    "# mystripplot ( data_oldpeak, title=\"Heart dataset, Column Oldpeak\", color=\"blue\", alpha=0.5 )\n",
    "\n",
    "# Frage: Was ist ein Positional Argument? Was ist ein Keyword Argument?\n"
   ]
  },
  {
   "cell_type": "markdown",
   "id": "07ddbc02",
   "metadata": {
    "slideshow": {
     "slide_type": "subslide"
    }
   },
   "source": [
    "Der \\*-Operator kann auch in der Funktionsdeklaration verwendet werden:\n",
    "- \\*args für beliebig viele Positional-Argumente\n",
    "- \\*\\*kwargs für beliebig viele Keyword-Argumente\n",
    "\n",
    "**Achtung:** Nach \\*args können Argumente nur noch per Keyword angesprochen werden (positional unerreichbar)"
   ]
  },
  {
   "cell_type": "code",
   "execution_count": 421,
   "id": "65e6d63d",
   "metadata": {
    "slideshow": {
     "slide_type": "fragment"
    }
   },
   "outputs": [
    {
     "ename": "TypeError",
     "evalue": "mystripplot() missing 1 required keyword-only argument: 'title'",
     "output_type": "error",
     "traceback": [
      "\u001b[1;31m---------------------------------------------------------------------------\u001b[0m",
      "\u001b[1;31mTypeError\u001b[0m                                 Traceback (most recent call last)",
      "Cell \u001b[1;32mIn[421], line 6\u001b[0m\n\u001b[0;32m      3\u001b[0m     ax \u001b[38;5;241m=\u001b[39m sns\u001b[38;5;241m.\u001b[39mstripplot ( data\u001b[38;5;241m=\u001b[39mdata, orient\u001b[38;5;241m=\u001b[39m\u001b[38;5;124m\"\u001b[39m\u001b[38;5;124mh\u001b[39m\u001b[38;5;124m\"\u001b[39m, \u001b[38;5;241m*\u001b[39m\u001b[38;5;241m*\u001b[39mkwargs )\n\u001b[0;32m      4\u001b[0m     ax\u001b[38;5;241m.\u001b[39mset( title\u001b[38;5;241m=\u001b[39mtitle )\n\u001b[1;32m----> 6\u001b[0m \u001b[43mmystripplot\u001b[49m\u001b[43m \u001b[49m\u001b[43m(\u001b[49m\u001b[43m \u001b[49m\u001b[43mdata_oldpeak\u001b[49m\u001b[43m,\u001b[49m\u001b[43m \u001b[49m\u001b[38;5;241;43m123\u001b[39;49m\u001b[43m,\u001b[49m\u001b[43m \u001b[49m\u001b[38;5;241;43m456\u001b[39;49m\u001b[43m,\u001b[49m\u001b[43m \u001b[49m\u001b[38;5;241;43m789\u001b[39;49m\u001b[43m,\u001b[49m\u001b[43m \u001b[49m\u001b[38;5;124;43m\"\u001b[39;49m\u001b[38;5;124;43mHeart dataset, Column Oldpeak\u001b[39;49m\u001b[38;5;124;43m\"\u001b[39;49m\u001b[43m,\u001b[49m\u001b[43m \u001b[49m\u001b[43mcolor\u001b[49m\u001b[38;5;241;43m=\u001b[39;49m\u001b[38;5;124;43m\"\u001b[39;49m\u001b[38;5;124;43mblue\u001b[39;49m\u001b[38;5;124;43m\"\u001b[39;49m\u001b[43m,\u001b[49m\u001b[43m \u001b[49m\u001b[43malpha\u001b[49m\u001b[38;5;241;43m=\u001b[39;49m\u001b[38;5;241;43m0.5\u001b[39;49m\u001b[43m,\u001b[49m\u001b[43m \u001b[49m\u001b[43mmarker\u001b[49m\u001b[38;5;241;43m=\u001b[39;49m\u001b[38;5;124;43m\"\u001b[39;49m\u001b[38;5;124;43m^\u001b[39;49m\u001b[38;5;124;43m\"\u001b[39;49m\u001b[43m \u001b[49m\u001b[43m)\u001b[49m\n",
      "\u001b[1;31mTypeError\u001b[0m: mystripplot() missing 1 required keyword-only argument: 'title'"
     ]
    }
   ],
   "source": [
    "def mystripplot(data, *args, title, **kwargs ):\n",
    "    kwargs[\"s\"] = 50 # innerhalb der Funktion ist kwargs ein Dictionary, das die keyword-Argumente enthält\n",
    "    ax = sns.stripplot ( data=data, orient=\"h\", **kwargs )\n",
    "    ax.set( title=title )\n",
    "\n",
    "mystripplot ( data_oldpeak, 123, 456, 789, \"Heart dataset, Column Oldpeak\", color=\"blue\", alpha=0.5, marker=\"^\" )\n"
   ]
  },
  {
   "cell_type": "code",
   "execution_count": 90,
   "id": "2319a40e",
   "metadata": {
    "cell_style": "center",
    "scrolled": false,
    "slideshow": {
     "slide_type": "subslide"
    }
   },
   "outputs": [
    {
     "data": {
      "image/png": "[encoded data removed]",
      "text/plain": [
       "<Figure size 640x480 with 1 Axes>"
      ]
     },
     "metadata": {},
     "output_type": "display_data"
    }
   ],
   "source": [
    "# Nun sprechen wir das title-Argument Argument korrekt via Keyword an:\n",
    "\n",
    "def mystripplot(data, *args, title, **kwargs ):\n",
    "    kwargs[\"s\"] = 50 # innerhalb der Funktion ist kwargs ein Dictionary, das die keyword-Argumente enthält\n",
    "    ax = sns.stripplot ( data=data, orient=\"h\", **kwargs )\n",
    "    ax.set( title=title )\n",
    "\n",
    "mystripplot ( data_oldpeak, 123, 456, 789, title=\"Heart dataset, Column Oldpeak\", color=\"blue\", alpha=0.5, marker=\"^\" )\n"
   ]
  },
  {
   "cell_type": "markdown",
   "id": "9bef1320",
   "metadata": {
    "slideshow": {
     "slide_type": "subslide"
    }
   },
   "source": [
    "In `seaborn.stripplot`: Eine Benennung der Argumente wird mit \\* erzwungen. Weitere mögliche Argumente für die intern verwendeten low-level-Plotmethoden werden mit \\*\\*kwargs \"durchgereicht\"."
   ]
  },
  {
   "cell_type": "code",
   "execution_count": null,
   "id": "915e1d9c",
   "metadata": {
    "slideshow": {
     "slide_type": "-"
    }
   },
   "outputs": [],
   "source": [
    "def stripplot(data=None, *, x=None, y=None, hue=None, order=None, hue_order=None,\n",
    "                      jitter=True, dodge=False, orient=None, color=None, palette=None,\n",
    "                      size=5, edgecolor='gray', linewidth=0, hue_norm=None,\n",
    "                      native_scale=False, formatter=None, legend='auto', ax=None, **kwargs)\n",
    "    ...\n",
    "    size = kwargs.get(\"s\", size)\n",
    "    \n",
    "    kwargs.update(\n",
    "        s=size ** 2,\n",
    "        edgecolor=edgecolor,\n",
    "        linewidth=linewidth,\n",
    "    )\n",
    "    ...\n",
    "    points = ax.scatter(sub_data[\"x\"], sub_data[\"y\"], color=color, **kwargs)\n",
    "    ..."
   ]
  },
  {
   "cell_type": "markdown",
   "id": "48670b1a",
   "metadata": {
    "slideshow": {
     "slide_type": "-"
    }
   },
   "source": [
    "<div class=\"tinyfont\">https://github.com/mwaskom/seaborn/blob/f9827a3ae2a998aeeb97d1931ae03f8a3f7109c2/seaborn/categorical.py (Z. 416, 2618, 2658)</div>"
   ]
  },
  {
   "cell_type": "markdown",
   "id": "1f73b911",
   "metadata": {
    "cell_style": "split",
    "slideshow": {
     "slide_type": "fragment"
    }
   },
   "source": [
    "<div class=\"alert alert-block alert-warning\">\n",
    "\n",
    "**Frage:** Was passiert in Zeile 6?\n",
    "\n",
    "</div>"
   ]
  },
  {
   "cell_type": "markdown",
   "id": "d83390df",
   "metadata": {
    "cell_style": "split",
    "slideshow": {
     "slide_type": "fragment"
    }
   },
   "source": [
    "<div class=\"alert alert-block alert-success\">\n",
    "Zur Angabe der Punktgröße verwendet seaborn.stripplot den Parameter size. Daneben gibt es noch den low-level-Parameter s der unterliegenden Matplotlib-API. In Zeile 6 wird die Variable size durch s überschrieben, falls letztere angegeben wurde (d.h. vorhanden ist im Dictionary kwargs).\n",
    "</div>"
   ]
  },
  {
   "cell_type": "markdown",
   "id": "5232f032",
   "metadata": {
    "slideshow": {
     "slide_type": "skip"
    }
   },
   "source": [
    " "
   ]
  },
  {
   "cell_type": "markdown",
   "id": "d42aa9e9",
   "metadata": {
    "cell_style": "split",
    "slideshow": {
     "slide_type": "subslide"
    }
   },
   "source": [
    "### 1.3 Plotting mit Matplotlib\n",
    "\n",
    "(Grundlage für Pandas und Seaborn)\n",
    "- Konvention: `\n",
    "import matplotlib.pyplot as plt\n",
    "`\n",
    "- Basisobjekte `Figure` und `Axes`, z.B. via  \n",
    "`\n",
    "fig, axes = plt.subplots (             `  \n",
    "`   figsize=(5,2), nrows=2, ncols=2 ) `\n",
    "- **\"implicit\" interface**: Einfache Plot-Funktionalität  \n",
    "via `plt`\n",
    "- **\"explicit\" interface**: Feinere Steuermöglichkeit  \n",
    "via `ax`"
   ]
  },
  {
   "cell_type": "code",
   "execution_count": 53,
   "id": "a0426390",
   "metadata": {
    "cell_style": "split",
    "slideshow": {
     "slide_type": "fragment"
    }
   },
   "outputs": [
    {
     "data": {
      "text/plain": [
       "array([-7. , -6.5, -6. , -5.5, -5. ])"
      ]
     },
     "execution_count": 53,
     "metadata": {},
     "output_type": "execute_result"
    }
   ],
   "source": [
    "# Erzeuge Daten (später mehr zu numpy)\n",
    "import numpy as np\n",
    "x = np.arange (-7, 7, 0.5)\n",
    "y = np.sin(x) # vektorielles Rechnen, Ergebnis ist\n",
    "#               ein Vektor von Funktionswerten\n",
    "x[:5]\n"
   ]
  },
  {
   "cell_type": "code",
   "execution_count": 56,
   "id": "54cb4123",
   "metadata": {
    "cell_style": "split",
    "slideshow": {
     "slide_type": "fragment"
    }
   },
   "outputs": [
    {
     "data": {
      "image/png": "[encoded data removed]",
      "text/plain": [
       "<Figure size 640x480 with 1 Axes>"
      ]
     },
     "metadata": {},
     "output_type": "display_data"
    }
   ],
   "source": [
    "# implizites Interface\n",
    "import matplotlib.pyplot as plt\n",
    "plt.plot ( x, y, marker=\".\" );"
   ]
  },
  {
   "cell_type": "code",
   "execution_count": 55,
   "id": "25b05919",
   "metadata": {
    "cell_style": "center",
    "scrolled": false,
    "slideshow": {
     "slide_type": "subslide"
    }
   },
   "outputs": [
    {
     "data": {
      "image/png": "[encoded data removed]",
      "text/plain": [
       "<Figure size 500x200 with 1 Axes>"
      ]
     },
     "metadata": {},
     "output_type": "display_data"
    }
   ],
   "source": [
    "# explizites Interface: nicht möglich im Interface plt.plot ( x,y )\n",
    "fig, ax = plt.subplots ( figsize=(5,2) )\n",
    "ax.plot ( x, y, marker=\".\" );\n",
    "ax.set_xticks ( [i*np.pi for i in range(-2,3)] )\n",
    "ax.set_xticklabels ( [f\"{i}π\" for i in range(-2,3)] );"
   ]
  },
  {
   "cell_type": "markdown",
   "id": "8c842d31",
   "metadata": {
    "cell_style": "split",
    "slideshow": {
     "slide_type": "subslide"
    }
   },
   "source": [
    "**Vokabular:**\n",
    "\n",
    "<img src=\"VL03_Material/matplotlib.png\" width=\"80%\" />\n",
    "<div class=\"tinyfont\">https://matplotlib.org/stable/tutorials/introductory/quick_start.html#sphx-glr-tutorials-introductory-quick-start-py</div>"
   ]
  },
  {
   "cell_type": "markdown",
   "id": "f7bb3189",
   "metadata": {
    "cell_style": "split",
    "slideshow": {
     "slide_type": "fragment"
    }
   },
   "source": [
    "**Grundlegende Plotbefehle:**\n",
    "- `plt.scatter` / `ax.scatter`: Punkte\n",
    "- `plt.plot` / `ax.plot`: Linien\n",
    "\n",
    "**Beschriftungen:**\n",
    "- `plt.xlabel` / `ax.set_xlabel` (ebenso für y)\n",
    "- `plt.xticks` / `ax.set_xticks` (ebenso für y)\n",
    "- \\- / `ax.set_xticklabels` (ebenso für y)\n",
    "- `plt.title` / `ax.set_title`: Titel je Plot\n",
    "- `plt.suptitle` / - : Titel über Subplots\n",
    "\n",
    "**Skalierung und Formatierung:**\n",
    "- `plt.xlim` / `ax.set_xlim` (ebenso für y)\n",
    "- `plt.tight_layout` / - : Subplot-Abstände"
   ]
  },
  {
   "cell_type": "markdown",
   "id": "9cc6f617",
   "metadata": {
    "slideshow": {
     "slide_type": "subslide"
    }
   },
   "source": [
    "Ein Beispiel für einen Plot mit Subplots (weiterhin `x=np.arange(-7,7,0.1)`):"
   ]
  },
  {
   "cell_type": "code",
   "execution_count": 58,
   "id": "12a76e65",
   "metadata": {
    "cell_style": "center",
    "scrolled": true,
    "slideshow": {
     "slide_type": "-"
    }
   },
   "outputs": [
    {
     "name": "stderr",
     "output_type": "stream",
     "text": [
      "C:\\Users\\schirmef\\AppData\\Local\\Temp\\ipykernel_12608\\4138917434.py:12: RuntimeWarning: divide by zero encountered in true_divide\n",
      "  axes[1,1].plot ( x, 1/np.tan(x) ); axes[1,1].set_title ( \"Cotangens\" )\n"
     ]
    },
    {
     "data": {
      "text/plain": [
       "Text(0.5, 1.0, 'Cotangens')"
      ]
     },
     "execution_count": 58,
     "metadata": {},
     "output_type": "execute_result"
    },
    {
     "data": {
      "image/png": "[encoded data removed]",
      "text/plain": [
       "<Figure size 400x200 with 4 Axes>"
      ]
     },
     "metadata": {},
     "output_type": "display_data"
    }
   ],
   "source": [
    "fig, axes = plt.subplots ( figsize=(4,2), nrows=2, ncols=2 )  # Rückgabewert axes ist ein (Numpy) Array\n",
    "# Plot links oben\n",
    "axes[0,0].plot ( x, np.sin(x) ); axes[0,0].set_title ( \"Sinus\" )\n",
    "\n",
    "# Plot rechts oben\n",
    "axes[0,1].plot ( x, np.cos(x) ); axes[0,1].set_title ( \"Cosinus\" )\n",
    "\n",
    "# Plot links unten \n",
    "axes[1,0].plot ( x, np.tan(x) ); axes[1,0].set_title ( \"Tangens\" )\n",
    "\n",
    "# Plot rechts unten \n",
    "axes[1,1].plot ( x, 1/np.tan(x) ); axes[1,1].set_title ( \"Cotangens\" )\n"
   ]
  },
  {
   "cell_type": "markdown",
   "id": "2bc54fc6",
   "metadata": {
    "cell_style": "center",
    "slideshow": {
     "slide_type": "subslide"
    }
   },
   "source": [
    "Korrigiere die Abstände zwischen den Subplots mit `plt.tight_layout` und füge eine Überschrift hinzu:"
   ]
  },
  {
   "cell_type": "code",
   "execution_count": 17,
   "id": "3479d229",
   "metadata": {
    "scrolled": true,
    "slideshow": {
     "slide_type": "-"
    }
   },
   "outputs": [
    {
     "data": {
      "image/png": "[encoded data removed]",
      "text/plain": [
       "<Figure size 400x200 with 4 Axes>"
      ]
     },
     "metadata": {},
     "output_type": "display_data"
    }
   ],
   "source": [
    "fig, axes = plt.subplots ( figsize=(4,2), nrows=2, ncols=2 )  # Rückgabewert axes ist ein (Numpy) Array\n",
    "# Plot links oben\n",
    "axes[0,0].plot ( x, np.sin(x) ); axes[0,0].set_title ( \"Sinus\" )\n",
    "\n",
    "# Plot rechts oben\n",
    "axes[0,1].plot ( x, np.cos(x) ); axes[0,1].set_title ( \"Cosinus\" )\n",
    "\n",
    "# Plot links unten \n",
    "axes[1,0].plot ( x, np.tan(x) ); axes[1,0].set_title ( \"Tangens\" )\n",
    "\n",
    "# Plot rechts unten \n",
    "axes[1,1].plot ( x, 1/np.tan(x) ); axes[1,1].set_title ( \"Cotangens\" )\n",
    "\n",
    "plt.suptitle(\"Trigonometrische Funktionen\")\n",
    "plt.tight_layout( );\n"
   ]
  },
  {
   "cell_type": "markdown",
   "id": "000c228e",
   "metadata": {
    "slideshow": {
     "slide_type": "subslide"
    }
   },
   "source": [
    "Vereinfachung des Codes (damit wir den Plot in den Slides größer machen können) mittels `zip`:"
   ]
  },
  {
   "cell_type": "code",
   "execution_count": 20,
   "id": "8d767ebb",
   "metadata": {
    "cell_style": "split",
    "slideshow": {
     "slide_type": "-"
    }
   },
   "outputs": [
    {
     "data": {
      "image/png": "[encoded data removed]",
      "text/plain": [
       "<Figure size 600x300 with 4 Axes>"
      ]
     },
     "metadata": {},
     "output_type": "display_data"
    }
   ],
   "source": [
    "fig,axes = plt.subplots(figsize=(6,3),nrows=2,ncols=2)\n",
    "\n",
    "for ax, f, title in zip ( axes.flatten(),\n",
    "                          [np.sin, np.cos, np.tan,\n",
    "                           lambda x: 1/np.tan(x)],\n",
    "                          [\"Sinus\", \"Cosinus\",\n",
    "                           \"Tangens\", \"Cotangens\"] ):\n",
    "    ax.plot ( x, f(x) )\n",
    "    ax.set_title ( title )\n",
    "\n",
    "plt.suptitle ( \"Trigonometrische Funktionen\" )\n",
    "plt.tight_layout ( );\n"
   ]
  },
  {
   "cell_type": "code",
   "execution_count": 21,
   "id": "fc41fec5",
   "metadata": {
    "cell_style": "split",
    "slideshow": {
     "slide_type": "fragment"
    }
   },
   "outputs": [
    {
     "data": {
      "text/plain": [
       "array([[1, 2],\n",
       "       [3, 4]])"
      ]
     },
     "execution_count": 21,
     "metadata": {},
     "output_type": "execute_result"
    }
   ],
   "source": [
    "# Rank 2-Array\n",
    "a = np.array ( [[1,2],[3,4]] )\n",
    "a\n"
   ]
  },
  {
   "cell_type": "code",
   "execution_count": 22,
   "id": "e890f7eb",
   "metadata": {
    "cell_style": "split",
    "slideshow": {
     "slide_type": "-"
    }
   },
   "outputs": [
    {
     "data": {
      "text/plain": [
       "array([1, 2, 3, 4])"
      ]
     },
     "execution_count": 22,
     "metadata": {},
     "output_type": "execute_result"
    }
   ],
   "source": [
    "# Mit .flatten wird ein höherdimensionales Array\n",
    "# in ein Array ohne zusätzliche Dimensionen umge-\n",
    "# wandelt\n",
    "a.flatten()\n"
   ]
  },
  {
   "cell_type": "code",
   "execution_count": 28,
   "id": "f666fc1b",
   "metadata": {
    "cell_style": "split",
    "slideshow": {
     "slide_type": "fragment"
    }
   },
   "outputs": [
    {
     "data": {
      "text/plain": [
       "[(1, 4), (2, 5), (3, 6)]"
      ]
     },
     "execution_count": 28,
     "metadata": {},
     "output_type": "execute_result"
    }
   ],
   "source": [
    "# zip zum Verknüpfen von Listen gleicher Länge\n",
    "list ( zip([1,2,3], [4,5,6]) )\n"
   ]
  },
  {
   "cell_type": "markdown",
   "id": "230aed06",
   "metadata": {
    "slideshow": {
     "slide_type": "subslide"
    }
   },
   "source": [
    "Entfernen eines Plots (\"Cotangens ist ja nur 1/Tangens\"):"
   ]
  },
  {
   "cell_type": "code",
   "execution_count": 40,
   "id": "3dc39aad",
   "metadata": {
    "scrolled": true,
    "slideshow": {
     "slide_type": "-"
    }
   },
   "outputs": [
    {
     "data": {
      "image/png": "[encoded data removed]",
      "text/plain": [
       "<Figure size 600x300 with 4 Axes>"
      ]
     },
     "metadata": {},
     "output_type": "display_data"
    }
   ],
   "source": [
    "fig,axes = plt.subplots ( figsize=(6,3), nrows=2, ncols=2)\n",
    "\n",
    "for ax, f, title in zip ( axes.flatten()[:-1], [np.sin, np.cos, np.tan], [\"Sinus\", \"Cosinus\", \"Tangens\"] ):\n",
    "    ax.plot ( x, f(x) )\n",
    "    ax.set_title ( title )\n",
    "\n",
    "axes[1,1].axis(\"off\")\n",
    "\n",
    "plt.suptitle ( \"Trigonometrische Funktionen\" )\n",
    "plt.tight_layout ( );\n"
   ]
  },
  {
   "cell_type": "markdown",
   "id": "caf60ee1",
   "metadata": {
    "slideshow": {
     "slide_type": "subslide"
    }
   },
   "source": [
    "Anordnung in einer Zeile oder Spalte ist sinnvoller. Verwendung von `sharex` und `set_xticklabels`:"
   ]
  },
  {
   "cell_type": "code",
   "execution_count": 52,
   "id": "c05ed7c1",
   "metadata": {
    "cell_style": "center",
    "scrolled": false
   },
   "outputs": [
    {
     "data": {
      "image/png": "[encoded data removed]",
      "text/plain": [
       "<Figure size 600x400 with 3 Axes>"
      ]
     },
     "metadata": {},
     "output_type": "display_data"
    }
   ],
   "source": [
    "fig,axes = plt.subplots ( figsize=(6,4), nrows=3, ncols=1, sharex=True )\n",
    "\n",
    "for ax, f, title in zip ( axes, [np.sin, np.cos, np.tan], [\"Sinus\", \"Cosinus\", \"Tangens\"] ):\n",
    "    ax.plot ( x, f(x) )\n",
    "    ax.set_title ( title )\n",
    "\n",
    "axes[0].set_xticks ( [i*np.pi for i in range(-2,3)] )\n",
    "axes[0].set_xticklabels ( [f\"{i}π\" for i in range(-2,3)] );\n",
    "    \n",
    "plt.tight_layout ( );\n"
   ]
  },
  {
   "cell_type": "markdown",
   "id": "05cfdc07",
   "metadata": {
    "slideshow": {
     "slide_type": "subslide"
    }
   },
   "source": [
    "Abschließend: Text und Annotations."
   ]
  },
  {
   "cell_type": "code",
   "execution_count": 60,
   "id": "a559ecf9",
   "metadata": {
    "slideshow": {
     "slide_type": "-"
    }
   },
   "outputs": [
    {
     "data": {
      "image/png": "[encoded data removed]",
      "text/plain": [
       "<Figure size 600x200 with 1 Axes>"
      ]
     },
     "metadata": {},
     "output_type": "display_data"
    }
   ],
   "source": [
    "fig,ax = plt.subplots ( figsize=(6,2) )\n",
    "\n",
    "ax.plot ( x, np.sin(x), color=\"blue\" )\n",
    "ax.plot ( x, np.cos(x), color=\"green\" )\n",
    "ax.set_xticks ( [i*np.pi for i in range(-2,3)] )\n",
    "ax.set_xticklabels ( [f\"{i}π\" for i in range(-2,3)] );\n",
    "\n",
    "ax.text ( s=\"Sinus\",   x=3,  y=0.5, color=\"blue\"  );\n",
    "ax.text ( s=\"Cosinus\", x=-3, y=0.5, color=\"green\" );\n",
    "# Standardmäßig werden die Koordinaten im \"Datenkoordinatensystem\" angegeben.\n",
    "# Mit transform=ax.transAxes können die Koordinaten auch relativ zum Plotfenster angegeben werden; (0,0) ist dann \"links unten\".\n",
    "\n",
    "ax.annotate ( \"Lokales Minimum des Cosinus\", xy=(np.pi,-1.0), xytext=(5,-2),\n",
    "              arrowprops=dict(color=\"green\"), color=\"green\" );\n"
   ]
  },
  {
   "cell_type": "markdown",
   "id": "a2c4fd2f",
   "metadata": {
    "slideshow": {
     "slide_type": "subslide"
    }
   },
   "source": [
    "### 1.4 Werteskalen"
   ]
  },
  {
   "cell_type": "code",
   "execution_count": 8,
   "id": "27117bf7",
   "metadata": {
    "cell_style": "split",
    "scrolled": true,
    "slideshow": {
     "slide_type": "-"
    }
   },
   "outputs": [
    {
     "data": {
      "text/html": [
       "<div>\n",
       "<style scoped>\n",
       "    .dataframe tbody tr th:only-of-type {\n",
       "        vertical-align: middle;\n",
       "    }\n",
       "\n",
       "    .dataframe tbody tr th {\n",
       "        vertical-align: top;\n",
       "    }\n",
       "\n",
       "    .dataframe thead th {\n",
       "        text-align: right;\n",
       "    }\n",
       "</style>\n",
       "<table border=\"1\" class=\"dataframe\">\n",
       "  <thead>\n",
       "    <tr style=\"text-align: right;\">\n",
       "      <th></th>\n",
       "      <th>Age</th>\n",
       "      <th>Sex</th>\n",
       "      <th>ChestPainType</th>\n",
       "      <th>RestingBP</th>\n",
       "      <th>Cholesterol</th>\n",
       "      <th>FastingBS</th>\n",
       "      <th>RestingECG</th>\n",
       "      <th>MaxHR</th>\n",
       "      <th>ExerciseAngina</th>\n",
       "      <th>Oldpeak</th>\n",
       "      <th>ST_Slope</th>\n",
       "      <th>HeartDisease</th>\n",
       "    </tr>\n",
       "  </thead>\n",
       "  <tbody>\n",
       "    <tr>\n",
       "      <th>0</th>\n",
       "      <td>40</td>\n",
       "      <td>M</td>\n",
       "      <td>ATA</td>\n",
       "      <td>140</td>\n",
       "      <td>289</td>\n",
       "      <td>0</td>\n",
       "      <td>Normal</td>\n",
       "      <td>172</td>\n",
       "      <td>N</td>\n",
       "      <td>0.0</td>\n",
       "      <td>Up</td>\n",
       "      <td>0</td>\n",
       "    </tr>\n",
       "    <tr>\n",
       "      <th>1</th>\n",
       "      <td>49</td>\n",
       "      <td>F</td>\n",
       "      <td>NAP</td>\n",
       "      <td>160</td>\n",
       "      <td>180</td>\n",
       "      <td>0</td>\n",
       "      <td>Normal</td>\n",
       "      <td>156</td>\n",
       "      <td>N</td>\n",
       "      <td>1.0</td>\n",
       "      <td>Flat</td>\n",
       "      <td>1</td>\n",
       "    </tr>\n",
       "    <tr>\n",
       "      <th>2</th>\n",
       "      <td>37</td>\n",
       "      <td>M</td>\n",
       "      <td>ATA</td>\n",
       "      <td>130</td>\n",
       "      <td>283</td>\n",
       "      <td>0</td>\n",
       "      <td>ST</td>\n",
       "      <td>98</td>\n",
       "      <td>N</td>\n",
       "      <td>0.0</td>\n",
       "      <td>Up</td>\n",
       "      <td>0</td>\n",
       "    </tr>\n",
       "    <tr>\n",
       "      <th>3</th>\n",
       "      <td>48</td>\n",
       "      <td>F</td>\n",
       "      <td>ASY</td>\n",
       "      <td>138</td>\n",
       "      <td>214</td>\n",
       "      <td>0</td>\n",
       "      <td>Normal</td>\n",
       "      <td>108</td>\n",
       "      <td>Y</td>\n",
       "      <td>1.5</td>\n",
       "      <td>Flat</td>\n",
       "      <td>1</td>\n",
       "    </tr>\n",
       "    <tr>\n",
       "      <th>4</th>\n",
       "      <td>54</td>\n",
       "      <td>M</td>\n",
       "      <td>NAP</td>\n",
       "      <td>150</td>\n",
       "      <td>195</td>\n",
       "      <td>0</td>\n",
       "      <td>Normal</td>\n",
       "      <td>122</td>\n",
       "      <td>N</td>\n",
       "      <td>0.0</td>\n",
       "      <td>Up</td>\n",
       "      <td>0</td>\n",
       "    </tr>\n",
       "    <tr>\n",
       "      <th>...</th>\n",
       "      <td>...</td>\n",
       "      <td>...</td>\n",
       "      <td>...</td>\n",
       "      <td>...</td>\n",
       "      <td>...</td>\n",
       "      <td>...</td>\n",
       "      <td>...</td>\n",
       "      <td>...</td>\n",
       "      <td>...</td>\n",
       "      <td>...</td>\n",
       "      <td>...</td>\n",
       "      <td>...</td>\n",
       "    </tr>\n",
       "    <tr>\n",
       "      <th>913</th>\n",
       "      <td>45</td>\n",
       "      <td>M</td>\n",
       "      <td>TA</td>\n",
       "      <td>110</td>\n",
       "      <td>264</td>\n",
       "      <td>0</td>\n",
       "      <td>Normal</td>\n",
       "      <td>132</td>\n",
       "      <td>N</td>\n",
       "      <td>1.2</td>\n",
       "      <td>Flat</td>\n",
       "      <td>1</td>\n",
       "    </tr>\n",
       "    <tr>\n",
       "      <th>914</th>\n",
       "      <td>68</td>\n",
       "      <td>M</td>\n",
       "      <td>ASY</td>\n",
       "      <td>144</td>\n",
       "      <td>193</td>\n",
       "      <td>1</td>\n",
       "      <td>Normal</td>\n",
       "      <td>141</td>\n",
       "      <td>N</td>\n",
       "      <td>3.4</td>\n",
       "      <td>Flat</td>\n",
       "      <td>1</td>\n",
       "    </tr>\n",
       "    <tr>\n",
       "      <th>915</th>\n",
       "      <td>57</td>\n",
       "      <td>M</td>\n",
       "      <td>ASY</td>\n",
       "      <td>130</td>\n",
       "      <td>131</td>\n",
       "      <td>0</td>\n",
       "      <td>Normal</td>\n",
       "      <td>115</td>\n",
       "      <td>Y</td>\n",
       "      <td>1.2</td>\n",
       "      <td>Flat</td>\n",
       "      <td>1</td>\n",
       "    </tr>\n",
       "    <tr>\n",
       "      <th>916</th>\n",
       "      <td>57</td>\n",
       "      <td>F</td>\n",
       "      <td>ATA</td>\n",
       "      <td>130</td>\n",
       "      <td>236</td>\n",
       "      <td>0</td>\n",
       "      <td>LVH</td>\n",
       "      <td>174</td>\n",
       "      <td>N</td>\n",
       "      <td>0.0</td>\n",
       "      <td>Flat</td>\n",
       "      <td>1</td>\n",
       "    </tr>\n",
       "    <tr>\n",
       "      <th>917</th>\n",
       "      <td>38</td>\n",
       "      <td>M</td>\n",
       "      <td>NAP</td>\n",
       "      <td>138</td>\n",
       "      <td>175</td>\n",
       "      <td>0</td>\n",
       "      <td>Normal</td>\n",
       "      <td>173</td>\n",
       "      <td>N</td>\n",
       "      <td>0.0</td>\n",
       "      <td>Up</td>\n",
       "      <td>0</td>\n",
       "    </tr>\n",
       "  </tbody>\n",
       "</table>\n",
       "<p>918 rows × 12 columns</p>\n",
       "</div>"
      ],
      "text/plain": [
       "     Age Sex ChestPainType  RestingBP  Cholesterol  FastingBS RestingECG  \\\n",
       "0     40   M           ATA        140          289          0     Normal   \n",
       "1     49   F           NAP        160          180          0     Normal   \n",
       "2     37   M           ATA        130          283          0         ST   \n",
       "3     48   F           ASY        138          214          0     Normal   \n",
       "4     54   M           NAP        150          195          0     Normal   \n",
       "..   ...  ..           ...        ...          ...        ...        ...   \n",
       "913   45   M            TA        110          264          0     Normal   \n",
       "914   68   M           ASY        144          193          1     Normal   \n",
       "915   57   M           ASY        130          131          0     Normal   \n",
       "916   57   F           ATA        130          236          0        LVH   \n",
       "917   38   M           NAP        138          175          0     Normal   \n",
       "\n",
       "     MaxHR ExerciseAngina  Oldpeak ST_Slope  HeartDisease  \n",
       "0      172              N      0.0       Up             0  \n",
       "1      156              N      1.0     Flat             1  \n",
       "2       98              N      0.0       Up             0  \n",
       "3      108              Y      1.5     Flat             1  \n",
       "4      122              N      0.0       Up             0  \n",
       "..     ...            ...      ...      ...           ...  \n",
       "913    132              N      1.2     Flat             1  \n",
       "914    141              N      3.4     Flat             1  \n",
       "915    115              Y      1.2     Flat             1  \n",
       "916    174              N      0.0     Flat             1  \n",
       "917    173              N      0.0       Up             0  \n",
       "\n",
       "[918 rows x 12 columns]"
      ]
     },
     "execution_count": 8,
     "metadata": {},
     "output_type": "execute_result"
    }
   ],
   "source": [
    "import pandas as pd\n",
    "df = pd.read_csv(\"VL02_Material/heart.csv\")\n",
    "df"
   ]
  },
  {
   "cell_type": "markdown",
   "id": "51c610ed",
   "metadata": {
    "cell_style": "split",
    "slideshow": {
     "slide_type": "fragment"
    }
   },
   "source": [
    "Daten können in verschiedenen Skalen vorliegen:\n",
    "\n",
    "**Kategoriale Skalen** (qualitativ, \"kategorische Features\")\n",
    "- **Nominalskala:** keine Ordnung vorhanden,  \n",
    "z.B. {True, False}, {rot,grün,blau}\n",
    "- **Ordinalskala:** Eine Ordnung ist sinnvoll,  \n",
    "z.B. {schlecht, mittel, gut}\n",
    "\n",
    "**Kardinale Skalen** (quantitativ, \"numerische Features\")\n",
    "<div class=\"tinyfont\">(kann noch unterteilt werden in Intervallskala und Verhältnisskala)</div>"
   ]
  },
  {
   "cell_type": "markdown",
   "id": "ae776d5f",
   "metadata": {
    "cell_style": "split",
    "slideshow": {
     "slide_type": "fragment"
    }
   },
   "source": [
    "<div class=\"alert alert-block alert-warning\">\n",
    "<b>Frage:</b> Finden Sie im heart-Datensatz Beispiele für die verschiedenen Skalen?</div>"
   ]
  },
  {
   "cell_type": "markdown",
   "id": "dd95d4e9",
   "metadata": {
    "slideshow": {
     "slide_type": "-"
    }
   },
   "source": [
    " "
   ]
  },
  {
   "cell_type": "code",
   "execution_count": 86,
   "id": "c8ba7a48",
   "metadata": {
    "cell_style": "split",
    "slideshow": {
     "slide_type": "subslide"
    }
   },
   "outputs": [
    {
     "name": "stdout",
     "output_type": "stream",
     "text": [
      "<class 'pandas.core.frame.DataFrame'>\n",
      "RangeIndex: 918 entries, 0 to 917\n",
      "Data columns (total 12 columns):\n",
      " #   Column          Non-Null Count  Dtype  \n",
      "---  ------          --------------  -----  \n",
      " 0   Age             918 non-null    int64  \n",
      " 1   Sex             918 non-null    object \n",
      " 2   ChestPainType   918 non-null    object \n",
      " 3   RestingBP       918 non-null    int64  \n",
      " 4   Cholesterol     918 non-null    int64  \n",
      " 5   FastingBS       918 non-null    int64  \n",
      " 6   RestingECG      918 non-null    object \n",
      " 7   MaxHR           918 non-null    int64  \n",
      " 8   ExerciseAngina  918 non-null    object \n",
      " 9   Oldpeak         918 non-null    float64\n",
      " 10  ST_Slope        918 non-null    object \n",
      " 11  HeartDisease    918 non-null    int64  \n",
      "dtypes: float64(1), int64(6), object(5)\n",
      "memory usage: 86.2+ KB\n"
     ]
    }
   ],
   "source": [
    "df.info()\n",
    "\n",
    "\n"
   ]
  },
  {
   "cell_type": "markdown",
   "id": "611b7b40",
   "metadata": {
    "cell_style": "split",
    "slideshow": {
     "slide_type": "fragment"
    }
   },
   "source": [
    "**Kardinale Skala / numerische Features:**  \n",
    "z.B. Age, Cholesterol, MaxHR, Oldpeak"
   ]
  },
  {
   "cell_type": "markdown",
   "id": "11fea2b2",
   "metadata": {
    "cell_style": "split",
    "slideshow": {
     "slide_type": "fragment"
    }
   },
   "source": [
    "**Kategoriale Skala / kategorische Features:**\n",
    "- Nominalskala: z.B. Sex, ChestPainType, HeartDisease\n",
    "- Ordinalskala: z.B. ST_Slope (?)  \n",
    "\n",
    "&nbsp;  "
   ]
  },
  {
   "cell_type": "code",
   "execution_count": 89,
   "id": "1d47e648",
   "metadata": {
    "cell_style": "split",
    "slideshow": {
     "slide_type": "-"
    }
   },
   "outputs": [
    {
     "data": {
      "text/plain": [
       "array(['Up', 'Flat', 'Down'], dtype=object)"
      ]
     },
     "execution_count": 89,
     "metadata": {},
     "output_type": "execute_result"
    }
   ],
   "source": [
    "df[\"ST_Slope\"].unique()\n"
   ]
  },
  {
   "cell_type": "markdown",
   "id": "b1225b28",
   "metadata": {
    "slideshow": {
     "slide_type": "subslide"
    }
   },
   "source": [
    "**Problem:** Machine Learning Verfahren können i.A. nur mit numerischen Repräsentationen der Daten umgehen."
   ]
  },
  {
   "cell_type": "markdown",
   "id": "fe008fe6",
   "metadata": {
    "cell_style": "split",
    "slideshow": {
     "slide_type": "fragment"
    }
   },
   "source": [
    "Sei $M$ eine diskrete Menge von kategorischen Werten, dann ist das **Label Encoding** eine injektive Funktion $f: M \\rightarrow \\mathbb N$.\n",
    "\n",
    "Beispiel: M = {schlecht, mittel, gut}\n",
    "\n",
    "|  Label  | Label Encoding |\n",
    "| :-----: | :------------: |\n",
    "|  schlecht  |       1        |\n",
    "|  mittel  |       2        |\n",
    "| gut |       3        |\n",
    "\n",
    "\n",
    "Label Encoding kann für **Ordinale Daten** verwendet werden, da diese eine natürliche Reihenfolge aufweisen.\n",
    "\n",
    "<div class=\"tinyfont\">injektiv bedeutet, dass nie zwei unterschiedliche x,y auf das gleiche z abgebildet werden.</div>"
   ]
  },
  {
   "cell_type": "markdown",
   "id": "453b85e9",
   "metadata": {
    "cell_style": "split",
    "slideshow": {
     "slide_type": "fragment"
    }
   },
   "source": [
    "Sei $M$ eine diskrete Menge mit $n$ kategorischen Werten, dann ist das **One-Hot Encoding** eine injektive Funktion $f: M \\rightarrow \\{0,1\\}^n$.\n",
    "\n",
    "Beispiel: M = {Apfel, Birne, Zitrone}\n",
    "\n",
    "| Apfel | Birne | Zitrone |\n",
    "| :---: | :---: | :-----: |\n",
    "|   1   |   0   |    0    |\n",
    "|   0   |   1   |    0    |\n",
    "|   0   |   0   |    1    |\n",
    "\n",
    "\n",
    "One-Hot Encoding sollte für **Nominale Daten** verwendet werden, da diese _keine_ natürliche Reihenfolge aufweisen. Auch für Ordinale Daten verwendbar."
   ]
  },
  {
   "cell_type": "markdown",
   "id": "6fa9dca1",
   "metadata": {
    "slideshow": {
     "slide_type": "subslide"
    }
   },
   "source": [
    "**Encoding mit Pandas:**"
   ]
  },
  {
   "cell_type": "code",
   "execution_count": 92,
   "id": "5bb9aaa4",
   "metadata": {
    "cell_style": "split",
    "slideshow": {
     "slide_type": "fragment"
    }
   },
   "outputs": [
    {
     "data": {
      "text/plain": [
       "0        Up\n",
       "1      Flat\n",
       "2        Up\n",
       "3      Flat\n",
       "4        Up\n",
       "       ... \n",
       "913    Flat\n",
       "914    Flat\n",
       "915    Flat\n",
       "916    Flat\n",
       "917      Up\n",
       "Name: ST_Slope, Length: 918, dtype: category\n",
       "Categories (3, object): ['Down', 'Flat', 'Up']"
      ]
     },
     "execution_count": 92,
     "metadata": {},
     "output_type": "execute_result"
    }
   ],
   "source": [
    "# Standard-Konversion zu Kategorischen Werten;\n",
    "# Nutzen: sparsame Darstellung der Daten.\n",
    "# Problem: Werte sind nicht korrekt angeordnet\n",
    "\n",
    "df[\"ST_Slope\"].astype(\"category\")\n"
   ]
  },
  {
   "cell_type": "code",
   "execution_count": 93,
   "id": "47ec0b40",
   "metadata": {
    "cell_style": "split",
    "slideshow": {
     "slide_type": "fragment"
    }
   },
   "outputs": [
    {
     "data": {
      "text/plain": [
       "0        Up\n",
       "1      Flat\n",
       "2        Up\n",
       "3      Flat\n",
       "4        Up\n",
       "       ... \n",
       "913    Flat\n",
       "914    Flat\n",
       "915    Flat\n",
       "916    Flat\n",
       "917      Up\n",
       "Name: ST_Slope, Length: 918, dtype: category\n",
       "Categories (3, object): ['Down' < 'Flat' < 'Up']"
      ]
     },
     "execution_count": 93,
     "metadata": {},
     "output_type": "execute_result"
    }
   ],
   "source": [
    "# Die Ordnung der Werte kann spezifiziert werden\n",
    "\n",
    "from pandas.api.types import CategoricalDtype\n",
    "cat_type = CategoricalDtype(\n",
    "    categories=[\"Down\", \"Flat\", \"Up\"], ordered=True)\n",
    "\n",
    "df[\"ST_Slope\"].astype(cat_type)\n"
   ]
  },
  {
   "cell_type": "markdown",
   "id": "8ff871c0",
   "metadata": {
    "slideshow": {
     "slide_type": "subslide"
    }
   },
   "source": [
    "**Encoding mit Pandas:**"
   ]
  },
  {
   "cell_type": "code",
   "execution_count": 98,
   "id": "b642308a",
   "metadata": {
    "cell_style": "split",
    "slideshow": {
     "slide_type": "-"
    }
   },
   "outputs": [
    {
     "data": {
      "text/plain": [
       "0      2\n",
       "1      1\n",
       "2      2\n",
       "3      1\n",
       "4      2\n",
       "      ..\n",
       "913    1\n",
       "914    1\n",
       "915    1\n",
       "916    1\n",
       "917    2\n",
       "Length: 918, dtype: int8"
      ]
     },
     "execution_count": 98,
     "metadata": {},
     "output_type": "execute_result"
    }
   ],
   "source": [
    "# Label Encoding\n",
    "# (Alternative: sklearn.preprocessing.OrdinalEncoder)\n",
    "\n",
    "df[\"ST_Slope\"].astype(cat_type).cat.codes\n"
   ]
  },
  {
   "cell_type": "code",
   "execution_count": 62,
   "id": "a05ec876",
   "metadata": {
    "cell_style": "split",
    "slideshow": {
     "slide_type": "fragment"
    }
   },
   "outputs": [
    {
     "data": {
      "text/html": [
       "<div>\n",
       "<style scoped>\n",
       "    .dataframe tbody tr th:only-of-type {\n",
       "        vertical-align: middle;\n",
       "    }\n",
       "\n",
       "    .dataframe tbody tr th {\n",
       "        vertical-align: top;\n",
       "    }\n",
       "\n",
       "    .dataframe thead th {\n",
       "        text-align: right;\n",
       "    }\n",
       "</style>\n",
       "<table border=\"1\" class=\"dataframe\">\n",
       "  <thead>\n",
       "    <tr style=\"text-align: right;\">\n",
       "      <th></th>\n",
       "      <th>ASY</th>\n",
       "      <th>ATA</th>\n",
       "      <th>NAP</th>\n",
       "      <th>TA</th>\n",
       "    </tr>\n",
       "  </thead>\n",
       "  <tbody>\n",
       "    <tr>\n",
       "      <th>0</th>\n",
       "      <td>0</td>\n",
       "      <td>1</td>\n",
       "      <td>0</td>\n",
       "      <td>0</td>\n",
       "    </tr>\n",
       "    <tr>\n",
       "      <th>1</th>\n",
       "      <td>0</td>\n",
       "      <td>0</td>\n",
       "      <td>1</td>\n",
       "      <td>0</td>\n",
       "    </tr>\n",
       "    <tr>\n",
       "      <th>2</th>\n",
       "      <td>0</td>\n",
       "      <td>1</td>\n",
       "      <td>0</td>\n",
       "      <td>0</td>\n",
       "    </tr>\n",
       "    <tr>\n",
       "      <th>3</th>\n",
       "      <td>1</td>\n",
       "      <td>0</td>\n",
       "      <td>0</td>\n",
       "      <td>0</td>\n",
       "    </tr>\n",
       "    <tr>\n",
       "      <th>4</th>\n",
       "      <td>0</td>\n",
       "      <td>0</td>\n",
       "      <td>1</td>\n",
       "      <td>0</td>\n",
       "    </tr>\n",
       "    <tr>\n",
       "      <th>...</th>\n",
       "      <td>...</td>\n",
       "      <td>...</td>\n",
       "      <td>...</td>\n",
       "      <td>...</td>\n",
       "    </tr>\n",
       "    <tr>\n",
       "      <th>913</th>\n",
       "      <td>0</td>\n",
       "      <td>0</td>\n",
       "      <td>0</td>\n",
       "      <td>1</td>\n",
       "    </tr>\n",
       "    <tr>\n",
       "      <th>914</th>\n",
       "      <td>1</td>\n",
       "      <td>0</td>\n",
       "      <td>0</td>\n",
       "      <td>0</td>\n",
       "    </tr>\n",
       "    <tr>\n",
       "      <th>915</th>\n",
       "      <td>1</td>\n",
       "      <td>0</td>\n",
       "      <td>0</td>\n",
       "      <td>0</td>\n",
       "    </tr>\n",
       "    <tr>\n",
       "      <th>916</th>\n",
       "      <td>0</td>\n",
       "      <td>1</td>\n",
       "      <td>0</td>\n",
       "      <td>0</td>\n",
       "    </tr>\n",
       "    <tr>\n",
       "      <th>917</th>\n",
       "      <td>0</td>\n",
       "      <td>0</td>\n",
       "      <td>1</td>\n",
       "      <td>0</td>\n",
       "    </tr>\n",
       "  </tbody>\n",
       "</table>\n",
       "<p>918 rows × 4 columns</p>\n",
       "</div>"
      ],
      "text/plain": [
       "     ASY  ATA  NAP  TA\n",
       "0      0    1    0   0\n",
       "1      0    0    1   0\n",
       "2      0    1    0   0\n",
       "3      1    0    0   0\n",
       "4      0    0    1   0\n",
       "..   ...  ...  ...  ..\n",
       "913    0    0    0   1\n",
       "914    1    0    0   0\n",
       "915    1    0    0   0\n",
       "916    0    1    0   0\n",
       "917    0    0    1   0\n",
       "\n",
       "[918 rows x 4 columns]"
      ]
     },
     "execution_count": 62,
     "metadata": {},
     "output_type": "execute_result"
    }
   ],
   "source": [
    "# One-Hot-Encoding\n",
    "# (Alternative: sklearn.preprocessing.OneHotEncoder)\n",
    "\n",
    "pd.get_dummies ( df[\"ChestPainType\"] )\n"
   ]
  },
  {
   "cell_type": "markdown",
   "id": "1c99b771",
   "metadata": {
    "slideshow": {
     "slide_type": "subslide"
    }
   },
   "source": [
    "**One-Hot-Encoding mit pandas** (Achtung: Die Originaldaten bleiben unverändert; der Rückgabewert muss händisch aufgefangen und in die Daten integriert werden):"
   ]
  },
  {
   "cell_type": "code",
   "execution_count": 11,
   "id": "343533ae",
   "metadata": {
    "cell_style": "split",
    "slideshow": {
     "slide_type": "fragment"
    }
   },
   "outputs": [
    {
     "data": {
      "text/html": [
       "<div>\n",
       "<style scoped>\n",
       "    .dataframe tbody tr th:only-of-type {\n",
       "        vertical-align: middle;\n",
       "    }\n",
       "\n",
       "    .dataframe tbody tr th {\n",
       "        vertical-align: top;\n",
       "    }\n",
       "\n",
       "    .dataframe thead th {\n",
       "        text-align: right;\n",
       "    }\n",
       "</style>\n",
       "<table border=\"1\" class=\"dataframe\">\n",
       "  <thead>\n",
       "    <tr style=\"text-align: right;\">\n",
       "      <th></th>\n",
       "      <th>F</th>\n",
       "      <th>M</th>\n",
       "    </tr>\n",
       "  </thead>\n",
       "  <tbody>\n",
       "    <tr>\n",
       "      <th>0</th>\n",
       "      <td>0</td>\n",
       "      <td>1</td>\n",
       "    </tr>\n",
       "    <tr>\n",
       "      <th>1</th>\n",
       "      <td>1</td>\n",
       "      <td>0</td>\n",
       "    </tr>\n",
       "    <tr>\n",
       "      <th>2</th>\n",
       "      <td>0</td>\n",
       "      <td>1</td>\n",
       "    </tr>\n",
       "    <tr>\n",
       "      <th>3</th>\n",
       "      <td>1</td>\n",
       "      <td>0</td>\n",
       "    </tr>\n",
       "    <tr>\n",
       "      <th>4</th>\n",
       "      <td>0</td>\n",
       "      <td>1</td>\n",
       "    </tr>\n",
       "    <tr>\n",
       "      <th>...</th>\n",
       "      <td>...</td>\n",
       "      <td>...</td>\n",
       "    </tr>\n",
       "    <tr>\n",
       "      <th>913</th>\n",
       "      <td>0</td>\n",
       "      <td>1</td>\n",
       "    </tr>\n",
       "    <tr>\n",
       "      <th>914</th>\n",
       "      <td>0</td>\n",
       "      <td>1</td>\n",
       "    </tr>\n",
       "    <tr>\n",
       "      <th>915</th>\n",
       "      <td>0</td>\n",
       "      <td>1</td>\n",
       "    </tr>\n",
       "    <tr>\n",
       "      <th>916</th>\n",
       "      <td>1</td>\n",
       "      <td>0</td>\n",
       "    </tr>\n",
       "    <tr>\n",
       "      <th>917</th>\n",
       "      <td>0</td>\n",
       "      <td>1</td>\n",
       "    </tr>\n",
       "  </tbody>\n",
       "</table>\n",
       "<p>918 rows × 2 columns</p>\n",
       "</div>"
      ],
      "text/plain": [
       "     F  M\n",
       "0    0  1\n",
       "1    1  0\n",
       "2    0  1\n",
       "3    1  0\n",
       "4    0  1\n",
       "..  .. ..\n",
       "913  0  1\n",
       "914  0  1\n",
       "915  0  1\n",
       "916  1  0\n",
       "917  0  1\n",
       "\n",
       "[918 rows x 2 columns]"
      ]
     },
     "execution_count": 11,
     "metadata": {},
     "output_type": "execute_result"
    }
   ],
   "source": [
    "pd.get_dummies ( df[\"Sex\"] )\n"
   ]
  },
  {
   "cell_type": "code",
   "execution_count": 12,
   "id": "f2597cf1",
   "metadata": {
    "cell_style": "split",
    "scrolled": true,
    "slideshow": {
     "slide_type": "fragment"
    }
   },
   "outputs": [
    {
     "data": {
      "text/html": [
       "<div>\n",
       "<style scoped>\n",
       "    .dataframe tbody tr th:only-of-type {\n",
       "        vertical-align: middle;\n",
       "    }\n",
       "\n",
       "    .dataframe tbody tr th {\n",
       "        vertical-align: top;\n",
       "    }\n",
       "\n",
       "    .dataframe thead th {\n",
       "        text-align: right;\n",
       "    }\n",
       "</style>\n",
       "<table border=\"1\" class=\"dataframe\">\n",
       "  <thead>\n",
       "    <tr style=\"text-align: right;\">\n",
       "      <th></th>\n",
       "      <th>M</th>\n",
       "    </tr>\n",
       "  </thead>\n",
       "  <tbody>\n",
       "    <tr>\n",
       "      <th>0</th>\n",
       "      <td>1</td>\n",
       "    </tr>\n",
       "    <tr>\n",
       "      <th>1</th>\n",
       "      <td>0</td>\n",
       "    </tr>\n",
       "    <tr>\n",
       "      <th>2</th>\n",
       "      <td>1</td>\n",
       "    </tr>\n",
       "    <tr>\n",
       "      <th>3</th>\n",
       "      <td>0</td>\n",
       "    </tr>\n",
       "    <tr>\n",
       "      <th>4</th>\n",
       "      <td>1</td>\n",
       "    </tr>\n",
       "    <tr>\n",
       "      <th>...</th>\n",
       "      <td>...</td>\n",
       "    </tr>\n",
       "    <tr>\n",
       "      <th>913</th>\n",
       "      <td>1</td>\n",
       "    </tr>\n",
       "    <tr>\n",
       "      <th>914</th>\n",
       "      <td>1</td>\n",
       "    </tr>\n",
       "    <tr>\n",
       "      <th>915</th>\n",
       "      <td>1</td>\n",
       "    </tr>\n",
       "    <tr>\n",
       "      <th>916</th>\n",
       "      <td>0</td>\n",
       "    </tr>\n",
       "    <tr>\n",
       "      <th>917</th>\n",
       "      <td>1</td>\n",
       "    </tr>\n",
       "  </tbody>\n",
       "</table>\n",
       "<p>918 rows × 1 columns</p>\n",
       "</div>"
      ],
      "text/plain": [
       "     M\n",
       "0    1\n",
       "1    0\n",
       "2    1\n",
       "3    0\n",
       "4    1\n",
       "..  ..\n",
       "913  1\n",
       "914  1\n",
       "915  1\n",
       "916  0\n",
       "917  1\n",
       "\n",
       "[918 rows x 1 columns]"
      ]
     },
     "execution_count": 12,
     "metadata": {},
     "output_type": "execute_result"
    }
   ],
   "source": [
    "pd.get_dummies ( df[\"Sex\"], drop_first=True )\n",
    "# Parameter drop_first=True,\n",
    "# um n-1 statt n Spalten zu erhalten\n",
    "# (eliminiert lineare Abhängigkeit der Spalten)\n"
   ]
  },
  {
   "cell_type": "markdown",
   "id": "0d703f2d",
   "metadata": {
    "slideshow": {
     "slide_type": "subslide"
    }
   },
   "source": [
    "**Label Encoding mit sklearn:**"
   ]
  },
  {
   "cell_type": "code",
   "execution_count": 66,
   "id": "d3e89946",
   "metadata": {
    "slideshow": {
     "slide_type": "fragment"
    }
   },
   "outputs": [
    {
     "data": {
      "text/plain": [
       "array([[2.],\n",
       "       [0.],\n",
       "       [0.],\n",
       "       [1.]])"
      ]
     },
     "execution_count": 66,
     "metadata": {},
     "output_type": "execute_result"
    }
   ],
   "source": [
    "# Der Vorteil der sklearn-Funktionen liegt darin, dass diese eine getrennte\n",
    "# .fit und .transform sowie eine .inverse_transform-Funktionalität anbieten.\n",
    "#    .fit / .fit_transform: Wird auf den Trainingsdaten angewendet\n",
    "#    .transform: Wird auf den Testdaten angewendet\n",
    "\n",
    "from sklearn.preprocessing import OrdinalEncoder\n",
    "enc = OrdinalEncoder ( categories=[[\"Apfel\",\"Birne\",\"Zitrone\"]], handle_unknown=\"use_encoded_value\", unknown_value=-1 )\n",
    "enc.fit_transform ( [[\"Zitrone\"],[\"Apfel\"],[\"Apfel\"],[\"Birne\"]] )\n"
   ]
  },
  {
   "cell_type": "code",
   "execution_count": 67,
   "id": "bc299041",
   "metadata": {
    "slideshow": {
     "slide_type": "fragment"
    }
   },
   "outputs": [
    {
     "data": {
      "text/plain": [
       "array([[ 2.],\n",
       "       [-1.]])"
      ]
     },
     "execution_count": 67,
     "metadata": {},
     "output_type": "execute_result"
    }
   ],
   "source": [
    "# Anwendung auf neue Daten (\"Pflaume\" wurde während des Trainings nicht gesehen)\n",
    "enc.transform ( [[\"Zitrone\"],[\"Pflaume\"]] )\n"
   ]
  },
  {
   "cell_type": "code",
   "execution_count": 121,
   "id": "fbd39282",
   "metadata": {
    "slideshow": {
     "slide_type": "fragment"
    }
   },
   "outputs": [
    {
     "data": {
      "text/plain": [
       "array([['Zitrone'],\n",
       "       ['Birne'],\n",
       "       ['Apfel'],\n",
       "       [None]], dtype=object)"
      ]
     },
     "execution_count": 121,
     "metadata": {},
     "output_type": "execute_result"
    }
   ],
   "source": [
    "enc.inverse_transform ( [[2],[1],[0],[-1]] )\n"
   ]
  },
  {
   "cell_type": "markdown",
   "id": "b2008cfc",
   "metadata": {
    "slideshow": {
     "slide_type": "subslide"
    }
   },
   "source": [
    "**One-Hot-Encoding mit sklearn:**"
   ]
  },
  {
   "cell_type": "code",
   "execution_count": 20,
   "id": "b1e22aec",
   "metadata": {
    "slideshow": {
     "slide_type": "fragment"
    }
   },
   "outputs": [
    {
     "data": {
      "text/plain": [
       "<4x3 sparse matrix of type '<class 'numpy.float64'>'\n",
       "\twith 4 stored elements in Compressed Sparse Row format>"
      ]
     },
     "execution_count": 20,
     "metadata": {},
     "output_type": "execute_result"
    }
   ],
   "source": [
    "from sklearn.preprocessing import OneHotEncoder\n",
    "enc = OneHotEncoder ( )\n",
    "enc.fit_transform ( [[\"Zitrone\"],[\"Apfel\"],[\"Apfel\"],[\"Birne\"]] )\n"
   ]
  },
  {
   "cell_type": "code",
   "execution_count": 22,
   "id": "9d1518a0",
   "metadata": {
    "slideshow": {
     "slide_type": "fragment"
    }
   },
   "outputs": [
    {
     "data": {
      "text/plain": [
       "array([[0., 0., 1.],\n",
       "       [1., 0., 0.],\n",
       "       [1., 0., 0.],\n",
       "       [0., 1., 0.]])"
      ]
     },
     "execution_count": 22,
     "metadata": {},
     "output_type": "execute_result"
    }
   ],
   "source": [
    "enc = OneHotEncoder ( sparse_output=False )\n",
    "enc.fit_transform ( [[\"Zitrone\"],\n",
    "                     [\"Apfel\"],\n",
    "                     [\"Apfel\"],\n",
    "                     [\"Birne\"]] ) # doppelte Klammer, weil man mehrere Spalten gleichzeitig one-hot-encoden könnte"
   ]
  },
  {
   "cell_type": "code",
   "execution_count": 25,
   "id": "354ccd3c",
   "metadata": {
    "slideshow": {
     "slide_type": "fragment"
    }
   },
   "outputs": [
    {
     "data": {
      "text/plain": [
       "[array(['Apfel', 'Birne', 'Zitrone'], dtype=object)]"
      ]
     },
     "execution_count": 25,
     "metadata": {},
     "output_type": "execute_result"
    }
   ],
   "source": [
    "enc.categories_"
   ]
  },
  {
   "cell_type": "code",
   "execution_count": 71,
   "id": "fcd06741",
   "metadata": {
    "scrolled": false,
    "slideshow": {
     "slide_type": "fragment"
    }
   },
   "outputs": [
    {
     "ename": "ValueError",
     "evalue": "Found unknown categories ['Pflaume'] in column 0 during transform",
     "output_type": "error",
     "traceback": [
      "\u001b[1;31m---------------------------------------------------------------------------\u001b[0m",
      "\u001b[1;31mValueError\u001b[0m                                Traceback (most recent call last)",
      "Cell \u001b[1;32mIn[71], line 3\u001b[0m\n\u001b[0;32m      1\u001b[0m \u001b[38;5;66;03m# Anwendung auf neue Daten (\"Pflaume\" wurde während des Trainings nicht gesehen)\u001b[39;00m\n\u001b[0;32m      2\u001b[0m \u001b[38;5;66;03m# => Fehlermeldung; verwende stattdessen handle_unknown=\"ignore\" im Konstruktor\u001b[39;00m\n\u001b[1;32m----> 3\u001b[0m \u001b[43menc\u001b[49m\u001b[38;5;241;43m.\u001b[39;49m\u001b[43mtransform\u001b[49m\u001b[43m \u001b[49m\u001b[43m(\u001b[49m\u001b[43m \u001b[49m\u001b[43m[\u001b[49m\u001b[43m[\u001b[49m\u001b[38;5;124;43m\"\u001b[39;49m\u001b[38;5;124;43mZitrone\u001b[39;49m\u001b[38;5;124;43m\"\u001b[39;49m\u001b[43m]\u001b[49m\u001b[43m,\u001b[49m\u001b[43m[\u001b[49m\u001b[38;5;124;43m\"\u001b[39;49m\u001b[38;5;124;43mPflaume\u001b[39;49m\u001b[38;5;124;43m\"\u001b[39;49m\u001b[43m]\u001b[49m\u001b[43m]\u001b[49m\u001b[43m \u001b[49m\u001b[43m)\u001b[49m\n",
      "File \u001b[1;32m~\\Anaconda3\\envs\\ttz_base\\lib\\site-packages\\sklearn\\utils\\_set_output.py:140\u001b[0m, in \u001b[0;36m_wrap_method_output.<locals>.wrapped\u001b[1;34m(self, X, *args, **kwargs)\u001b[0m\n\u001b[0;32m    138\u001b[0m \u001b[38;5;129m@wraps\u001b[39m(f)\n\u001b[0;32m    139\u001b[0m \u001b[38;5;28;01mdef\u001b[39;00m \u001b[38;5;21mwrapped\u001b[39m(\u001b[38;5;28mself\u001b[39m, X, \u001b[38;5;241m*\u001b[39margs, \u001b[38;5;241m*\u001b[39m\u001b[38;5;241m*\u001b[39mkwargs):\n\u001b[1;32m--> 140\u001b[0m     data_to_wrap \u001b[38;5;241m=\u001b[39m f(\u001b[38;5;28mself\u001b[39m, X, \u001b[38;5;241m*\u001b[39margs, \u001b[38;5;241m*\u001b[39m\u001b[38;5;241m*\u001b[39mkwargs)\n\u001b[0;32m    141\u001b[0m     \u001b[38;5;28;01mif\u001b[39;00m \u001b[38;5;28misinstance\u001b[39m(data_to_wrap, \u001b[38;5;28mtuple\u001b[39m):\n\u001b[0;32m    142\u001b[0m         \u001b[38;5;66;03m# only wrap the first output for cross decomposition\u001b[39;00m\n\u001b[0;32m    143\u001b[0m         \u001b[38;5;28;01mreturn\u001b[39;00m (\n\u001b[0;32m    144\u001b[0m             _wrap_data_with_container(method, data_to_wrap[\u001b[38;5;241m0\u001b[39m], X, \u001b[38;5;28mself\u001b[39m),\n\u001b[0;32m    145\u001b[0m             \u001b[38;5;241m*\u001b[39mdata_to_wrap[\u001b[38;5;241m1\u001b[39m:],\n\u001b[0;32m    146\u001b[0m         )\n",
      "File \u001b[1;32m~\\Anaconda3\\envs\\ttz_base\\lib\\site-packages\\sklearn\\preprocessing\\_encoders.py:917\u001b[0m, in \u001b[0;36mOneHotEncoder.transform\u001b[1;34m(self, X)\u001b[0m\n\u001b[0;32m    912\u001b[0m \u001b[38;5;66;03m# validation of X happens in _check_X called by _transform\u001b[39;00m\n\u001b[0;32m    913\u001b[0m warn_on_unknown \u001b[38;5;241m=\u001b[39m \u001b[38;5;28mself\u001b[39m\u001b[38;5;241m.\u001b[39mdrop \u001b[38;5;129;01mis\u001b[39;00m \u001b[38;5;129;01mnot\u001b[39;00m \u001b[38;5;28;01mNone\u001b[39;00m \u001b[38;5;129;01mand\u001b[39;00m \u001b[38;5;28mself\u001b[39m\u001b[38;5;241m.\u001b[39mhandle_unknown \u001b[38;5;129;01min\u001b[39;00m {\n\u001b[0;32m    914\u001b[0m     \u001b[38;5;124m\"\u001b[39m\u001b[38;5;124mignore\u001b[39m\u001b[38;5;124m\"\u001b[39m,\n\u001b[0;32m    915\u001b[0m     \u001b[38;5;124m\"\u001b[39m\u001b[38;5;124minfrequent_if_exist\u001b[39m\u001b[38;5;124m\"\u001b[39m,\n\u001b[0;32m    916\u001b[0m }\n\u001b[1;32m--> 917\u001b[0m X_int, X_mask \u001b[38;5;241m=\u001b[39m \u001b[38;5;28;43mself\u001b[39;49m\u001b[38;5;241;43m.\u001b[39;49m\u001b[43m_transform\u001b[49m\u001b[43m(\u001b[49m\n\u001b[0;32m    918\u001b[0m \u001b[43m    \u001b[49m\u001b[43mX\u001b[49m\u001b[43m,\u001b[49m\n\u001b[0;32m    919\u001b[0m \u001b[43m    \u001b[49m\u001b[43mhandle_unknown\u001b[49m\u001b[38;5;241;43m=\u001b[39;49m\u001b[38;5;28;43mself\u001b[39;49m\u001b[38;5;241;43m.\u001b[39;49m\u001b[43mhandle_unknown\u001b[49m\u001b[43m,\u001b[49m\n\u001b[0;32m    920\u001b[0m \u001b[43m    \u001b[49m\u001b[43mforce_all_finite\u001b[49m\u001b[38;5;241;43m=\u001b[39;49m\u001b[38;5;124;43m\"\u001b[39;49m\u001b[38;5;124;43mallow-nan\u001b[39;49m\u001b[38;5;124;43m\"\u001b[39;49m\u001b[43m,\u001b[49m\n\u001b[0;32m    921\u001b[0m \u001b[43m    \u001b[49m\u001b[43mwarn_on_unknown\u001b[49m\u001b[38;5;241;43m=\u001b[39;49m\u001b[43mwarn_on_unknown\u001b[49m\u001b[43m,\u001b[49m\n\u001b[0;32m    922\u001b[0m \u001b[43m\u001b[49m\u001b[43m)\u001b[49m\n\u001b[0;32m    923\u001b[0m \u001b[38;5;28mself\u001b[39m\u001b[38;5;241m.\u001b[39m_map_infrequent_categories(X_int, X_mask)\n\u001b[0;32m    925\u001b[0m n_samples, n_features \u001b[38;5;241m=\u001b[39m X_int\u001b[38;5;241m.\u001b[39mshape\n",
      "File \u001b[1;32m~\\Anaconda3\\envs\\ttz_base\\lib\\site-packages\\sklearn\\preprocessing\\_encoders.py:174\u001b[0m, in \u001b[0;36m_BaseEncoder._transform\u001b[1;34m(self, X, handle_unknown, force_all_finite, warn_on_unknown)\u001b[0m\n\u001b[0;32m    169\u001b[0m \u001b[38;5;28;01mif\u001b[39;00m handle_unknown \u001b[38;5;241m==\u001b[39m \u001b[38;5;124m\"\u001b[39m\u001b[38;5;124merror\u001b[39m\u001b[38;5;124m\"\u001b[39m:\n\u001b[0;32m    170\u001b[0m     msg \u001b[38;5;241m=\u001b[39m (\n\u001b[0;32m    171\u001b[0m         \u001b[38;5;124m\"\u001b[39m\u001b[38;5;124mFound unknown categories \u001b[39m\u001b[38;5;132;01m{0}\u001b[39;00m\u001b[38;5;124m in column \u001b[39m\u001b[38;5;132;01m{1}\u001b[39;00m\u001b[38;5;124m\"\u001b[39m\n\u001b[0;32m    172\u001b[0m         \u001b[38;5;124m\"\u001b[39m\u001b[38;5;124m during transform\u001b[39m\u001b[38;5;124m\"\u001b[39m\u001b[38;5;241m.\u001b[39mformat(diff, i)\n\u001b[0;32m    173\u001b[0m     )\n\u001b[1;32m--> 174\u001b[0m     \u001b[38;5;28;01mraise\u001b[39;00m \u001b[38;5;167;01mValueError\u001b[39;00m(msg)\n\u001b[0;32m    175\u001b[0m \u001b[38;5;28;01melse\u001b[39;00m:\n\u001b[0;32m    176\u001b[0m     \u001b[38;5;28;01mif\u001b[39;00m warn_on_unknown:\n",
      "\u001b[1;31mValueError\u001b[0m: Found unknown categories ['Pflaume'] in column 0 during transform"
     ]
    }
   ],
   "source": [
    " # Anwendung auf neue Daten (\"Pflaume\" wurde während des Trainings nicht gesehen)\n",
    "# => Fehlermeldung; verwende stattdessen handle_unknown=\"ignore\" im Konstruktor\n",
    "enc.transform ( [[\"Zitrone\"],[\"Pflaume\"]] )"
   ]
  },
  {
   "cell_type": "markdown",
   "id": "fb8d7bb8",
   "metadata": {
    "slideshow": {
     "slide_type": "subslide"
    }
   },
   "source": [
    "### 1.5 Zusammenfassung"
   ]
  },
  {
   "cell_type": "markdown",
   "id": "f79b09ab",
   "metadata": {
    "slideshow": {
     "slide_type": "fragment"
    }
   },
   "source": [
    "**Visualisierung:**\n",
    "1. Für Visualisierungen in Python kann `matplotlib`, `pandas`, `seaborn` verwendet werden  \n",
    "(und weitere Paketen z.B. zur interaktiven Datenexploration)\n",
    "2. Da unser Ausgangspunkt oft `pandas`-Daten sind, ist die `pandas`-Funktionalität bequem\n",
    "3. `pandas` bietet einen Wrapper um `matplotlib`-Funktionen, Befehle können kombiniert werden"
   ]
  },
  {
   "cell_type": "markdown",
   "id": "e9cbffdc",
   "metadata": {
    "slideshow": {
     "slide_type": "fragment"
    }
   },
   "source": [
    "**Skalen und Encodings:**\n",
    "1. Skalen nominal / ordinal (qualitativ, \"kategorisch\") und kardinal (quantitativ)\n",
    "2. Label Encoding und One-Hot Encoding für kategorische Werte (Label Encoding nur für Ordinal-Skala)\n",
    "3. **Zusammengefasst: One-Hot-Encoding als Standard-Verfahren zum Kodieren kategorischer Werte**"
   ]
  },
  {
   "cell_type": "markdown",
   "id": "495a1155",
   "metadata": {
    "cell_style": "split",
    "slideshow": {
     "slide_type": "slide"
    }
   },
   "source": [
    "<img src=\"VL03_Material/datenarten.png\" width=\"80%\" />\n",
    "<div class=\"tinyfont\">Abb. 3 aus: Nazemi, Kawa & Kaupp, Lukas & Burkhardt, Dirk & Below, Nicola. (2021). Datenvisualisierung. 10.1515/9783110657807-026.</div>"
   ]
  },
  {
   "cell_type": "markdown",
   "id": "4683d6f0",
   "metadata": {
    "cell_style": "split",
    "slideshow": {
     "slide_type": "-"
    }
   },
   "source": [
    "# <div>1. Visualisierung und Encodings</div>\n",
    "# <div style=\"color:blue;\">2. DecisionTreeClassifier</div>"
   ]
  },
  {
   "cell_type": "code",
   "execution_count": 3,
   "id": "21838217",
   "metadata": {
    "slideshow": {
     "slide_type": "subslide"
    }
   },
   "outputs": [
    {
     "data": {
      "image/png": "[encoded data removed]",
      "text/plain": [
       "<Figure size 1000x400 with 12 Axes>"
      ]
     },
     "metadata": {},
     "output_type": "display_data"
    }
   ],
   "source": [
    "def show_heartdata ( df ): # Alternative z.B. seaborn.pairplot\n",
    "    fig, axes = plt.subplots ( figsize=(10,4), nrows=2, ncols=len(df.columns)//2 )\n",
    "    for c,ax in zip ( df.columns, axes.flatten() ):\n",
    "        ax.set_title(c)\n",
    "        for hd in [0,1]:\n",
    "            if df[c].dtype == \"object\":\n",
    "                df[c][df[\"HeartDisease\"]==hd].value_counts().plot.bar( ax=ax, alpha=0.5, color=\"red\" if hd==1 else \"green\" )\n",
    "            else:\n",
    "                df[c][df[\"HeartDisease\"]==hd].plot.hist ( ax=ax, alpha=0.5, color=\"red\" if hd==1 else \"green\" )\n",
    "    plt.tight_layout();\n",
    "    \n",
    "show_heartdata ( df )"
   ]
  },
  {
   "cell_type": "markdown",
   "id": "14f2dd2a",
   "metadata": {
    "slideshow": {
     "slide_type": "subslide"
    }
   },
   "source": [
    "### 3.1 Daten-Preprocessing\n",
    "\n",
    "**Konvention:** Die Daten sollen in einer Datenmatrix `X` und einem Zielvektor `y` vorliegen."
   ]
  },
  {
   "cell_type": "code",
   "execution_count": 4,
   "id": "58f4888f",
   "metadata": {
    "slideshow": {
     "slide_type": "fragment"
    }
   },
   "outputs": [],
   "source": [
    "X = df.iloc[:600,:-1].copy()     # wir nehmen nur die ersten 600 Zeilen zum Trainieren.\n",
    "y = df.iloc[:600,-1].copy()      # Die letzte Spalte \"HeartDisease\" wird in eine Variable y absepariert.\n",
    "                                 # (.loc/.iloc als Notation zum Zugriff auf Datenzeilen in pandas -- später dazu mehr)\n"
   ]
  },
  {
   "cell_type": "markdown",
   "id": "a2343318",
   "metadata": {
    "slideshow": {
     "slide_type": "fragment"
    }
   },
   "source": [
    "Umwandlung kategorischer in numerische Features (schlecht, aber schnell: alles via Label Encoding -> Hausaufgabe):"
   ]
  },
  {
   "cell_type": "code",
   "execution_count": 7,
   "id": "6aa4ce96",
   "metadata": {
    "scrolled": false,
    "slideshow": {
     "slide_type": "-"
    }
   },
   "outputs": [
    {
     "data": {
      "text/html": [
       "<div>\n",
       "<style scoped>\n",
       "    .dataframe tbody tr th:only-of-type {\n",
       "        vertical-align: middle;\n",
       "    }\n",
       "\n",
       "    .dataframe tbody tr th {\n",
       "        vertical-align: top;\n",
       "    }\n",
       "\n",
       "    .dataframe thead th {\n",
       "        text-align: right;\n",
       "    }\n",
       "</style>\n",
       "<table border=\"1\" class=\"dataframe\">\n",
       "  <thead>\n",
       "    <tr style=\"text-align: right;\">\n",
       "      <th></th>\n",
       "      <th>Age</th>\n",
       "      <th>Sex</th>\n",
       "      <th>ChestPainType</th>\n",
       "      <th>RestingBP</th>\n",
       "      <th>Cholesterol</th>\n",
       "      <th>FastingBS</th>\n",
       "      <th>RestingECG</th>\n",
       "      <th>MaxHR</th>\n",
       "      <th>ExerciseAngina</th>\n",
       "      <th>Oldpeak</th>\n",
       "      <th>ST_Slope</th>\n",
       "    </tr>\n",
       "  </thead>\n",
       "  <tbody>\n",
       "    <tr>\n",
       "      <th>0</th>\n",
       "      <td>12.0</td>\n",
       "      <td>1.0</td>\n",
       "      <td>1.0</td>\n",
       "      <td>35.0</td>\n",
       "      <td>134.0</td>\n",
       "      <td>0.0</td>\n",
       "      <td>1.0</td>\n",
       "      <td>93.0</td>\n",
       "      <td>0.0</td>\n",
       "      <td>10.0</td>\n",
       "      <td>2.0</td>\n",
       "    </tr>\n",
       "    <tr>\n",
       "      <th>1</th>\n",
       "      <td>21.0</td>\n",
       "      <td>0.0</td>\n",
       "      <td>2.0</td>\n",
       "      <td>48.0</td>\n",
       "      <td>33.0</td>\n",
       "      <td>0.0</td>\n",
       "      <td>1.0</td>\n",
       "      <td>79.0</td>\n",
       "      <td>0.0</td>\n",
       "      <td>19.0</td>\n",
       "      <td>1.0</td>\n",
       "    </tr>\n",
       "    <tr>\n",
       "      <th>2</th>\n",
       "      <td>9.0</td>\n",
       "      <td>1.0</td>\n",
       "      <td>1.0</td>\n",
       "      <td>25.0</td>\n",
       "      <td>129.0</td>\n",
       "      <td>0.0</td>\n",
       "      <td>2.0</td>\n",
       "      <td>24.0</td>\n",
       "      <td>0.0</td>\n",
       "      <td>10.0</td>\n",
       "      <td>2.0</td>\n",
       "    </tr>\n",
       "    <tr>\n",
       "      <th>3</th>\n",
       "      <td>20.0</td>\n",
       "      <td>0.0</td>\n",
       "      <td>0.0</td>\n",
       "      <td>33.0</td>\n",
       "      <td>63.0</td>\n",
       "      <td>0.0</td>\n",
       "      <td>1.0</td>\n",
       "      <td>33.0</td>\n",
       "      <td>1.0</td>\n",
       "      <td>24.0</td>\n",
       "      <td>1.0</td>\n",
       "    </tr>\n",
       "    <tr>\n",
       "      <th>4</th>\n",
       "      <td>26.0</td>\n",
       "      <td>1.0</td>\n",
       "      <td>2.0</td>\n",
       "      <td>42.0</td>\n",
       "      <td>45.0</td>\n",
       "      <td>0.0</td>\n",
       "      <td>1.0</td>\n",
       "      <td>47.0</td>\n",
       "      <td>0.0</td>\n",
       "      <td>10.0</td>\n",
       "      <td>2.0</td>\n",
       "    </tr>\n",
       "  </tbody>\n",
       "</table>\n",
       "</div>"
      ],
      "text/plain": [
       "    Age  Sex  ChestPainType  RestingBP  Cholesterol  FastingBS  RestingECG  \\\n",
       "0  12.0  1.0            1.0       35.0        134.0        0.0         1.0   \n",
       "1  21.0  0.0            2.0       48.0         33.0        0.0         1.0   \n",
       "2   9.0  1.0            1.0       25.0        129.0        0.0         2.0   \n",
       "3  20.0  0.0            0.0       33.0         63.0        0.0         1.0   \n",
       "4  26.0  1.0            2.0       42.0         45.0        0.0         1.0   \n",
       "\n",
       "   MaxHR  ExerciseAngina  Oldpeak  ST_Slope  \n",
       "0   93.0             0.0     10.0       2.0  \n",
       "1   79.0             0.0     19.0       1.0  \n",
       "2   24.0             0.0     10.0       2.0  \n",
       "3   33.0             1.0     24.0       1.0  \n",
       "4   47.0             0.0     10.0       2.0  "
      ]
     },
     "execution_count": 7,
     "metadata": {},
     "output_type": "execute_result"
    }
   ],
   "source": [
    "from sklearn.preprocessing import OrdinalEncoder\n",
    "enc = OrdinalEncoder(handle_unknown=\"use_encoded_value\", unknown_value=-1)\n",
    "X = pd.DataFrame ( enc.fit_transform(X.values), columns = X.columns ) # Spaltennamen gehen leider sonst verloren\n",
    "X.head() # Die Spalte \"HeartDisease\" fehlt, diese wird separat in der Variable y gespeichert.\n"
   ]
  },
  {
   "cell_type": "markdown",
   "id": "84c2480a",
   "metadata": {
    "slideshow": {
     "slide_type": "subslide"
    }
   },
   "source": [
    "### 3.2 Der DecisionTreeClassifier aus Scikit-Learn\n",
    "\n",
    "Die Machine Learning Modelle (und weitere Klassen z.B. zum Preprocessing) haben eine einheitliche Struktur, insb.:\n",
    "- `obj = <sklearn-Klasse>(...)` (Initialisierung mit sog. Hyperparametern)\n",
    "- `obj.fit ( X [, y] )` (Anpassen des Objekts auf gegebene Trainingsdaten)\n",
    "- `obj.predict ( X )` (Anwenden des trainierten Objekts zur Vorhersage der Zielgröße)\n",
    "- `obj.transform ( X )`, `obj.fit_transform ( X )` (Anwendung von Preprocessing-Klassen)"
   ]
  },
  {
   "cell_type": "markdown",
   "id": "37f3b01c",
   "metadata": {
    "slideshow": {
     "slide_type": "subslide"
    }
   },
   "source": [
    "**Ein einfacher Baum**. \"gini\" ist ein Maß für die \"Impurity\". 0 bedeutet: eine Menge enthält nur 0en oder nur 1en. 1/2 bedeutet: die Menge ist gut durchmischt. Der [Splitting-Algorithmus](https://scikit-learn.org/stable/modules/tree.html#mathematical-formulation) sucht nach optimalen Feature/Threshold-Kombinationen, um die Impurity-Maße nach dem Split (Mittelung der Impurity-Maße der beiden neu erzeugten Teilmengen) zu minimieren."
   ]
  },
  {
   "cell_type": "code",
   "execution_count": 371,
   "id": "7bfcb41e",
   "metadata": {
    "cell_style": "split",
    "slideshow": {
     "slide_type": "-"
    }
   },
   "outputs": [
    {
     "data": {
      "image/png": "[encoded data removed]",
      "text/plain": [
       "<Figure size 640x480 with 1 Axes>"
      ]
     },
     "metadata": {},
     "output_type": "display_data"
    }
   ],
   "source": [
    "from sklearn import tree\n",
    "clf = tree.DecisionTreeClassifier ( max_depth=2 )\n",
    "clf.fit ( X, y )\n",
    "tree.plot_tree ( clf );\n"
   ]
  },
  {
   "cell_type": "code",
   "execution_count": null,
   "id": "788ad242",
   "metadata": {
    "cell_style": "split",
    "slideshow": {
     "slide_type": "-"
    }
   },
   "outputs": [],
   "source": [
    "# In der Baum-Visualisierung:\n",
    "# Erste Zeile: Split-Kriterium\n",
    "# Zweite Zeile: Impurity vor dem Split\n",
    "# Dritte Zeile: Anzahl Zeilen vor dem Split\n",
    "# Vierte Zeile: Anzahl y=0 vs y=1 vor dem Split\n"
   ]
  },
  {
   "cell_type": "code",
   "execution_count": 370,
   "id": "edc530b4",
   "metadata": {
    "cell_style": "split",
    "slideshow": {
     "slide_type": "fragment"
    }
   },
   "outputs": [
    {
     "data": {
      "text/plain": [
       "array([0, 1, 0, 1, 0, 0, 0, 0, 1, 0, 0, 1, 0, 1, 0, 1, 1, 0, 1, 1, 0, 1,\n",
       "       0, 1, 0, 0, 1, 0, 0, 0, 1, 0, 1, 1, 0, 0, 1, 0, 0, 1, 0, 1, 0, 0,\n",
       "       1, 1, 0, 0, 1, 1, 1, 1, 0, 0, 1, 0, 1, 1, 0, 1, 0, 0, 0, 1, 0, 0,\n",
       "       0, 0, 1, 0, 1, 0, 1, 0, 1, 0, 1, 0, 0, 1, 0, 0, 1, 0, 1, 1, 1, 1,\n",
       "       1, 1, 0, 0, 0, 1, 0, 1, 0, 0, 0, 0, 1, 0, 1, 1, 1, 0, 0, 0, 0, 0,\n",
       "       1, 1, 0, 0, 0, 1, 1, 1, 0, 1, 1, 0, 0, 1, 0, 0, 0, 0, 0, 1, 0, 1,\n",
       "       1, 1, 1, 1, 0, 0, 1, 1, 1, 1, 1, 0, 1, 0, 0, 0, 0, 1, 0, 0, 0, 0,\n",
       "       0, 1, 1, 0, 1, 0, 1, 1, 0, 0, 0, 1, 1, 0, 0, 0, 0, 0, 0, 0, 1, 1,\n",
       "       1, 0, 0, 0, 1, 0, 1, 1, 0, 1, 0, 1, 1, 1, 0, 0, 0, 0, 0, 0, 1, 0,\n",
       "       1, 1, 0, 0, 0, 0, 0, 0, 0, 1, 0, 1, 1, 1, 0, 0, 1, 0, 1, 0, 0, 0,\n",
       "       1, 1, 0, 0, 0, 1, 0, 1, 0, 0, 0, 0, 0, 0, 0, 1, 1, 1, 1, 1, 0, 1,\n",
       "       1, 0, 1, 0, 1, 1, 1, 1, 1, 1, 0, 0, 1, 0, 0, 0, 0, 0, 0, 0, 1, 1,\n",
       "       1, 0, 1, 0, 1, 1, 0, 0, 1, 0, 0, 0, 1, 1, 1, 0, 0, 1, 0, 0, 0, 0,\n",
       "       0, 0, 0, 0, 0, 0, 0, 1, 1, 1, 1, 1, 1, 1, 1, 1, 1, 1, 1, 1, 1, 1,\n",
       "       1, 1, 1, 1, 1, 1, 1, 1, 1, 1, 1, 1, 1, 1, 1, 1, 1, 1, 1, 1, 1, 1,\n",
       "       1, 1, 1, 1, 1, 1, 1, 1, 1, 1, 1, 1, 1, 1, 1, 1, 1, 1, 1, 1, 1, 1,\n",
       "       1, 1, 1, 1, 1, 1, 1, 1, 1, 1, 1, 1, 1, 1, 1, 1, 1, 1, 1, 1, 1, 1,\n",
       "       1, 1, 1, 1, 1, 1, 1, 1, 1, 1, 1, 1, 1, 1, 1, 1, 1, 1, 1, 1, 1, 1,\n",
       "       1, 1, 1, 1, 1, 1, 1, 1, 1, 1, 1, 1, 1, 1, 1, 1, 1, 1, 1, 1, 1, 0,\n",
       "       1, 0, 1, 1, 1, 1, 1, 1, 0, 1, 1, 1, 1, 0, 1, 1, 1, 1, 1, 1, 1, 1,\n",
       "       1, 1, 1, 1, 1, 1, 1, 0, 1, 1, 1, 1, 1, 1, 1, 1, 1, 1, 1, 1, 1, 1,\n",
       "       1, 1, 1, 0, 1, 1, 0, 1, 1, 1, 1, 1, 1, 1, 0, 1, 1, 1, 1, 1, 0, 1,\n",
       "       1, 1, 0, 1, 0, 1, 1, 1, 1, 1, 1, 1, 1, 1, 1, 1, 1, 1, 1, 0, 1, 1,\n",
       "       1, 0, 1, 1, 0, 1, 0, 1, 1, 1, 1, 1, 1, 0, 1, 1, 0, 1, 0, 0, 1, 0,\n",
       "       1, 1, 1, 1, 1, 1, 1, 1, 1, 1, 1, 0, 1, 1, 1, 1, 0, 0, 1, 1, 0, 0,\n",
       "       1, 0, 1, 1, 0, 1, 1, 1, 1, 1, 0, 0, 1, 1, 1, 1, 1, 1, 1, 1, 1, 1,\n",
       "       1, 1, 1, 1, 1, 1, 1, 1, 1, 0, 1, 0, 1, 1, 1, 1, 1, 1, 0, 0, 1, 1,\n",
       "       0, 1, 1, 0, 1, 1], dtype=int64)"
      ]
     },
     "execution_count": 370,
     "metadata": {},
     "output_type": "execute_result"
    }
   ],
   "source": [
    "# Vorhersage der Klassen 0=gesund, 1=krank\n",
    "# (kann dann mit den wahren Werten \n",
    "#  y verglichen werden)\n",
    "clf.predict ( X )\n"
   ]
  },
  {
   "cell_type": "markdown",
   "id": "dee4fe9d",
   "metadata": {
    "slideshow": {
     "slide_type": "subslide"
    }
   },
   "source": [
    "Zusammenfassung der Klassifikationsergebnisse in einer **Konfusionsmatrix**:\n",
    "\n",
    "| Wahre Klasse: |         | positiv (krank) | negativ (gesund) |\n",
    "|---| ----------------------|-----------------|------------------|\n",
    "| **Vorhergesagte Klasse:** | **positiv (krank)**       | ? (TP)      | ? (FP)   | \n",
    "|                           | **negativ (gesund)**      | ? (FN)      | ? (TN)   |"
   ]
  },
  {
   "cell_type": "markdown",
   "id": "cc928930",
   "metadata": {
    "slideshow": {
     "slide_type": "fragment"
    }
   },
   "source": [
    "**Vier Felder:**\n",
    "- **Richtig positiv (TP)**: Der Patient ist krank, und der Test hat dies richtig angezeigt.\n",
    "- **Falsch positiv (FP)**: Der Patient ist gesund, aber der Test hat ihn fälschlicherweise als krank eingestuft.\n",
    "- **Richtig negativ (TN)**: Der Patient ist gesund, und der Test hat dies richtig angezeigt.\n",
    "- **Falsch negativ (FN)**: Der Patient ist krank, aber der Test hat ihn fälschlicherweise als gesund eingestuft.\n",
    "&nbsp;  \n",
    "<div class=\"tinyfont\">Konvention: \"Positiv\" ist das \"unnormale\"/\"das seltenere\", das detektiert werden soll.</div>"
   ]
  },
  {
   "cell_type": "code",
   "execution_count": 11,
   "id": "9d60e539",
   "metadata": {
    "slideshow": {
     "slide_type": "fragment"
    }
   },
   "outputs": [],
   "source": [
    "# Vergleiche den Vektor der predictions mit dem Vektor der Ground Truth (y)\n",
    "predictions = clf.predict ( X )\n",
    "\n",
    "TP =\n",
    "FP =\n",
    "TN =\n",
    "FN ="
   ]
  },
  {
   "cell_type": "code",
   "execution_count": 8,
   "id": "2778b66e",
   "metadata": {
    "slideshow": {
     "slide_type": "subslide"
    }
   },
   "outputs": [
    {
     "data": {
      "text/plain": [
       "(350, 47, 194, 9)"
      ]
     },
     "execution_count": 8,
     "metadata": {},
     "output_type": "execute_result"
    }
   ],
   "source": [
    "TP = (y==1) & (predictions == 1)\n",
    "FP = (y==0) & (predictions == 1)\n",
    "TN = (y==0) & (predictions == 0)\n",
    "FN = (y==1) & (predictions == 0)\n",
    "\n",
    "TP = TP.sum()\n",
    "FP = FP.sum()\n",
    "TN = TN.sum()\n",
    "FN = FN.sum()\n",
    "\n",
    "TP, FP, TN, FN"
   ]
  },
  {
   "cell_type": "markdown",
   "id": "44c4ce82",
   "metadata": {
    "slideshow": {
     "slide_type": "fragment"
    }
   },
   "source": [
    "Zusammenfassung in einer **Konfusionsmatrix**:\n",
    "\n",
    "| Wahre Klasse: |         | positiv (krank) | negativ (gesund) |\n",
    "|---| ----------------------|-----------------|------------------|\n",
    "| **Vorhergesagte Klasse:** | **positiv (krank)**       |350 (TP)      | 47 (FP)   | \n",
    "|                           | **negativ (gesund)**      | 9 (FN)      | 194 (TN)   |\n",
    "\n",
    "Von 600 Personen wurden also 544=350+194 Personen der korrekten Klasse zugeordnet.\n",
    "\n",
    "**Treffergenauigkeit** (**Accuracy**): (TP+TN)/(TP+TN+FP+FN) = 544 / 600 = 90,6\\%. \n",
    "\n",
    "<div class=\"tinyfont\">Wir werden noch diskutieren, dass es in der Praxis bessere Metriken als die Accuracy gibt.</div>"
   ]
  },
  {
   "cell_type": "markdown",
   "id": "216e3515",
   "metadata": {
    "slideshow": {
     "slide_type": "skip"
    }
   },
   "source": [
    "**An der Tafel:** Diskussion der Metrik \"Accuracy\" im Beispiel 100 Patienten, hiervon genau 1 krank, 99 gesund. Der Test sagt immer \"Sie sind gesund\". Was ist die Accuracy? => Wir brauchen eine bessere Metrik, die auch im unbalancierten Fall gut funktioniert."
   ]
  },
  {
   "cell_type": "markdown",
   "id": "dd8c52d1",
   "metadata": {
    "slideshow": {
     "slide_type": "subslide"
    }
   },
   "source": [
    "Für den Rest der Vorlesung soll ein langer Baum (**links**) mit einem kurzen Baum (**rechts**) verglichen werden."
   ]
  },
  {
   "cell_type": "code",
   "execution_count": 366,
   "id": "e0dae2da",
   "metadata": {
    "cell_style": "split",
    "slideshow": {
     "slide_type": "-"
    }
   },
   "outputs": [
    {
     "data": {
      "image/png": "[encoded data removed]",
      "text/plain": [
       "<Figure size 640x480 with 1 Axes>"
      ]
     },
     "metadata": {},
     "output_type": "display_data"
    }
   ],
   "source": [
    "clf_long = tree.DecisionTreeClassifier ( )\n",
    "clf_long.fit ( X, y )\n",
    "tree.plot_tree ( clf_long );\n"
   ]
  },
  {
   "cell_type": "code",
   "execution_count": 360,
   "id": "885829b7",
   "metadata": {
    "cell_style": "split",
    "slideshow": {
     "slide_type": "fragment"
    }
   },
   "outputs": [
    {
     "data": {
      "image/png": "[encoded data removed]",
      "text/plain": [
       "<Figure size 640x480 with 1 Axes>"
      ]
     },
     "metadata": {},
     "output_type": "display_data"
    }
   ],
   "source": [
    "clf_short = tree.DecisionTreeClassifier(max_depth=5,\n",
    "                                 min_samples_leaf=3)\n",
    "clf_short.fit ( X, y )\n",
    "tree.plot_tree ( clf_short );\n"
   ]
  },
  {
   "cell_type": "markdown",
   "id": "5f5ed03c",
   "metadata": {
    "slideshow": {
     "slide_type": "subslide"
    }
   },
   "source": [
    "### 3.3 Vorhersage der Klassen 0=gesund, 1=krank auf den Trainingsdaten"
   ]
  },
  {
   "cell_type": "code",
   "execution_count": 258,
   "id": "2046b9d3",
   "metadata": {
    "cell_style": "split",
    "slideshow": {
     "slide_type": "fragment"
    }
   },
   "outputs": [
    {
     "data": {
      "text/plain": [
       "array([0, 1, 0, 1, 0, 0, 0, 0, 1, 0, 0, 1, 0, 1, 0, 0, 1, 0, 1, 1, 0, 0,\n",
       "       0, 1, 0, 0, 0, 0, 0, 0, 1, 0, 1, 1, 0, 0, 1, 0, 0, 0, 0, 1, 0, 0,\n",
       "       1, 0, 0, 0, 0, 1, 1, 1, 0, 0, 0, 0, 1, 1, 0, 1, 0, 0, 0, 1, 0, 0,\n",
       "       0, 0, 1, 0, 1, 0, 1, 0, 1, 0, 1, 0, 0, 1, 0, 0, 1, 0, 1, 1, 1, 0,\n",
       "       1, 0, 0, 0, 0, 1, 0, 1, 0, 0, 0, 0, 1, 0, 1, 1, 1, 0, 0, 0, 0, 0,\n",
       "       0, 1, 0, 0, 0, 1, 1, 1, 0, 1, 1, 0, 0, 1, 0, 0, 0, 0, 0, 0, 0, 1,\n",
       "       1, 1, 0, 1, 0, 0, 1, 1, 1, 1, 1, 0, 1, 0, 0, 0, 0, 1, 0, 0, 0, 0,\n",
       "       0, 1, 1, 0, 1, 0, 1, 1, 0, 0, 0, 1, 1, 0, 0, 0, 0, 0, 0, 0, 1, 1,\n",
       "       1, 0, 0, 0, 1, 0, 1, 0, 0, 1, 0, 1, 0, 1, 0, 0, 0, 0, 0, 0, 0, 0,\n",
       "       1, 0, 0, 0, 0, 0, 0, 0, 0, 1, 0, 1, 1, 1, 0, 0, 1, 0, 1, 0, 0, 0,\n",
       "       1, 1, 0, 0, 0, 1, 0, 1, 0, 0, 0, 0, 0, 0, 0, 0, 1, 1, 1, 1, 0, 1,\n",
       "       1, 0, 1, 0, 1, 1, 1, 1, 1, 1, 0, 0, 1, 0, 0, 0, 0, 0, 0, 0, 1, 1,\n",
       "       1, 0, 1, 0, 1, 0, 0, 0, 1, 0, 0, 0, 1, 1, 0, 0, 0, 1, 0, 0, 0, 0,\n",
       "       0, 0, 0, 0, 0, 0, 0, 1, 1, 1, 1, 1, 1, 1, 1, 0, 1, 1, 1, 1, 1, 0,\n",
       "       1, 1, 0, 1, 1, 1, 0, 1, 1, 1, 1, 1, 1, 1, 1, 1, 1, 1, 0, 1, 1, 1,\n",
       "       1, 1, 0, 1, 1, 1, 0, 1, 1, 1, 1, 1, 1, 1, 1, 1, 1, 1, 1, 1, 1, 1,\n",
       "       1, 1, 1, 1, 1, 1, 1, 1, 1, 1, 1, 1, 0, 1, 1, 1, 1, 1, 1, 1, 1, 1,\n",
       "       1, 1, 1, 1, 1, 1, 1, 1, 1, 1, 1, 1, 1, 1, 1, 1, 1, 1, 1, 1, 1, 1,\n",
       "       1, 1, 1, 1, 1, 1, 1, 1, 1, 1, 1, 1, 1, 1, 1, 1, 1, 1, 1, 1, 1, 0,\n",
       "       1, 1, 0, 0, 1, 0, 1, 1, 0, 1, 1, 1, 1, 0, 1, 1, 0, 0, 1, 1, 1, 0,\n",
       "       1, 1, 1, 1, 1, 1, 1, 1, 1, 1, 1, 1, 1, 0, 1, 0, 1, 1, 1, 0, 1, 1,\n",
       "       1, 0, 1, 0, 1, 0, 1, 0, 1, 1, 1, 1, 0, 1, 0, 1, 1, 1, 1, 1, 1, 1,\n",
       "       1, 1, 0, 1, 0, 1, 1, 1, 1, 1, 1, 1, 0, 1, 1, 1, 1, 1, 1, 0, 1, 1,\n",
       "       1, 0, 1, 1, 0, 1, 0, 1, 1, 0, 1, 1, 1, 1, 0, 1, 1, 1, 0, 0, 1, 0,\n",
       "       1, 1, 1, 1, 1, 1, 1, 1, 1, 1, 1, 0, 1, 1, 1, 1, 0, 0, 1, 1, 1, 0,\n",
       "       1, 0, 1, 1, 0, 1, 0, 1, 1, 1, 0, 0, 0, 1, 1, 1, 0, 1, 1, 1, 1, 1,\n",
       "       1, 1, 1, 1, 1, 1, 1, 1, 1, 1, 1, 0, 1, 1, 1, 0, 1, 1, 0, 0, 1, 1,\n",
       "       1, 1, 1, 0, 1, 1], dtype=int64)"
      ]
     },
     "execution_count": 258,
     "metadata": {},
     "output_type": "execute_result"
    }
   ],
   "source": [
    "# Erstes Modell: Langer Entscheidungsbaum\n",
    "pred_long = clf_long.predict(X)\n",
    "pred_long\n"
   ]
  },
  {
   "cell_type": "code",
   "execution_count": 361,
   "id": "9f002fd0",
   "metadata": {
    "cell_style": "split",
    "slideshow": {
     "slide_type": "fragment"
    }
   },
   "outputs": [
    {
     "data": {
      "text/plain": [
       "array([0, 0, 0, 0, 0, 0, 0, 0, 1, 0, 0, 1, 0, 1, 0, 0, 1, 0, 1, 1, 0, 1,\n",
       "       0, 1, 0, 0, 1, 0, 0, 0, 1, 0, 1, 1, 0, 0, 1, 0, 0, 0, 0, 1, 0, 0,\n",
       "       1, 1, 0, 0, 1, 1, 1, 1, 0, 0, 1, 0, 1, 1, 1, 1, 0, 0, 0, 1, 0, 0,\n",
       "       0, 0, 1, 0, 1, 0, 1, 0, 1, 0, 1, 0, 0, 1, 0, 0, 1, 0, 1, 1, 1, 0,\n",
       "       1, 1, 0, 0, 0, 1, 0, 1, 0, 0, 0, 0, 1, 0, 1, 1, 1, 0, 0, 0, 0, 0,\n",
       "       0, 1, 0, 0, 0, 1, 1, 1, 0, 1, 1, 0, 0, 1, 0, 0, 0, 1, 0, 1, 0, 1,\n",
       "       1, 1, 1, 1, 0, 0, 1, 1, 1, 1, 1, 0, 0, 0, 0, 0, 0, 1, 0, 0, 0, 0,\n",
       "       0, 1, 1, 0, 1, 0, 1, 1, 0, 0, 0, 1, 1, 0, 0, 0, 0, 0, 0, 0, 1, 1,\n",
       "       1, 0, 0, 0, 1, 0, 1, 1, 0, 1, 0, 1, 1, 1, 0, 0, 0, 0, 0, 0, 1, 0,\n",
       "       1, 0, 0, 0, 0, 0, 0, 0, 0, 1, 0, 1, 1, 1, 0, 0, 1, 0, 1, 0, 0, 0,\n",
       "       1, 1, 0, 0, 0, 1, 0, 1, 0, 0, 0, 0, 0, 0, 0, 1, 1, 1, 1, 1, 0, 1,\n",
       "       1, 0, 1, 0, 1, 1, 1, 1, 1, 1, 0, 0, 1, 0, 0, 0, 0, 0, 0, 0, 1, 1,\n",
       "       1, 0, 1, 0, 1, 0, 0, 0, 1, 0, 0, 0, 1, 1, 1, 0, 0, 1, 0, 0, 0, 0,\n",
       "       0, 0, 0, 0, 0, 0, 0, 1, 1, 1, 1, 1, 1, 1, 1, 0, 1, 1, 1, 1, 1, 1,\n",
       "       1, 1, 0, 1, 1, 1, 1, 1, 1, 1, 1, 1, 1, 1, 1, 1, 1, 1, 0, 1, 1, 1,\n",
       "       1, 1, 0, 1, 1, 1, 1, 1, 1, 1, 1, 1, 1, 1, 1, 1, 1, 1, 1, 1, 1, 0,\n",
       "       1, 1, 1, 1, 1, 1, 1, 1, 1, 1, 1, 1, 1, 1, 1, 0, 1, 1, 1, 1, 1, 1,\n",
       "       1, 0, 1, 1, 1, 0, 1, 1, 1, 1, 1, 1, 1, 1, 1, 1, 1, 1, 1, 1, 1, 1,\n",
       "       1, 1, 1, 1, 1, 1, 1, 1, 1, 1, 1, 1, 1, 1, 1, 1, 1, 1, 1, 1, 1, 0,\n",
       "       1, 1, 1, 0, 1, 1, 1, 1, 0, 1, 1, 1, 1, 0, 1, 1, 1, 0, 0, 1, 1, 0,\n",
       "       0, 1, 1, 1, 1, 1, 1, 1, 1, 1, 1, 1, 1, 0, 1, 0, 1, 1, 1, 0, 1, 1,\n",
       "       1, 0, 1, 0, 1, 0, 1, 1, 1, 1, 1, 1, 0, 1, 0, 1, 1, 1, 1, 1, 1, 1,\n",
       "       1, 1, 0, 1, 0, 1, 1, 1, 1, 1, 1, 1, 1, 1, 1, 1, 1, 1, 1, 0, 1, 1,\n",
       "       1, 0, 1, 1, 0, 1, 0, 1, 0, 1, 1, 1, 1, 1, 1, 1, 1, 1, 0, 0, 1, 0,\n",
       "       1, 1, 1, 1, 1, 1, 1, 1, 1, 1, 1, 0, 1, 1, 1, 1, 0, 0, 1, 1, 1, 0,\n",
       "       1, 0, 1, 1, 0, 1, 1, 1, 1, 1, 0, 0, 1, 1, 1, 1, 1, 1, 1, 1, 1, 1,\n",
       "       1, 1, 1, 1, 1, 1, 1, 1, 1, 1, 1, 0, 1, 1, 1, 1, 1, 1, 0, 0, 1, 1,\n",
       "       1, 1, 1, 0, 1, 1], dtype=int64)"
      ]
     },
     "execution_count": 361,
     "metadata": {},
     "output_type": "execute_result"
    }
   ],
   "source": [
    "# Alternativmodell: kurzer Entscheidungsbaum\n",
    "pred_short = clf_short.predict(X)\n",
    "pred_short\n"
   ]
  },
  {
   "cell_type": "markdown",
   "id": "7eadfc94",
   "metadata": {
    "slideshow": {
     "slide_type": "subslide"
    }
   },
   "source": [
    "### 3.4 Evaluation auf den Trainingsdaten"
   ]
  },
  {
   "cell_type": "code",
   "execution_count": 260,
   "id": "0cf01acc",
   "metadata": {
    "cell_style": "split",
    "slideshow": {
     "slide_type": "fragment"
    }
   },
   "outputs": [
    {
     "name": "stdout",
     "output_type": "stream",
     "text": [
      "TP: 359, FP: 0, TN: 241, FN: 0\n",
      "Accuracy: 100.00%\n"
     ]
    }
   ],
   "source": [
    "# langer Baum\n",
    "\n",
    "TP = (y==1) & (pred_long == 1)\n",
    "FP = (y==0) & (pred_long == 1)\n",
    "TN = (y==0) & (pred_long == 0)\n",
    "FN = (y==1) & (pred_long == 0)\n",
    "\n",
    "TP = TP.sum()\n",
    "FP = FP.sum()\n",
    "TN = TN.sum()\n",
    "FN = FN.sum()\n",
    "acc = (TP+TN)/(TP+TN+FP+FN)\n",
    "\n",
    "print(f\"TP: {TP}, FP: {FP}, TN: {TN}, FN: {FN}\")\n",
    "print(f\"Accuracy: {acc*100:.02f}%\")\n"
   ]
  },
  {
   "cell_type": "code",
   "execution_count": 362,
   "id": "410a61d9",
   "metadata": {
    "cell_style": "split",
    "slideshow": {
     "slide_type": "fragment"
    }
   },
   "outputs": [
    {
     "name": "stdout",
     "output_type": "stream",
     "text": [
      "TP: 349, FP: 30, TN: 211, FN: 10\n",
      "Accuracy: 93.33%\n"
     ]
    }
   ],
   "source": [
    "# kurzer Baum\n",
    "\n",
    "TP = (y==1) & (pred_short == 1)\n",
    "FP = (y==0) & (pred_short == 1)\n",
    "TN = (y==0) & (pred_short == 0)\n",
    "FN = (y==1) & (pred_short == 0)\n",
    "\n",
    "TP = TP.sum()\n",
    "FP = FP.sum()\n",
    "TN = TN.sum()\n",
    "FN = FN.sum()\n",
    "acc = (TP+TN)/(TP+TN+FP+FN)\n",
    "\n",
    "print(f\"TP: {TP}, FP: {FP}, TN: {TN}, FN: {FN}\")\n",
    "print(f\"Accuracy: {acc*100:.02f}%\")\n"
   ]
  },
  {
   "cell_type": "markdown",
   "id": "1409044f",
   "metadata": {
    "slideshow": {
     "slide_type": "subslide"
    }
   },
   "source": [
    "### 3.6 Evaluation auf Daten, die nicht zum trainieren verwendet wurden (\"Test/Validierungsdaten\")"
   ]
  },
  {
   "cell_type": "code",
   "execution_count": 285,
   "id": "ab0a4bbc",
   "metadata": {
    "slideshow": {
     "slide_type": "fragment"
    }
   },
   "outputs": [],
   "source": [
    "X_test = df.iloc[600:,:-1].copy()     # wir nehmen die verbleibenden Zeilen zum Testen (besser wäre: randomisiert)\n",
    "y_test = df.iloc[600:,-1].copy()\n"
   ]
  },
  {
   "cell_type": "markdown",
   "id": "caa39591",
   "metadata": {
    "slideshow": {
     "slide_type": "fragment"
    }
   },
   "source": [
    "<div class=\"alert alert-block alert-warning\"><b>Frage:</b> Was könnte bei der Neuerstellung des Encoders auf die Testdaten schiefgehen?</div>"
   ]
  },
  {
   "cell_type": "code",
   "execution_count": 237,
   "id": "328498ec",
   "metadata": {
    "slideshow": {
     "slide_type": "-"
    }
   },
   "outputs": [],
   "source": [
    "# from sklearn.preprocessing import OrdinalEncoder\n",
    "# enc = OrdinalEncoder()\n",
    "# X_test = pd.DataFrame ( enc.fit_transform(X_test), columns = X_test.columns )\n"
   ]
  },
  {
   "cell_type": "code",
   "execution_count": 286,
   "id": "3efcee2f",
   "metadata": {
    "slideshow": {
     "slide_type": "fragment"
    }
   },
   "outputs": [],
   "source": [
    "# Wiederverwendung des Label-Encoders, der für die Trainingsdaten verwendet wurde, damit die Zuordnung Wert->Zahl identisch ist\n",
    "X_test = pd.DataFrame ( enc.transform(X_test.values), columns = X_test.columns )\n"
   ]
  },
  {
   "cell_type": "markdown",
   "id": "1f46368b",
   "metadata": {
    "slideshow": {
     "slide_type": "subslide"
    }
   },
   "source": [
    "Evaluierung auf den Testdaten:"
   ]
  },
  {
   "cell_type": "code",
   "execution_count": 291,
   "id": "09e9b8be",
   "metadata": {
    "cell_style": "split",
    "slideshow": {
     "slide_type": "fragment"
    }
   },
   "outputs": [
    {
     "name": "stdout",
     "output_type": "stream",
     "text": [
      "TP: 101, FP: 39, TN: 130, FN: 48\n",
      "Accuracy: 72.64%\n"
     ]
    }
   ],
   "source": [
    "# langer Baum\n",
    "pred_long_test = clf_long.predict(X_test)\n",
    "\n",
    "TP = (y_test==1) & (pred_long_test == 1)\n",
    "FP = (y_test==0) & (pred_long_test == 1)\n",
    "TN = (y_test==0) & (pred_long_test == 0)\n",
    "FN = (y_test==1) & (pred_long_test == 0)\n",
    "\n",
    "TP = TP.sum()\n",
    "FP = FP.sum()\n",
    "TN = TN.sum()\n",
    "FN = FN.sum()\n",
    "acc = (TP+TN)/(TP+TN+FP+FN)\n",
    "\n",
    "print(f\"TP: {TP}, FP: {FP}, TN: {TN}, FN: {FN}\")\n",
    "print(f\"Accuracy: {acc*100:.02f}%\")\n"
   ]
  },
  {
   "cell_type": "code",
   "execution_count": 363,
   "id": "b392d933",
   "metadata": {
    "cell_style": "split",
    "slideshow": {
     "slide_type": "fragment"
    }
   },
   "outputs": [
    {
     "name": "stdout",
     "output_type": "stream",
     "text": [
      "TP: 117, FP: 52, TN: 117, FN: 32\n",
      "Accuracy: 73.58%\n"
     ]
    }
   ],
   "source": [
    "# kurzer Baum\n",
    "pred_short_test = clf_short.predict(X_test)\n",
    "\n",
    "TP = (y_test==1) & (pred_short_test == 1)\n",
    "FP = (y_test==0) & (pred_short_test == 1)\n",
    "TN = (y_test==0) & (pred_short_test == 0)\n",
    "FN = (y_test==1) & (pred_short_test == 0)\n",
    "\n",
    "TP = TP.sum()\n",
    "FP = FP.sum()\n",
    "TN = TN.sum()\n",
    "FN = FN.sum()\n",
    "acc = (TP+TN)/(TP+TN+FP+FN)\n",
    "\n",
    "print(f\"TP: {TP}, FP: {FP}, TN: {TN}, FN: {FN}\")\n",
    "print(f\"Accuracy: {acc*100:.02f}%\")\n"
   ]
  },
  {
   "cell_type": "markdown",
   "id": "c349369c",
   "metadata": {
    "slideshow": {
     "slide_type": "fragment"
    }
   },
   "source": [
    "**Zusammenfassung:** Nicht die Performance auf den Trainingsdaten, sondern die Performance auf den zuvor nicht gesehenen Testdaten gibt Auskunft über die Generalisierungsfähigkeit. Ein Unterschied zwischen Trainings- und Testperformance lässt auf einen **Overfit** schließen."
   ]
  },
  {
   "cell_type": "markdown",
   "id": "1a3abd8e",
   "metadata": {
    "cell_style": "split",
    "slideshow": {
     "slide_type": "slide"
    }
   },
   "source": [
    "<img src=\"VL03_Material/datenarten.png\" width=\"80%\" />\n",
    "<div class=\"tinyfont\">Abb. 3 aus: Nazemi, Kawa & Kaupp, Lukas & Burkhardt, Dirk & Below, Nicola. (2021). Datenvisualisierung. 10.1515/9783110657807-026.</div>"
   ]
  },
  {
   "cell_type": "markdown",
   "id": "fb060179",
   "metadata": {
    "cell_style": "split",
    "slideshow": {
     "slide_type": "-"
    }
   },
   "source": [
    "# <div style=\"color:gray;\">1. Visualisierung und Encodings</div>\n",
    "# <div style=\"color:gray;\">2. DecisionTreeClassifier</div>\n",
    "\n",
    "# Vielen Dank für Ihre Aufmerksamkeit!"
   ]
  },
  {
   "cell_type": "markdown",
   "id": "ee951209",
   "metadata": {
    "slideshow": {
     "slide_type": "slide"
    }
   },
   "source": [
    "# Anhang\n",
    "\n",
    "<img src=\"VL03_Material/treesplit.png\" width=\"80%\">\n",
    "\n",
    "<div class=\"tinyfont\">https://scikit-learn.org/stable/modules/tree.html#mathematical-formulation</div>"
   ]
  },
  {
   "cell_type": "markdown",
   "id": "22d49956",
   "metadata": {
    "slideshow": {
     "slide_type": "subslide"
    }
   },
   "source": [
    "<img src=\"VL03_Material/treesplit2.png\" width=\"80%\">\n",
    "\n",
    "<div class=\"tinyfont\">https://scikit-learn.org/stable/modules/tree.html#mathematical-formulation</div>"
   ]
  },
  {
   "cell_type": "markdown",
   "id": "556ae5d9",
   "metadata": {
    "slideshow": {
     "slide_type": "subslide"
    }
   },
   "source": [
    "### 3.1 Indexierung in Pandas Dataframes"
   ]
  },
  {
   "cell_type": "code",
   "execution_count": 4,
   "id": "70b56a8d",
   "metadata": {
    "cell_style": "split",
    "slideshow": {
     "slide_type": "-"
    }
   },
   "outputs": [
    {
     "data": {
      "text/html": [
       "<div>\n",
       "<style scoped>\n",
       "    .dataframe tbody tr th:only-of-type {\n",
       "        vertical-align: middle;\n",
       "    }\n",
       "\n",
       "    .dataframe tbody tr th {\n",
       "        vertical-align: top;\n",
       "    }\n",
       "\n",
       "    .dataframe thead th {\n",
       "        text-align: right;\n",
       "    }\n",
       "</style>\n",
       "<table border=\"1\" class=\"dataframe\">\n",
       "  <thead>\n",
       "    <tr style=\"text-align: right;\">\n",
       "      <th></th>\n",
       "      <th>Age</th>\n",
       "      <th>Sex</th>\n",
       "      <th>ChestPainType</th>\n",
       "      <th>RestingBP</th>\n",
       "      <th>Cholesterol</th>\n",
       "      <th>FastingBS</th>\n",
       "      <th>RestingECG</th>\n",
       "      <th>MaxHR</th>\n",
       "      <th>ExerciseAngina</th>\n",
       "      <th>Oldpeak</th>\n",
       "      <th>ST_Slope</th>\n",
       "      <th>HeartDisease</th>\n",
       "    </tr>\n",
       "  </thead>\n",
       "  <tbody>\n",
       "    <tr>\n",
       "      <th>0</th>\n",
       "      <td>40</td>\n",
       "      <td>M</td>\n",
       "      <td>ATA</td>\n",
       "      <td>140</td>\n",
       "      <td>289</td>\n",
       "      <td>0</td>\n",
       "      <td>Normal</td>\n",
       "      <td>172</td>\n",
       "      <td>N</td>\n",
       "      <td>0.0</td>\n",
       "      <td>Up</td>\n",
       "      <td>0</td>\n",
       "    </tr>\n",
       "    <tr>\n",
       "      <th>1</th>\n",
       "      <td>49</td>\n",
       "      <td>F</td>\n",
       "      <td>NAP</td>\n",
       "      <td>160</td>\n",
       "      <td>180</td>\n",
       "      <td>0</td>\n",
       "      <td>Normal</td>\n",
       "      <td>156</td>\n",
       "      <td>N</td>\n",
       "      <td>1.0</td>\n",
       "      <td>Flat</td>\n",
       "      <td>1</td>\n",
       "    </tr>\n",
       "    <tr>\n",
       "      <th>2</th>\n",
       "      <td>37</td>\n",
       "      <td>M</td>\n",
       "      <td>ATA</td>\n",
       "      <td>130</td>\n",
       "      <td>283</td>\n",
       "      <td>0</td>\n",
       "      <td>ST</td>\n",
       "      <td>98</td>\n",
       "      <td>N</td>\n",
       "      <td>0.0</td>\n",
       "      <td>Up</td>\n",
       "      <td>0</td>\n",
       "    </tr>\n",
       "    <tr>\n",
       "      <th>3</th>\n",
       "      <td>48</td>\n",
       "      <td>F</td>\n",
       "      <td>ASY</td>\n",
       "      <td>138</td>\n",
       "      <td>214</td>\n",
       "      <td>0</td>\n",
       "      <td>Normal</td>\n",
       "      <td>108</td>\n",
       "      <td>Y</td>\n",
       "      <td>1.5</td>\n",
       "      <td>Flat</td>\n",
       "      <td>1</td>\n",
       "    </tr>\n",
       "    <tr>\n",
       "      <th>4</th>\n",
       "      <td>54</td>\n",
       "      <td>M</td>\n",
       "      <td>NAP</td>\n",
       "      <td>150</td>\n",
       "      <td>195</td>\n",
       "      <td>0</td>\n",
       "      <td>Normal</td>\n",
       "      <td>122</td>\n",
       "      <td>N</td>\n",
       "      <td>0.0</td>\n",
       "      <td>Up</td>\n",
       "      <td>0</td>\n",
       "    </tr>\n",
       "  </tbody>\n",
       "</table>\n",
       "</div>"
      ],
      "text/plain": [
       "   Age Sex ChestPainType  RestingBP  Cholesterol  FastingBS RestingECG  MaxHR  \\\n",
       "0   40   M           ATA        140          289          0     Normal    172   \n",
       "1   49   F           NAP        160          180          0     Normal    156   \n",
       "2   37   M           ATA        130          283          0         ST     98   \n",
       "3   48   F           ASY        138          214          0     Normal    108   \n",
       "4   54   M           NAP        150          195          0     Normal    122   \n",
       "\n",
       "  ExerciseAngina  Oldpeak ST_Slope  HeartDisease  \n",
       "0              N      0.0       Up             0  \n",
       "1              N      1.0     Flat             1  \n",
       "2              N      0.0       Up             0  \n",
       "3              Y      1.5     Flat             1  \n",
       "4              N      0.0       Up             0  "
      ]
     },
     "execution_count": 4,
     "metadata": {},
     "output_type": "execute_result"
    }
   ],
   "source": [
    "import pandas as pd\n",
    "df = pd.read_csv(\"VL02_Material/heart.csv\")\n",
    "\n",
    "\n",
    "# mit .head() zeigt man nur die ersten Zeilen an\n",
    "df.head()\n",
    "\n",
    "\n",
    "# mit .tail() werden die letzten Zeilen\n",
    "# angezeigt.\n",
    "\n",
    "\n",
    "# Mit dem Parameter n (default n=5)\n",
    "# wird die Anzahl der Zeilen spezifiziert.\n"
   ]
  },
  {
   "cell_type": "code",
   "execution_count": 187,
   "id": "13a415ad",
   "metadata": {
    "cell_style": "split",
    "slideshow": {
     "slide_type": "fragment"
    }
   },
   "outputs": [
    {
     "data": {
      "text/plain": [
       "0    ATA\n",
       "1    NAP\n",
       "2    ATA\n",
       "3    ASY\n",
       "4    NAP\n",
       "Name: ChestPainType, dtype: object"
      ]
     },
     "execution_count": 187,
     "metadata": {},
     "output_type": "execute_result"
    }
   ],
   "source": [
    "# Einfacher Zugriff auf eine Spalte\n",
    "df[\"ChestPainType\"].head()\n"
   ]
  },
  {
   "cell_type": "code",
   "execution_count": 406,
   "id": "e31b19b9",
   "metadata": {
    "cell_style": "split",
    "slideshow": {
     "slide_type": "fragment"
    }
   },
   "outputs": [
    {
     "data": {
      "text/plain": [
       "0    False\n",
       "1    False\n",
       "2    False\n",
       "3     True\n",
       "4    False\n",
       "Name: ChestPainType, dtype: bool"
      ]
     },
     "execution_count": 406,
     "metadata": {},
     "output_type": "execute_result"
    }
   ],
   "source": [
    "# Boolscher Vektor\n",
    "idx = df[\"ChestPainType\"] == \"ASY\"\n",
    "idx.head()\n"
   ]
  },
  {
   "cell_type": "code",
   "execution_count": 190,
   "id": "c5029870",
   "metadata": {
    "cell_style": "split",
    "slideshow": {
     "slide_type": "fragment"
    }
   },
   "outputs": [
    {
     "data": {
      "text/plain": [
       "54.95967741935484"
      ]
     },
     "execution_count": 190,
     "metadata": {},
     "output_type": "execute_result"
    }
   ],
   "source": [
    "# \"Boolean Indexing\" (mit anschließender Aggregierung)\n",
    "df[\"Age\"][idx].mean()"
   ]
  },
  {
   "cell_type": "markdown",
   "id": "a2b727ad",
   "metadata": {
    "slideshow": {
     "slide_type": "subslide"
    }
   },
   "source": [
    "Genauere Indizierung mit `.loc` und `.iloc`:"
   ]
  },
  {
   "cell_type": "code",
   "execution_count": 193,
   "id": "a09ab86a",
   "metadata": {
    "cell_style": "split",
    "slideshow": {
     "slide_type": "fragment"
    }
   },
   "outputs": [
    {
     "data": {
      "text/plain": [
       "0    ATA\n",
       "1    NAP\n",
       "2    ATA\n",
       "3    ASY\n",
       "4    NAP\n",
       "Name: ChestPainType, dtype: object"
      ]
     },
     "execution_count": 193,
     "metadata": {},
     "output_type": "execute_result"
    }
   ],
   "source": [
    "# Indizierung mit .loc verwendet Spaltennamen\n",
    "df.loc[:,\"ChestPainType\"].head()\n"
   ]
  },
  {
   "cell_type": "code",
   "execution_count": 194,
   "id": "4c8f8968",
   "metadata": {
    "cell_style": "split",
    "slideshow": {
     "slide_type": "fragment"
    }
   },
   "outputs": [
    {
     "data": {
      "text/plain": [
       "0    ATA\n",
       "1    NAP\n",
       "2    ATA\n",
       "3    ASY\n",
       "4    NAP\n",
       "Name: ChestPainType, dtype: object"
      ]
     },
     "execution_count": 194,
     "metadata": {},
     "output_type": "execute_result"
    }
   ],
   "source": [
    "# Indizierung mit .iloc verwendet Spaltennummern\n",
    "df.iloc[:,2].head()\n"
   ]
  },
  {
   "cell_type": "code",
   "execution_count": 196,
   "id": "38f6a127",
   "metadata": {
    "cell_style": "split",
    "slideshow": {
     "slide_type": "fragment"
    }
   },
   "outputs": [
    {
     "data": {
      "text/plain": [
       "'ASY'"
      ]
     },
     "execution_count": 196,
     "metadata": {},
     "output_type": "execute_result"
    }
   ],
   "source": [
    "# Zugriff auf Spaltennamen und Index\n",
    "df.loc[3,\"ChestPainType\"]\n"
   ]
  },
  {
   "cell_type": "code",
   "execution_count": 197,
   "id": "53c2d5e6",
   "metadata": {
    "cell_style": "split",
    "slideshow": {
     "slide_type": "fragment"
    }
   },
   "outputs": [
    {
     "data": {
      "text/plain": [
       "'ASY'"
      ]
     },
     "execution_count": 197,
     "metadata": {},
     "output_type": "execute_result"
    }
   ],
   "source": [
    "# Zugriff auf Spalten- und Zeilennummer\n",
    "df.iloc[3,2]\n"
   ]
  },
  {
   "cell_type": "code",
   "execution_count": 202,
   "id": "292961f9",
   "metadata": {
    "cell_style": "split",
    "slideshow": {
     "slide_type": "fragment"
    }
   },
   "outputs": [
    {
     "data": {
      "text/html": [
       "<div>\n",
       "<style scoped>\n",
       "    .dataframe tbody tr th:only-of-type {\n",
       "        vertical-align: middle;\n",
       "    }\n",
       "\n",
       "    .dataframe tbody tr th {\n",
       "        vertical-align: top;\n",
       "    }\n",
       "\n",
       "    .dataframe thead th {\n",
       "        text-align: right;\n",
       "    }\n",
       "</style>\n",
       "<table border=\"1\" class=\"dataframe\">\n",
       "  <thead>\n",
       "    <tr style=\"text-align: right;\">\n",
       "      <th></th>\n",
       "      <th>Age</th>\n",
       "      <th>Sex</th>\n",
       "      <th>ChestPainType</th>\n",
       "      <th>RestingBP</th>\n",
       "      <th>Cholesterol</th>\n",
       "      <th>FastingBS</th>\n",
       "      <th>RestingECG</th>\n",
       "      <th>MaxHR</th>\n",
       "      <th>ExerciseAngina</th>\n",
       "      <th>Oldpeak</th>\n",
       "      <th>ST_Slope</th>\n",
       "      <th>HeartDisease</th>\n",
       "    </tr>\n",
       "  </thead>\n",
       "  <tbody>\n",
       "    <tr>\n",
       "      <th>1</th>\n",
       "      <td>49</td>\n",
       "      <td>F</td>\n",
       "      <td>NAP</td>\n",
       "      <td>160</td>\n",
       "      <td>180</td>\n",
       "      <td>0</td>\n",
       "      <td>Normal</td>\n",
       "      <td>156</td>\n",
       "      <td>N</td>\n",
       "      <td>1.0</td>\n",
       "      <td>Flat</td>\n",
       "      <td>1</td>\n",
       "    </tr>\n",
       "    <tr>\n",
       "      <th>2</th>\n",
       "      <td>37</td>\n",
       "      <td>M</td>\n",
       "      <td>ATA</td>\n",
       "      <td>130</td>\n",
       "      <td>283</td>\n",
       "      <td>0</td>\n",
       "      <td>ST</td>\n",
       "      <td>98</td>\n",
       "      <td>N</td>\n",
       "      <td>0.0</td>\n",
       "      <td>Up</td>\n",
       "      <td>0</td>\n",
       "    </tr>\n",
       "    <tr>\n",
       "      <th>3</th>\n",
       "      <td>48</td>\n",
       "      <td>F</td>\n",
       "      <td>ASY</td>\n",
       "      <td>138</td>\n",
       "      <td>214</td>\n",
       "      <td>0</td>\n",
       "      <td>Normal</td>\n",
       "      <td>108</td>\n",
       "      <td>Y</td>\n",
       "      <td>1.5</td>\n",
       "      <td>Flat</td>\n",
       "      <td>1</td>\n",
       "    </tr>\n",
       "    <tr>\n",
       "      <th>4</th>\n",
       "      <td>54</td>\n",
       "      <td>M</td>\n",
       "      <td>NAP</td>\n",
       "      <td>150</td>\n",
       "      <td>195</td>\n",
       "      <td>0</td>\n",
       "      <td>Normal</td>\n",
       "      <td>122</td>\n",
       "      <td>N</td>\n",
       "      <td>0.0</td>\n",
       "      <td>Up</td>\n",
       "      <td>0</td>\n",
       "    </tr>\n",
       "    <tr>\n",
       "      <th>5</th>\n",
       "      <td>39</td>\n",
       "      <td>M</td>\n",
       "      <td>NAP</td>\n",
       "      <td>120</td>\n",
       "      <td>339</td>\n",
       "      <td>0</td>\n",
       "      <td>Normal</td>\n",
       "      <td>170</td>\n",
       "      <td>N</td>\n",
       "      <td>0.0</td>\n",
       "      <td>Up</td>\n",
       "      <td>0</td>\n",
       "    </tr>\n",
       "  </tbody>\n",
       "</table>\n",
       "</div>"
      ],
      "text/plain": [
       "   Age Sex ChestPainType  RestingBP  Cholesterol  FastingBS RestingECG  MaxHR  \\\n",
       "1   49   F           NAP        160          180          0     Normal    156   \n",
       "2   37   M           ATA        130          283          0         ST     98   \n",
       "3   48   F           ASY        138          214          0     Normal    108   \n",
       "4   54   M           NAP        150          195          0     Normal    122   \n",
       "5   39   M           NAP        120          339          0     Normal    170   \n",
       "\n",
       "  ExerciseAngina  Oldpeak ST_Slope  HeartDisease  \n",
       "1              N      1.0     Flat             1  \n",
       "2              N      0.0       Up             0  \n",
       "3              Y      1.5     Flat             1  \n",
       "4              N      0.0       Up             0  \n",
       "5              N      0.0       Up             0  "
      ]
     },
     "execution_count": 202,
     "metadata": {},
     "output_type": "execute_result"
    }
   ],
   "source": [
    "df2 = df.drop(index=0) # Entferne die erste Zeile\n",
    "df2.head()             \n"
   ]
  },
  {
   "cell_type": "code",
   "execution_count": 408,
   "id": "5b8f8cf2",
   "metadata": {
    "cell_style": "split",
    "slideshow": {
     "slide_type": "fragment"
    }
   },
   "outputs": [],
   "source": [
    "df2.loc[3,\"ChestPainType\"], df2.iloc[3,2] # Ergebnis?\n"
   ]
  },
  {
   "cell_type": "code",
   "execution_count": 409,
   "id": "c0dbf23f",
   "metadata": {
    "cell_style": "split",
    "slideshow": {
     "slide_type": "fragment"
    }
   },
   "outputs": [
    {
     "data": {
      "text/plain": [
       "('ASY', 'NAP')"
      ]
     },
     "execution_count": 409,
     "metadata": {},
     "output_type": "execute_result"
    }
   ],
   "source": [
    "df2.loc[3,\"ChestPainType\"], df2.iloc[3,2]\n"
   ]
  }
 ],
 "metadata": {
  "celltoolbar": "Slideshow",
  "kernelspec": {
   "display_name": "Python 3 (ipykernel)",
   "language": "python",
   "name": "python3"
  },
  "language_info": {
   "codemirror_mode": {
    "name": "ipython",
    "version": 3
   },
   "file_extension": ".py",
   "mimetype": "text/x-python",
   "name": "python",
   "nbconvert_exporter": "python",
   "pygments_lexer": "ipython3",
   "version": "3.9.20"
  },
  "rise": {
   "overlay": "<table style='width:100%; font-size: 10pt; font-weight: bold, background-color: #EEEEEE'><tr><td style='width:30%'>&nbsp;</td><td style='width:20%'>Prof. Dr. Frank Schirmeier<br>VL03: Entscheidungsbäume</td><td style='width:20%'>Healthcare Data Analytics<br>Einf&uuml;hrung in Data Science</td><td style='width:20%; text-align:right'><img src='Logo_Hochschule_Kempten.png' width=107 height=50 /></td></tr></table>",
   "scroll": true,
   "theme": "simple",
   "transition": "slide"
  }
 },
 "nbformat": 4,
 "nbformat_minor": 5
}
