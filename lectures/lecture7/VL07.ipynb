{
 "cells": [
  {
   "cell_type": "markdown",
   "id": "86ad0126",
   "metadata": {
    "slideshow": {
     "slide_type": "skip"
    }
   },
   "source": [
    "29.4.25: evtl. Beispiel für ZGWS vereinfachen"
   ]
  },
  {
   "cell_type": "markdown",
   "id": "89b643f4",
   "metadata": {
    "cell_style": "split",
    "slideshow": {
     "slide_type": "slide"
    }
   },
   "source": [
    "<center>\n",
    "<img src=\"VL05_Material/kontextsensitivitaet.png\" width=\"50%\" />\n",
    "</center>"
   ]
  },
  {
   "cell_type": "markdown",
   "id": "ea1b5fbd",
   "metadata": {
    "cell_style": "split",
    "slideshow": {
     "slide_type": "-"
    }
   },
   "source": [
    "# <div style=\"color:blue;\">1. Lagemaße</div>\n",
    "# <div>2. Informationsvisualisierung</div>\n",
    "# <div>3. Streumaße</div>"
   ]
  },
  {
   "cell_type": "code",
   "execution_count": 1,
   "id": "2901a9bf",
   "metadata": {
    "slideshow": {
     "slide_type": "subslide"
    }
   },
   "outputs": [],
   "source": [
    "# Standard-Imports\n",
    "import numpy as np\n",
    "import pandas as pd\n",
    "import matplotlib.pyplot as plt\n",
    "\n",
    "# darüberhinaus...\n",
    "import seaborn as sns"
   ]
  },
  {
   "cell_type": "markdown",
   "id": "5d017267",
   "metadata": {
    "slideshow": {
     "slide_type": "subslide"
    }
   },
   "source": [
    "### 1.1 Wiederholung: Boxplot"
   ]
  },
  {
   "cell_type": "code",
   "execution_count": 3,
   "id": "33602bfa",
   "metadata": {
    "cell_style": "center",
    "slideshow": {
     "slide_type": "-"
    }
   },
   "outputs": [
    {
     "data": {
      "text/plain": [
       "array([  0,   1,   2,   3,   4,   5,   6,   7,   8,   9,  10,  11,  12,\n",
       "        13,  14,  15,  16,  17,  18,  19,  20,  21,  22,  23,  24,  25,\n",
       "        26,  27,  28,  29,  30,  31,  32,  33,  34,  35,  36,  37,  38,\n",
       "        39,  40,  41,  42,  43,  44,  45,  46,  47,  48,  49,  50,  51,\n",
       "        52,  53,  54,  55,  56,  57,  58,  59,  60,  61,  62,  63,  64,\n",
       "        65,  66,  67,  68,  69,  70,  71,  72,  73,  74,  75,  76,  77,\n",
       "        78,  79,  80,  81,  82,  83,  84,  85,  86,  87,  88,  89,  90,\n",
       "        91,  92,  93,  94,  95,  96,  97,  98,  99, 100, 160])"
      ]
     },
     "execution_count": 3,
     "metadata": {},
     "output_type": "execute_result"
    }
   ],
   "source": [
    "# Punkte 0,1,...,100,160 (160 ist ein \"Outlier\")\n",
    "data = np.arange(0,102,1)\n",
    "data[-1] = 160\n",
    "data\n"
   ]
  },
  {
   "cell_type": "code",
   "execution_count": 86,
   "id": "c9b5e865",
   "metadata": {
    "cell_style": "split",
    "scrolled": false,
    "slideshow": {
     "slide_type": "fragment"
    }
   },
   "outputs": [
    {
     "data": {
      "image/png": "[encoded data removed]",
      "text/plain": [
       "<Figure size 500x200 with 1 Axes>"
      ]
     },
     "metadata": {},
     "output_type": "display_data"
    }
   ],
   "source": [
    "# Boxplot\n",
    "plt.boxplot ( data, vert=False );\n",
    "plt.gcf().set_size_inches(5,2);\n",
    "# Wieviel % der Daten liegen in der Box?"
   ]
  },
  {
   "cell_type": "markdown",
   "id": "76226922",
   "metadata": {
    "cell_style": "split",
    "hide_input": false,
    "slideshow": {
     "slide_type": "fragment"
    }
   },
   "source": [
    "<div class=\"alert alert-block alert-warning\"><b>Frage: </b>Was bedeuten die jeweiligen Linien?</div>"
   ]
  },
  {
   "cell_type": "markdown",
   "id": "25e9afff",
   "metadata": {
    "cell_style": "split",
    "slideshow": {
     "slide_type": "fragment"
    }
   },
   "source": [
    "<img src=\"VL09_Material/boxplotexplanation.png\" width=\"120%\" />"
   ]
  },
  {
   "cell_type": "code",
   "execution_count": 16,
   "id": "866b77a0",
   "metadata": {
    "cell_style": "center",
    "code_folding": [],
    "hide_input": false,
    "scrolled": false,
    "slideshow": {
     "slide_type": "skip"
    }
   },
   "outputs": [],
   "source": [
    "# Create Plots and save to disc, in order to show them larger\n",
    "plt.boxplot ( data, vert=False );\n",
    "plt.gcf().set_size_inches(5,2);\n",
    "plt.annotate(xy=(25,1),xytext=(0,1.4),text=\"unteres Quartil (=25%-Quantil)\",color=\"blue\",arrowprops={\"color\":\"blue\",\"arrowstyle\":\"->\"})\n",
    "plt.annotate(xy=(50,1),xytext=(50,1.2),text=\"Median (=50% Quantil)\",color=\"blue\",arrowprops={\"color\":\"blue\",\"arrowstyle\":\"->\"})\n",
    "plt.annotate(xy=(75,1),xytext=(90,0.7), ha=\"right\", text=\"oberes Quartil (=75%-Quantil)\",color=\"blue\",arrowprops={\"color\":\"blue\",\"arrowstyle\":\"->\"})\n",
    "plt.annotate(xy=(160,1),xytext=(150,0.7),ha=\"right\",text=\"Ausreißer\",color=\"blue\",arrowprops={\"color\":\"blue\",\"arrowstyle\":\"->\"})\n",
    "plt.annotate(xy=(100,1),xytext=(82,0.3),ha=\"center\",text='rechter Whisker (endet beim letzten Punkt\\n<= 75%-Quantil+1.5*\"Boxbreite\")',color=\"blue\",arrowprops={\"color\":\"blue\",\"arrowstyle\":\"->\"})\n",
    "plt.ylim(0.2,1.6);\n",
    "plt.tight_layout()\n",
    "plt.savefig(\"VL09_Material/boxplotexplanation.png\", dpi=200)\n",
    "plt.close()\n",
    "\n",
    "plt.boxplot ( data, vert=False );\n",
    "plt.gcf().set_size_inches(5,2);\n",
    "plt.annotate(xy=(25,1),xytext=(0,1.4),text=\"unteres Quartil (=25%-Quantil)\",color=\"blue\",arrowprops={\"color\":\"blue\",\"arrowstyle\":\"->\"})\n",
    "plt.annotate(xy=(50,1),xytext=(50,1.2),text=\"Median (=50% Quantil)\",color=\"blue\",arrowprops={\"color\":\"blue\",\"arrowstyle\":\"->\"})\n",
    "plt.annotate(xy=(75,1),xytext=(90,0.7), ha=\"right\", text=\"oberes Quartil (=75%-Quantil)\",color=\"blue\",arrowprops={\"color\":\"blue\",\"arrowstyle\":\"->\"})\n",
    "plt.annotate(xy=(160,1),xytext=(150,0.7),ha=\"right\",text=\"Ausreißer\",color=\"blue\",arrowprops={\"color\":\"blue\",\"arrowstyle\":\"->\"})\n",
    "plt.annotate(xy=(100,1),xytext=(82,0.3),ha=\"center\",text='rechter Whisker (endet beim letzten Punkt\\n<= 75%-Quantil+1.5*IQR)',color=\"blue\",arrowprops={\"color\":\"blue\",\"arrowstyle\":\"->\"})\n",
    "plt.ylim(0.2,1.6);\n",
    "plt.tight_layout()\n",
    "plt.savefig(\"VL09_Material/boxplotexplanation_iqr.png\", dpi=200)\n",
    "plt.close()\n"
   ]
  },
  {
   "cell_type": "markdown",
   "id": "4ccec509",
   "metadata": {
    "slideshow": {
     "slide_type": "subslide"
    }
   },
   "source": [
    "### 1.2 (empirisches) Quantil"
   ]
  },
  {
   "cell_type": "markdown",
   "id": "3c5d0f25",
   "metadata": {
    "cell_style": "split",
    "slideshow": {
     "slide_type": "-"
    }
   },
   "source": [
    "Ein **q-Quantil** $Q_q$ erfüllt die notwendige Eigenschaft, dass (q\\*100)\\% der Daten kleinergleich $Q_q$ ist.\n",
    "<br>\n",
    "<br>\n",
    "<br>\n",
    "<br>"
   ]
  },
  {
   "cell_type": "code",
   "execution_count": 67,
   "id": "ad9c1658",
   "metadata": {
    "cell_style": "split",
    "slideshow": {
     "slide_type": "fragment"
    }
   },
   "outputs": [
    {
     "data": {
      "text/plain": [
       "50.5"
      ]
     },
     "execution_count": 67,
     "metadata": {},
     "output_type": "execute_result"
    }
   ],
   "source": [
    "# die unteren 50% der Daten: 1, 2, ..., 50\n",
    "# die oberen 50% der Daten: 51, 52, ..., 100\n",
    "np.quantile ( range(1,101), q=0.5 )\n"
   ]
  },
  {
   "cell_type": "code",
   "execution_count": 68,
   "id": "03ceeea4",
   "metadata": {
    "cell_style": "split",
    "slideshow": {
     "slide_type": "-"
    }
   },
   "outputs": [
    {
     "data": {
      "text/plain": [
       "50.0"
      ]
     },
     "execution_count": 68,
     "metadata": {},
     "output_type": "execute_result"
    }
   ],
   "source": [
    "# die unteren 50% der Daten: 0,1,...,49,(50)\n",
    "# die oberen 50% der Daten: (50),51,52,...,100\n",
    "np.quantile ( range(0,101), q=0.5 )\n"
   ]
  },
  {
   "cell_type": "markdown",
   "id": "39b34f7e",
   "metadata": {
    "slideshow": {
     "slide_type": "fragment"
    }
   },
   "source": [
    "Es gibt verschiedene Möglichkeiten für eine formale Definition. Eine einfache Definition lautet:<div class=\"smallfont\">(Man kann hier noch genauer werden: Wenn das gesuchte Quantil zwischen zwei Punkten liegt, aber näher am linken, dann sollte der Rückgabewert auch den linken Punkt höher gewichten. So ist es in numpy implementiert.)</div>\n",
    "\n",
    "$$\n",
    "Q_q(x) = \\begin{cases}\n",
    "\\frac{1}{2}(x_{nq}+x_{nq+1})\\ ,& \\text{wenn $nq$ ganzzahlig ist,} \\\\\n",
    "(x_{\\lfloor nq+1 \\rfloor }\\ ,& \\text{wenn $nq$ nicht ganzzahlig ist.}\n",
    "\\end{cases}\n",
    "$$\n",
    "\n",
    "Hierbei sei der Datenvektor $x=(x_1,...,x_n)\\in\\mathbb{R}^n$ der Größe nach sortiert,<br>und ${\\lfloor 3.14 \\rfloor }=3$ bezeichne die Floor-Funktion."
   ]
  },
  {
   "cell_type": "markdown",
   "id": "ba48d0a2",
   "metadata": {
    "slideshow": {
     "slide_type": "subslide"
    }
   },
   "source": [
    "**Verhalten bei Outliern:**"
   ]
  },
  {
   "cell_type": "code",
   "execution_count": 21,
   "id": "c5652a66",
   "metadata": {
    "cell_style": "split",
    "slideshow": {
     "slide_type": "-"
    }
   },
   "outputs": [
    {
     "data": {
      "text/plain": [
       "(50.0, 99.0, 100)"
      ]
     },
     "execution_count": 21,
     "metadata": {},
     "output_type": "execute_result"
    }
   ],
   "source": [
    "# Zahlen 0,1,...,99,100 (keine Outlier)\n",
    "data = np.arange(0,101)\n",
    "\n",
    "np.quantile(data,q=0.5),      \\\n",
    "   np.quantile(data, q=0.99), \\\n",
    "   max (data)\n"
   ]
  },
  {
   "cell_type": "code",
   "execution_count": 22,
   "id": "6e121258",
   "metadata": {
    "cell_style": "split",
    "slideshow": {
     "slide_type": "fragment"
    }
   },
   "outputs": [
    {
     "data": {
      "text/plain": [
       "(50.0, 99.0, 10000)"
      ]
     },
     "execution_count": 22,
     "metadata": {},
     "output_type": "execute_result"
    }
   ],
   "source": [
    "# Zahlen 0,1,...,99,10000 (ein Outlier)\n",
    "data = np.arange(0,100).tolist() + [10000]\n",
    "\n",
    "np.quantile(data, q=0.5),     \\\n",
    "   np.quantile(data, q=0.99), \\\n",
    "   max(data)\n"
   ]
  },
  {
   "cell_type": "markdown",
   "id": "69e28c9e",
   "metadata": {
    "slideshow": {
     "slide_type": "fragment"
    }
   },
   "source": [
    "**Ergebnis:** Quantile sind robust gegenüber dem Vorliegen von Outliern.  \n",
    "  \n",
    "**Best practice:** Zusätzlich zum Maximum z.B. das 99%-Quantil anschauen, zur Beschreibung des Wertebereichs der Daten."
   ]
  },
  {
   "cell_type": "markdown",
   "id": "9cc554e5",
   "metadata": {
    "slideshow": {
     "slide_type": "subslide"
    }
   },
   "source": [
    "### 1.3 Median\n",
    "\n",
    "Der Median ist identisch zum 50%-Quantil der Daten: <span class=\"smallfont\">(wenn obige Definition des Quantils verwendet wird)</span>\n",
    "\n",
    "\n",
    "$$\n",
    "\\text{Median}(x) = \\begin{cases}\n",
    "\\frac{1}{2}(x_{n/2}+x_{n/2+1})\\ ,& \\text{wenn $n$ gerade ist,} \\\\\n",
    "(x_{\\lfloor n/2+1 \\rfloor }\\ ,& \\text{wenn $n$ ungerade ist.}\n",
    "\\end{cases}\n",
    "$$\n",
    "\n",
    "Hierbei sei der Datenvektor $x=(x_1,...,x_n)\\in\\mathbb{R}^n$ der Größe nach sortiert,<br>und ${\\lfloor 3.14 \\rfloor }=3$ bezeichne die Floor-Funktion."
   ]
  },
  {
   "cell_type": "markdown",
   "id": "89f3dd00",
   "metadata": {
    "slideshow": {
     "slide_type": "fragment"
    }
   },
   "source": [
    "Analog ist das Minimum identisch zum 0%-Quantil und das Maximum identisch zum 100%-Quantil."
   ]
  },
  {
   "cell_type": "markdown",
   "id": "928984db",
   "metadata": {
    "slideshow": {
     "slide_type": "fragment"
    }
   },
   "source": [
    "<div class=\"alert alert-block alert-warning\"><b>Frage:</b> Was ist der Median von x=[9,2,9,4] \n",
    "?</div>"
   ]
  },
  {
   "cell_type": "code",
   "execution_count": 2,
   "id": "c8b90a2b",
   "metadata": {
    "slideshow": {
     "slide_type": "fragment"
    }
   },
   "outputs": [
    {
     "data": {
      "text/plain": [
       "6.5"
      ]
     },
     "execution_count": 2,
     "metadata": {},
     "output_type": "execute_result"
    }
   ],
   "source": [
    "np.median ( [9,2,9,4] )"
   ]
  },
  {
   "cell_type": "markdown",
   "id": "3e3465a8",
   "metadata": {
    "slideshow": {
     "slide_type": "subslide"
    }
   },
   "source": [
    "### 1.4 Arithmetischer Mittelwert\n",
    "\n",
    "Der (arithmetische) Mittelwert (engl.: *(arithmetic) mean*) eines Datenvektors $x=(x_1,...,x_n)\\in \\mathbb{R}^n$ ist definiert via\n",
    "$$\n",
    "\\overline{x} = \\frac{1}{n} \\sum_{i=1}^n x_i\n",
    "$$"
   ]
  },
  {
   "cell_type": "markdown",
   "id": "e5aef622",
   "metadata": {
    "slideshow": {
     "slide_type": "fragment"
    }
   },
   "source": [
    "<div class=\"alert alert-block alert-warning\"><b>Frage:</b> Was ist der Mittelwert von x=[9,2,9,4]?</div>"
   ]
  },
  {
   "cell_type": "code",
   "execution_count": 3,
   "id": "54e58640",
   "metadata": {
    "slideshow": {
     "slide_type": "fragment"
    }
   },
   "outputs": [
    {
     "data": {
      "text/plain": [
       "6.0"
      ]
     },
     "execution_count": 3,
     "metadata": {},
     "output_type": "execute_result"
    }
   ],
   "source": [
    "np.mean ( [9,2,9,4] )"
   ]
  },
  {
   "cell_type": "markdown",
   "id": "b8354f00",
   "metadata": {
    "slideshow": {
     "slide_type": "subslide"
    }
   },
   "source": [
    "**Verhalten bei Outliern:**"
   ]
  },
  {
   "cell_type": "code",
   "execution_count": 28,
   "id": "7262bc05",
   "metadata": {
    "cell_style": "split",
    "slideshow": {
     "slide_type": "-"
    }
   },
   "outputs": [
    {
     "data": {
      "text/plain": [
       "(50.0, 50.0)"
      ]
     },
     "execution_count": 28,
     "metadata": {},
     "output_type": "execute_result"
    }
   ],
   "source": [
    "# Zahlen 0,1,...,99,100 (keine Outlier)\n",
    "data = np.arange(0,101)\n",
    "\n",
    "np.median(data), np.mean(data)\n"
   ]
  },
  {
   "cell_type": "code",
   "execution_count": 29,
   "id": "6cc9c001",
   "metadata": {
    "cell_style": "split",
    "slideshow": {
     "slide_type": "fragment"
    }
   },
   "outputs": [
    {
     "data": {
      "text/plain": [
       "(50.0, 148.01980198019803)"
      ]
     },
     "execution_count": 29,
     "metadata": {},
     "output_type": "execute_result"
    }
   ],
   "source": [
    "# Zahlen 0,1,...,99,10000 (ein Outlier)\n",
    "data = np.arange(0,100).tolist() + [10000]\n",
    "\n",
    "np.median(data), np.mean(data)\n"
   ]
  },
  {
   "cell_type": "markdown",
   "id": "bc2f5683",
   "metadata": {
    "slideshow": {
     "slide_type": "fragment"
    }
   },
   "source": [
    "**Ergebnis:** Der Median ist robust gegenüber dem Vorliegen von Outliern, der Mittelwert nicht.  \n",
    "  \n",
    "**Best practice:** Der Median ist eine gute Größe, die allgemeine Lage der Daten zu beschreiben (d.h. ein gutes *Lagemaß*)."
   ]
  },
  {
   "cell_type": "markdown",
   "id": "4e0b6d30",
   "metadata": {
    "slideshow": {
     "slide_type": "fragment"
    }
   },
   "source": [
    "<div class=\"alert alert-block alert-warning\"><b>Frage:</b> Welche Gründe können Sie sich trotzdem für die Verwendung des Mittelwerts vorstellen?</div>"
   ]
  },
  {
   "cell_type": "markdown",
   "id": "d9077993",
   "metadata": {
    "slideshow": {
     "slide_type": "subslide"
    }
   },
   "source": [
    "### 1.5 Gesetz der großen Zahlen"
   ]
  },
  {
   "cell_type": "markdown",
   "id": "fee3a6b0",
   "metadata": {
    "slideshow": {
     "slide_type": "-"
    }
   },
   "source": [
    "Neben der größeren Akzeptanz (\"Management-tauglich\") des Mittelwerts weitere Begründung durch das G. d. gr. Z."
   ]
  },
  {
   "cell_type": "markdown",
   "id": "091ecdbb",
   "metadata": {
    "slideshow": {
     "slide_type": "fragment"
    }
   },
   "source": [
    "<div class=\"alert alert-block alert-info\">\n",
    "    <b>Gesetz der großen Zahlen (Spezialfall):</b> Es seien $X_1,X_2,\\dots$ reellwertige Zufallszahlen (z.B. wiederholte Messungen):    \n",
    "$$X_i = \\mu + \\epsilon_i\\ .$$\n",
    "    \n",
    "Hierbei modelliere $\\mu$ den wahren Wert und $\\epsilon_i$ ein zufälliges Rauschen, das während der Messung entsteht.  \n",
    "<br>\n",
    "Dann gilt\\*, dass der Mittelwert der ersten $n$ Zahlen gegen den wahren Wert konvergiert:\n",
    "\n",
    "$$\n",
    "\\lim_{n\\to\\infty} \\frac{1}{n} \\sum_{i=1}^n X_i = \\mu\n",
    "$$\n",
    "</div><br>\n",
    "<div class=\"smallfont\">* unter technischen Annahmen, z.B.: Das Rauschen sei symmetrisch um 0 verteilt (d.h. $\\epsilon_1$ habe die gleiche Verteilung wie $-\\epsilon_1$); die einzelnen Messungen liefern unabhängige, aber identisch verteilte Ergebnisse; und es können keine beliebig hohen Rauschbeträge auftreten (d.h. $\\epsilon_1 \\le C$ für ein $C>0$).</div>"
   ]
  },
  {
   "cell_type": "markdown",
   "id": "ac157a1c",
   "metadata": {
    "slideshow": {
     "slide_type": "fragment"
    }
   },
   "source": [
    "<br>**Interpretation:** Der arithmetische Mittelwert liefert auch für endliches $n$ eine gute Beschreibung des \"wahren Wertes\".  \n",
    "<div class=\"smallfont\">(Allgemein ist der \"wahre Wert\" der Erwartungswert $\\mathbb{E}[X]$ der Verteilung, die den Zufallszahlen $X_1,\\dots$ zugrunde liegt.)</div>"
   ]
  },
  {
   "cell_type": "markdown",
   "id": "508671a7",
   "metadata": {
    "slideshow": {
     "slide_type": "subslide"
    }
   },
   "source": [
    "Gesetz der großen Zahlen im Beispiel:"
   ]
  },
  {
   "cell_type": "code",
   "execution_count": 95,
   "id": "0f87520e",
   "metadata": {
    "cell_style": "split",
    "scrolled": false,
    "slideshow": {
     "slide_type": "fragment"
    }
   },
   "outputs": [
    {
     "data": {
      "image/png": "[encoded data removed]",
      "text/plain": [
       "<Figure size 640x480 with 1 Axes>"
      ]
     },
     "metadata": {},
     "output_type": "display_data"
    }
   ],
   "source": [
    "# Zufallszahlen X1,X2,..., wobei X_i = µ + Rauschen\n",
    "R = np.random.default_rng ( 42 )\n",
    "µ = 3.141592\n",
    "x = R.normal ( loc=µ, scale=1, size=1000 )\n",
    "sns.swarmplot ( data=x, orient=\"h\" );\n",
    "plt.title('\"Swarmplot\" von 1000 Zufallszahlen: '+\n",
    "          'X_i = µ + Rauschen');\n",
    "\n",
    "# hier wird ein Swarmplot verwendet; \"geordnete\"\n",
    "# Alternative zum Stripplot, die sich visuell einer\n",
    "# KDE annähert"
   ]
  },
  {
   "cell_type": "code",
   "execution_count": 50,
   "id": "488d9c8a",
   "metadata": {
    "cell_style": "split",
    "slideshow": {
     "slide_type": "fragment"
    }
   },
   "outputs": [
    {
     "data": {
      "text/plain": [
       "(2.806020691594129, 3.0913223885161427, 3.1127004490040533)"
      ]
     },
     "execution_count": 50,
     "metadata": {},
     "output_type": "execute_result"
    }
   ],
   "source": [
    "# Mittelwert der ersten n Zahlen\n",
    "x[:10].mean(), x[:100].mean(), x[:1000].mean()\n"
   ]
  },
  {
   "cell_type": "code",
   "execution_count": 94,
   "id": "0896a6fa",
   "metadata": {
    "cell_style": "split",
    "slideshow": {
     "slide_type": "fragment"
    }
   },
   "outputs": [
    {
     "data": {
      "image/png": "[encoded data removed]",
      "text/plain": [
       "<Figure size 500x300 with 1 Axes>"
      ]
     },
     "metadata": {},
     "output_type": "display_data"
    }
   ],
   "source": [
    "# Visualisierung des Konvergenzverlaufs\n",
    "plt.plot ( x.cumsum() / np.ones(1000).cumsum() )\n",
    "plt.xlabel(\"Länge n des Datenvektors\")\n",
    "plt.ylabel(\"Mittelwert der ersten n Punkte\")\n",
    "plt.title(\"Konvergenzverlauf im Gesetz d. gr. Zahlen\");\n",
    "plt.gcf().set_size_inches(5,3);\n"
   ]
  },
  {
   "cell_type": "code",
   "execution_count": null,
   "id": "b75529f5",
   "metadata": {
    "slideshow": {
     "slide_type": "skip"
    }
   },
   "outputs": [],
   "source": []
  },
  {
   "cell_type": "markdown",
   "id": "475bc738",
   "metadata": {
    "cell_style": "split",
    "slideshow": {
     "slide_type": "slide"
    }
   },
   "source": [
    "<center>\n",
    "<img src=\"VL05_Material/kontextsensitivitaet.png\" width=\"50%\" />\n",
    "</center>"
   ]
  },
  {
   "cell_type": "markdown",
   "id": "ad9908a6",
   "metadata": {
    "cell_style": "split",
    "slideshow": {
     "slide_type": "-"
    }
   },
   "source": [
    "# <div>1. Lagemaße</div>\n",
    "# <div style=\"color:blue;\">2. Informationsvisualisierung</div>\n",
    "# <div>3. Streumaße</div>"
   ]
  },
  {
   "cell_type": "markdown",
   "id": "385d5580",
   "metadata": {
    "slideshow": {
     "slide_type": "subslide"
    }
   },
   "source": [
    "### 2.1 Eine historische Einführung "
   ]
  },
  {
   "cell_type": "markdown",
   "id": "f9f1836b",
   "metadata": {
    "slideshow": {
     "slide_type": "subslide"
    }
   },
   "source": [
    "<center><img src=\"VL05_Material/friendlywainer_histofdataviz.png\" width=\"60%\" />\n",
    "<div class=\"tinyfont\">M. Friendly, H. Wainer: A History of Data Visualization and Graphic Communication, Harvard University Press, 2021</div></center>"
   ]
  },
  {
   "cell_type": "markdown",
   "id": "1b6c4dcb",
   "metadata": {
    "slideshow": {
     "slide_type": "fragment"
    }
   },
   "source": [
    "<div style=\"color:red; padding-left: 700px\">xxxxxxxxx</div>"
   ]
  },
  {
   "cell_type": "markdown",
   "id": "60fa710d",
   "metadata": {
    "slideshow": {
     "slide_type": "subslide"
    }
   },
   "source": [
    "**William Playfair** (1759-1823): Ein Meilenstein in der grafischen Darstellung von Daten\n",
    "<center><img src=\"VL05_Material/Playfair_TimeSeries-2.png\" width=\"65%\" />\n",
    "<div class=\"tinyfont\">William Playfair: Commercial and Political Atlas, 1786\n",
    "(https://en.wikipedia.org/wiki/File:Playfair_TimeSeries-2.png)</div></center>"
   ]
  },
  {
   "cell_type": "markdown",
   "id": "1d24a7ca",
   "metadata": {
    "cell_style": "center",
    "slideshow": {
     "slide_type": "subslide"
    }
   },
   "source": [
    "**William Playfair** (1759-1823): Mutmaßlich Erfinder von Balken- und Piechart ...\n",
    "\n",
    "<center><img src=\"VL05_Material/1786_Playfair_-_Exports_and_Imports_of_Scotland_to_and_from_different_parts_for_one_Year_from_Christmas_1780_to_Christmas_1781.jpg\" width=\"70%\" />\n",
    "\n",
    "<div class=\"tinyfont\">William Playfair: Commercial and Political Atlas, 1786\n",
    "(https://en.wikipedia.org/wiki/William_Playfair)</div></center>"
   ]
  },
  {
   "cell_type": "markdown",
   "id": "22530bbe",
   "metadata": {
    "cell_style": "split",
    "slideshow": {
     "slide_type": "subslide"
    }
   },
   "source": [
    "... allerdings im Detail manchmal noch nicht ganz modern:\n",
    "\n",
    "<center><img src=\"VL05_Material/Playfair-piechart.jpg\" width=\"50%\" />\n",
    "\n",
    "<div class=\"tinyfont\">William Playfair: The Commercial and Political Atlas and Statistical Breviary, 1801\n",
    "(https://en.wikipedia.org/wiki/William_Playfair)</div></center>"
   ]
  },
  {
   "cell_type": "markdown",
   "id": "03a78614",
   "metadata": {
    "cell_style": "split",
    "slideshow": {
     "slide_type": "fragment"
    }
   },
   "source": [
    "<center><img src=\"VL05_Material/playfair3.png\" width=\"60%\" />\n",
    "(Jahre sind nicht äquidistant verteilt)\n",
    "<div class=\"tinyfont\">Wainer, H., Friendly, M. (2022). On the Origins of Data Visualization. In: Carriquiry, A.L., Tanur, J.M., Eddy, W.F. (eds) Statistics in the Public Interest. Springer Series in the Data Sciences. Springer, Cham. https://doi.org/10.1007/978-3-030-75460-0_27</div></center>"
   ]
  },
  {
   "cell_type": "markdown",
   "id": "a3048af1",
   "metadata": {
    "slideshow": {
     "slide_type": "subslide"
    }
   },
   "source": [
    "<center><img src=\"VL05_Material/friendlywainer_histofdataviz.png\" width=\"60%\" />\n",
    "<div class=\"tinyfont\">M. Friendly, H. Wainer: A History of Data Visualization and Graphic Communication, Harvard University Press, 2021</div></center>"
   ]
  },
  {
   "cell_type": "markdown",
   "id": "8ab64a85",
   "metadata": {
    "slideshow": {
     "slide_type": "fragment"
    }
   },
   "source": [
    "<div style=\"color:red; padding-left: 250px\">xxxxxxxxxxxxxxxxxxxxxxxxxxxx</div>"
   ]
  },
  {
   "cell_type": "markdown",
   "id": "89503cba",
   "metadata": {
    "slideshow": {
     "slide_type": "subslide"
    }
   },
   "source": [
    "Frühe Datenvisualisierungen:"
   ]
  },
  {
   "cell_type": "markdown",
   "id": "35675fe3",
   "metadata": {
    "cell_style": "split",
    "slideshow": {
     "slide_type": "fragment"
    }
   },
   "source": [
    "\"Oresme's Pipes\" (~1360):\n",
    "\n",
    "<img src=\"VL05_Material/oresme.png\" width=\"60%\" />\n",
    "\n",
    " “If Oresme had data,  \n",
    " we might have had  \n",
    " statistical graphs  \n",
    " 400 years before Playfair”\n",
    " <div class=\"tinyfont\">(aus [2], Zitat aus Funkhouser, 1937)</div>"
   ]
  },
  {
   "cell_type": "markdown",
   "id": "d3769419",
   "metadata": {
    "cell_style": "split",
    "slideshow": {
     "slide_type": "fragment"
    }
   },
   "source": [
    "Michael Florent van Langren (1628):\n",
    "    \n",
    "<img src=\"VL05_Material/langren.png\" width=\"90%\" />\n",
    "\n",
    "**\"The first (Known) Statistical Graph\"**\n",
    "\n",
    "<div class=\"tinyfont\">Friendly, Michael et al. “The First (Known) Statistical Graph: Michael Florent van Langren and the “Secret” of Longitude.” The American Statistician 64 (2010): 174 - 184.      \n",
    "https://www.datavis.ca/papers/langren-TAS09154.pdf\n",
    "</div>"
   ]
  },
  {
   "cell_type": "markdown",
   "id": "a9c9d40c",
   "metadata": {
    "slideshow": {
     "slide_type": "subslide"
    }
   },
   "source": [
    "Der erste \"Statistische Graph\":"
   ]
  },
  {
   "cell_type": "markdown",
   "id": "55b84322",
   "metadata": {
    "slideshow": {
     "slide_type": "-"
    }
   },
   "source": [
    "Michael Florent van Langren (1628):  \n",
    "\n",
    "**Schätzung des Längengradunterschieds zwischen Toledo und Rom.**\n",
    "  \n",
    "  \n",
    "<img src=\"VL05_Material/langren3.png\" width=\"90%\" />\n",
    "\n",
    "<div class=\"tinyfont\">Aus: Friendly, Michael et al. “The First (Known) Statistical Graph: Michael Florent van Langren and the “Secret” of Longitude.” The American Statistician 64 (2010): 174 - 184.      \n",
    "https://www.datavis.ca/papers/langren-TAS09154.pdf\n",
    "</div>"
   ]
  },
  {
   "cell_type": "markdown",
   "id": "75839c50",
   "metadata": {
    "slideshow": {
     "slide_type": "subslide"
    }
   },
   "source": [
    "<center><img src=\"VL05_Material/langren2.png\" width=\"70%\" />\n",
    "<div class=\"tinyfont\">aus [2]<div></center>"
   ]
  },
  {
   "cell_type": "markdown",
   "id": "a1d3bff3",
   "metadata": {
    "slideshow": {
     "slide_type": "subslide"
    }
   },
   "source": [
    "**Christiaan Huygens (1629-1695)**: Erste quantitative Visualisierung\n",
    "\n",
    "<center><img src=\"VL05_Material/huygens.png\" width=\"60%\" />\n",
    "<div class=\"tinyfont\">Wainer, H., Friendly, M. (2022). On the Origins of Data Visualization. In: Carriquiry, A.L., Tanur, J.M., Eddy, W.F. (eds) Statistics in the Public Interest. Springer Series in the Data Sciences. Springer, Cham. https://doi.org/10.1007/978-3-030-75460-0_27</div></center>"
   ]
  },
  {
   "cell_type": "markdown",
   "id": "66438be5",
   "metadata": {
    "slideshow": {
     "slide_type": "subslide"
    }
   },
   "source": [
    "<center><img src=\"VL05_Material/friendlywainer_histofdataviz.png\" width=\"60%\" />\n",
    "<div class=\"tinyfont\">M. Friendly, H. Wainer: A History of Data Visualization and Graphic Communication, Harvard University Press, 2021</div></center>"
   ]
  },
  {
   "cell_type": "markdown",
   "id": "c0372cf6",
   "metadata": {
    "slideshow": {
     "slide_type": "fragment"
    }
   },
   "source": [
    "<div style=\"color:red; padding-left: 800px\">xxxxxxxxxxxxxxxxxxxx</div>"
   ]
  },
  {
   "cell_type": "markdown",
   "id": "dbcfaa77",
   "metadata": {
    "slideshow": {
     "slide_type": "subslide"
    }
   },
   "source": [
    "**Charles Minard (1781-1870):** “the best statistical graphic ever produced” (E. Tufte)\n",
    "\n",
    "<img src=\"VL05_Material/minard.png\" width=\"95%\" />\n",
    "<div class=\"tinyfont\">https://en.wikipedia.org/wiki/Charles_Joseph_Minard</div>"
   ]
  },
  {
   "cell_type": "markdown",
   "id": "c945c86f",
   "metadata": {
    "slideshow": {
     "slide_type": "subslide"
    }
   },
   "source": [
    "**John Snow** (1813-1858): \"erste Root Cause Analyse\" (Ursachensuche bei einem Cholera-Ausbruch 1854 in London)\n",
    "<center><img src=\"VL05_Material/1024px-Snow-cholera-map-1.jpg\" width=\"50%\" />\n",
    "<div class=\"tinyfont\">https://en.wikipedia.org/wiki/John_Snow</div></center>"
   ]
  },
  {
   "cell_type": "markdown",
   "id": "851177ef",
   "metadata": {
    "slideshow": {
     "slide_type": "subslide"
    }
   },
   "source": [
    "<center><div style=\"font-size:1000%\">...</div></center>"
   ]
  },
  {
   "cell_type": "markdown",
   "id": "d34c3399",
   "metadata": {
    "slideshow": {
     "slide_type": "subslide"
    }
   },
   "source": [
    "<center>\n",
    "<img src=\"VL05_Material/toronto.png\" width=\"80%\" />\n",
    "<div class=\"tinyfont\">Aus: Andy Kirk. Data Visualization: A Successful Design Process. Packt Publishing, 2012. S. 43</div>\n",
    "</center>"
   ]
  },
  {
   "cell_type": "markdown",
   "id": "ba042dd3",
   "metadata": {
    "slideshow": {
     "slide_type": "subslide"
    }
   },
   "source": [
    "<img src=\"VL05_Material/moderna_clean.png\" />"
   ]
  },
  {
   "cell_type": "markdown",
   "id": "e36c9a3f",
   "metadata": {
    "slideshow": {
     "slide_type": "subslide"
    }
   },
   "source": [
    "<img src=\"VL05_Material/moderna.png\" />\n",
    "<div class=\"tinyfont\">Moderna-Zulassungsstudie ihres COVID-19-Impfstoffs: https://www.fda.gov/media/144434/download, S. 28</div>"
   ]
  },
  {
   "cell_type": "markdown",
   "id": "30325ff2",
   "metadata": {
    "slideshow": {
     "slide_type": "subslide"
    }
   },
   "source": [
    "<center><img src=\"VL05_Material/globalwarming01.png\" width=\"90%\" /></center>"
   ]
  },
  {
   "cell_type": "markdown",
   "id": "c594b756",
   "metadata": {
    "slideshow": {
     "slide_type": "subslide"
    }
   },
   "source": [
    "<center><img src=\"VL05_Material/globalwarming02.png\" width=\"90%\" />\n",
    "<div class=\"tinyfont\">Ed Hawkins, University of Reading: https://showyourstripes.info/l/globe</div></center>"
   ]
  },
  {
   "cell_type": "markdown",
   "id": "88bd2d9e",
   "metadata": {
    "slideshow": {
     "slide_type": "subslide"
    }
   },
   "source": [
    "**Gute Quellen:**\n",
    "\n",
    "[1] M. Friendly, H. Wainer: A History of Data Visualization and Graphic Communication, Harvard University Press, 2021  \n",
    "[2] M. Friendly: A gleam in the mind's eye. Stories and lessond from the history of data visualization. (Talk given 2021)\n",
    "https://www.datavis.ca/papers/SSC2021-talk.pdf"
   ]
  },
  {
   "cell_type": "markdown",
   "id": "e93b45a3",
   "metadata": {
    "slideshow": {
     "slide_type": "subslide"
    }
   },
   "source": [
    "### 2.2 Theoretische Grundlagen"
   ]
  },
  {
   "cell_type": "markdown",
   "id": "f9c091e6",
   "metadata": {
    "cell_style": "split",
    "slideshow": {
     "slide_type": "fragment"
    }
   },
   "source": [
    "Einige Meilensteine:\n",
    "- Max Wertheimer, Kurt Koffka, Wolfgang Kohler (ab 1922): Gestaltpsychologie (*Gestalt Laws*)\n",
    "- Jaques Bertin: Autor von *Sémiologie graphique* / *Semiology of Graphics* (1967 / 1983)\n",
    "- John Tukey: Autor von *Exploratory Data Analysis*, 1977 (Erfinder des Worts \"Bit\")\n",
    "- Edward Tufte: Autor von z.B. *The Visual Display of Quantitative Information*, 1982 (Erfinder des Worts \"Chartjunk\")\n",
    "- Leland Wilkinson: Autor von *The Grammar of Graphics*, 1999 (Grundlage von modernen Grafikpaketen wie ggplot2)"
   ]
  },
  {
   "cell_type": "markdown",
   "id": "03eade05",
   "metadata": {
    "cell_style": "split",
    "slideshow": {
     "slide_type": "fragment"
    }
   },
   "source": [
    "> Most principles of design should be greeted with some skepticism... we may come to see only through the lenses of word authority rather than with our own eyes.\n",
    "\n",
    "<div align=\"right\">E. Tufte: The Visual Display of Quantitative Information</div>\n"
   ]
  },
  {
   "cell_type": "markdown",
   "id": "8dcb4108",
   "metadata": {
    "slideshow": {
     "slide_type": "-"
    }
   },
   "source": [
    " "
   ]
  },
  {
   "cell_type": "markdown",
   "id": "3af2dc05",
   "metadata": {
    "cell_style": "split",
    "slideshow": {
     "slide_type": "subslide"
    }
   },
   "source": [
    "**Gestalt Laws:** Gesetz der Nähe\n",
    "\n",
    "<center>\n",
    "<img src=\"VL05_Material/gesetzdernaehe.png\" width=\"90%\"/>\n",
    "<div class=\"tinyfont\">https://de.wikipedia.org/wiki/Datei:Gestalt_proximity.svg</div>\n",
    "</center>\n",
    "\n",
    "Elemente mit geringen Abständen zueinander werden  \n",
    "als zusammengehörig wahrgenommen.\n",
    "\n"
   ]
  },
  {
   "cell_type": "markdown",
   "id": "c688c44d",
   "metadata": {
    "cell_style": "split",
    "slideshow": {
     "slide_type": "fragment"
    }
   },
   "source": [
    "**Gestalt Laws:** Gesetz der Ähnlichkeit\n",
    "\n",
    "<center>\n",
    "<img src=\"VL05_Material/gesetzderaehnlichkeit.png\" width=\"40%\"/>\n",
    "\n",
    "<div class=\"tinyfont\">https://de.wikipedia.org/wiki/Datei:Gestalt_similarity.svg</div>\n",
    "</center>\n",
    "\n",
    "Einander ähnliche Elemente werden eher als zusammengehörig erlebt als einander unähnliche.\n"
   ]
  },
  {
   "cell_type": "markdown",
   "id": "1db7ccf8",
   "metadata": {
    "slideshow": {
     "slide_type": "subslide"
    }
   },
   "source": [
    "<div class=\"alert alert-block alert-warning\"><b>Aufgabe:</b> Welches Gesetz ist rechts verletzt?"
   ]
  },
  {
   "cell_type": "markdown",
   "id": "929a8ee0",
   "metadata": {
    "cell_style": "split",
    "slideshow": {
     "slide_type": "fragment"
    }
   },
   "source": [
    "<div class=\"smallfont\">\n",
    "<b>Gestalt Laws:</b> Gesetz der Nähe\n",
    "\n",
    "<img src=\"VL05_Material/gesetzdernaehe.png\" width=\"40%\"/>\n",
    "<div class=\"tinyfont\">https://de.wikipedia.org/wiki/Datei:Gestalt_proximity.svg</div>\n",
    "\n",
    "Elemente mit geringen Abständen<br>\n",
    "zueinander werden als<br>\n",
    "zusammengehörig wahrgenommen.\n",
    "<br>\n",
    "<br>\n",
    "<br>\n",
    "<br>\n",
    "<br>\n",
    "<b>Gestalt Laws:</b> Gesetz der Ähnlichkeit\n",
    "<img src=\"VL05_Material/gesetzderaehnlichkeit.png\" width=\"20%\"/>\n",
    "\n",
    "<div class=\"tinyfont\">https://de.wikipedia.org/wiki/Datei:Gestalt_similarity.svg</div>\n",
    "</center>\n",
    "\n",
    "Einander ähnliche Elemente werden<br>\n",
    "eher als zusammengehörig erlebt<br>\n",
    "als einander unähnliche.\n",
    "</div>"
   ]
  },
  {
   "cell_type": "markdown",
   "id": "45e4cdbc",
   "metadata": {
    "cell_style": "split",
    "slideshow": {
     "slide_type": "fragment"
    }
   },
   "source": [
    "<div class=\"smallfont\">\n",
    "<b>Gestalt Laws:</b> Gesetz der Nähe\n",
    "\n",
    "<img src=\"VL05_Material/gesetzdernaehe.png\" width=\"40%\"/>\n",
    "<div class=\"tinyfont\">https://de.wikipedia.org/wiki/Datei:Gestalt_proximity.svg</div>\n",
    "<br>\n",
    "<br>\n",
    "<br>\n",
    "Elemente mit geringen Abständen<br>\n",
    "zueinander werden als<br>\n",
    "zusammengehörig wahrgenommen.\n",
    "\n",
    "<b>Gestalt Laws:</b> Gesetz der Ähnlichkeit\n",
    "<br><br><br>\n",
    "<img src=\"VL05_Material/gesetzderaehnlichkeit.png\" width=\"20%\"/>\n",
    "\n",
    "<div class=\"tinyfont\">https://de.wikipedia.org/wiki/Datei:Gestalt_similarity.svg</div>\n",
    "</center>\n",
    "\n",
    "Einander ähnliche Elemente werden<br>\n",
    "eher als zusammengehörig erlebt<br>\n",
    "als einander unähnliche.\n",
    "</div>"
   ]
  },
  {
   "cell_type": "markdown",
   "id": "0ddc95c8",
   "metadata": {
    "slideshow": {
     "slide_type": "subslide"
    }
   },
   "source": [
    "<div class=\"alert alert-block alert-warning\"><b>Aufgabe:</b> Welches Gesetz ist rechts verletzt?"
   ]
  },
  {
   "cell_type": "markdown",
   "id": "c11199de",
   "metadata": {
    "cell_style": "split",
    "slideshow": {
     "slide_type": "fragment"
    }
   },
   "source": [
    "<div class=\"smallfont\">\n",
    "<b>Gestalt Laws:</b> Gesetz der Nähe\n",
    "\n",
    "<img src=\"VL05_Material/gesetzdernaehe.png\" width=\"40%\"/>\n",
    "<div class=\"tinyfont\">https://de.wikipedia.org/wiki/Datei:Gestalt_proximity.svg</div>\n",
    "\n",
    "Elemente mit geringen Abständen<br>\n",
    "zueinander werden als<br>\n",
    "zusammengehörig wahrgenommen.\n",
    "<br>\n",
    "<br>\n",
    "<br>\n",
    "<br>\n",
    "<br>\n",
    "<b>Gestalt Laws:</b> Gesetz der Ähnlichkeit\n",
    "<img src=\"VL05_Material/gesetzderaehnlichkeit.png\" width=\"20%\"/>\n",
    "\n",
    "<div class=\"tinyfont\">https://de.wikipedia.org/wiki/Datei:Gestalt_similarity.svg</div>\n",
    "</center>\n",
    "\n",
    "Einander ähnliche Elemente werden<br>\n",
    "eher als zusammengehörig erlebt<br>\n",
    "als einander unähnliche.\n",
    "</div>"
   ]
  },
  {
   "cell_type": "markdown",
   "id": "798154c0",
   "metadata": {
    "cell_style": "split",
    "slideshow": {
     "slide_type": "fragment"
    }
   },
   "source": [
    "<div class=\"smallfont\">\n",
    "<b>Gestalt Laws:</b> Gesetz der Nähe\n",
    "\n",
    "<img src=\"VL05_Material/gesetzdernaehe.png\" width=\"40%\"/>\n",
    "<div class=\"tinyfont\">https://de.wikipedia.org/wiki/Datei:Gestalt_proximity.svg</div>\n",
    "\n",
    "<div style=\"color:blue\">Elemente mit geringen Abständen<br>\n",
    "zueinander werden als<br>\n",
    "zusammengehörig wahrgenommen.</div>\n",
    "<br><br><br><br><br>\n",
    "    <div style=\"color:blue\"><b>Gestalt Laws:</b> Gesetz der Ähnlichkeit</div>\n",
    "<img src=\"VL05_Material/gesetzderaehnlichkeit.png\" width=\"20%\"/>\n",
    "\n",
    "<div class=\"tinyfont\">https://de.wikipedia.org/wiki/Datei:Gestalt_similarity.svg</div>\n",
    "</center>\n",
    "\n",
    "Einander ähnliche Elemente werden<br>\n",
    "eher als zusammengehörig erlebt<br>\n",
    "als einander unähnliche.\n",
    "</div>"
   ]
  },
  {
   "cell_type": "markdown",
   "id": "496e6823",
   "metadata": {
    "slideshow": {
     "slide_type": "subslide"
    }
   },
   "source": [
    "Es gibt weitere *Gestalt Laws*, die auf die 20er-Jahre zurückgehen. Zusätzliche Gesetze von B. Palmer 1999, u.a.:\n",
    "<div class=\"tinyfont\">Stephen E. Palmer: Vision Science. MIT Press, Cambridge (USA) 1999</div>"
   ]
  },
  {
   "cell_type": "markdown",
   "id": "94a7bb48",
   "metadata": {
    "cell_style": "split",
    "slideshow": {
     "slide_type": "fragment"
    }
   },
   "source": [
    "**Gesetz der gemeinsamen Region:**  \n",
    "&nbsp;  \n",
    "  \n",
    "<center>\n",
    "<img src=\"VL05_Material/gesetzdergemeinsamenregion.png\" width=\"40%\"/>\n",
    "<div class=\"tinyfont\">https://de.wikipedia.org/wiki/Datei:Gestaltpsychologie_Gemeinsame_Region.svg</div>\n",
    "</center>\n",
    "\n",
    "Elemente in abgegrenzten Gebieten werden als zusammengehörig empfunden."
   ]
  },
  {
   "cell_type": "markdown",
   "id": "dabfb3c8",
   "metadata": {
    "cell_style": "split",
    "slideshow": {
     "slide_type": "fragment"
    }
   },
   "source": [
    "**Gesetz der verbundenen Elemente:**\n",
    "\n",
    "<center>\n",
    "<img src=\"VL05_Material/gesetzderverbundenenelemente.png\" width=\"90%\"/>\n",
    "<div class=\"tinyfont\">https://de.wikipedia.org/wiki/Datei:Gestaltpsychologie_Verbundene_Elemente.svg</div>\n",
    "</center>\n",
    "\n",
    "Verbundene Elemente werden als ein Objekt empfunden."
   ]
  },
  {
   "cell_type": "markdown",
   "id": "e93fe7fc",
   "metadata": {
    "slideshow": {
     "slide_type": "subslide"
    }
   },
   "source": [
    "Im Rahmen der Gestaltpsychologie wird auch **Kontextsensitivität** genannt:  \n",
    "Die Wahrnehmung einzelner Teile wird von der ganzheitlichen Wahrnehmung beeinflusst.\n",
    "<br><br><br>\n",
    "<center>\n",
    "<img src=\"VL05_Material/kontextsensitivitaet.png\" width=\"30%\" />\n",
    "<br><br><br>\n",
    "<div class=\"tinyfont\">https://upload.wikimedia.org/wikipedia/commons/6/65/ABC121314.svg</div></center>"
   ]
  },
  {
   "cell_type": "markdown",
   "id": "f92dc4fd",
   "metadata": {
    "slideshow": {
     "slide_type": "subslide"
    }
   },
   "source": [
    "Untersuchung von graphischen Elementen (nach MacKinlay, in der Tradition von Jaques Bertins):\n",
    "<br><br>\n",
    "<img src=\"VL05_Material/datentypen.png\" />\n",
    "<br><br>\n",
    "<div class=\"tinyfont\">Aus: Nazemi, Kawa & Kaupp, Lukas & Burkhardt, Dirk & Below, Nicola. (2021). Datenvisualisierung.<br>\n",
    "    Adaptiert nach Mackinlay, Jock. 1986. „Automating the design of graphical presentations of relational information.“\n",
    "ACM Trans. Graph. 5 (2): 110–41. doi:10.1145/22949.22950.</div>"
   ]
  },
  {
   "cell_type": "markdown",
   "id": "59386e6f",
   "metadata": {
    "cell_style": "center",
    "slideshow": {
     "slide_type": "subslide"
    }
   },
   "source": [
    "### 2.3 Vorher/Nachher-Vergleiche\n",
    "\n",
    "**Beispiel:** Sollten wir die Gesundheitsausgaben erhöhen?\n",
    "\n",
    "<div class=\"tinyfont\">Nach: Scott Berinato: Good Charts: The HBR Guide to Making Smarter, More Persuasive Data Visualizations. Harvard Business Press Books, 2016.<br>Siehe auch: https://hbr.org/2016/06/visualizations-that-really-work</div>"
   ]
  },
  {
   "cell_type": "markdown",
   "id": "30b84fc6",
   "metadata": {
    "cell_style": "split",
    "slideshow": {
     "slide_type": "fragment"
    }
   },
   "source": [
    "Erster Versuch:\n",
    "\n",
    "<img src=\"VL05_Material/beispiel_healthcare_schlecht.png\" />"
   ]
  },
  {
   "cell_type": "markdown",
   "id": "6771ab68",
   "metadata": {
    "cell_style": "split",
    "slideshow": {
     "slide_type": "fragment"
    }
   },
   "source": [
    "Zweiter Versuch:\n",
    "\n",
    "<img src=\"VL05_Material/beispiel_healthcare_besser.png\" />"
   ]
  },
  {
   "cell_type": "markdown",
   "id": "db75bd54",
   "metadata": {
    "cell_style": "split",
    "slideshow": {
     "slide_type": "fragment"
    }
   },
   "source": [
    "“Look at all the data I have and the work I’ve done!”"
   ]
  },
  {
   "cell_type": "markdown",
   "id": "974adc81",
   "metadata": {
    "cell_style": "split",
    "slideshow": {
     "slide_type": "fragment"
    }
   },
   "source": [
    "**Gut:** klare Message (in Bild und Text!)  \n",
    "**Gut:** auf einen Blick intuitiv begreifbar  \n",
    "**Diskutabel:** der Ausschnitt ist suggestiv (=manipulativ)"
   ]
  },
  {
   "cell_type": "markdown",
   "id": "a984358f",
   "metadata": {
    "slideshow": {
     "slide_type": "subslide"
    }
   },
   "source": [
    " **Beispiel:** Wo soll unsere Firma investieren?\n",
    " <div class=\"tinyfont\">Sejal Vora. The Power of Data Storytelling. Sage Publications Pvt. Ltd, 2019.</div>"
   ]
  },
  {
   "cell_type": "markdown",
   "id": "ec2e3a3b",
   "metadata": {
    "cell_style": "split",
    "slideshow": {
     "slide_type": "fragment"
    }
   },
   "source": [
    "<img src=\"VL05_Material/regionalsales01.png\" />"
   ]
  },
  {
   "cell_type": "markdown",
   "id": "ed1946da",
   "metadata": {
    "cell_style": "split",
    "slideshow": {
     "slide_type": "fragment"
    }
   },
   "source": [
    "<img src=\"VL05_Material/regionalsales02.png\" />"
   ]
  },
  {
   "cell_type": "markdown",
   "id": "3ba4b74d",
   "metadata": {
    "cell_style": "split",
    "slideshow": {
     "slide_type": "fragment"
    }
   },
   "source": [
    "\"unkommentierter\" Überblick über die Daten.  \n",
    "(Guter erster Schritt!)"
   ]
  },
  {
   "cell_type": "markdown",
   "id": "dc694387",
   "metadata": {
    "cell_style": "split",
    "slideshow": {
     "slide_type": "fragment"
    }
   },
   "source": [
    "**Gut:** Eine Message wird aktiv herausgearbeitet.  \n",
    "**Diskutabel:** Die Grafik ist immer noch recht komplex."
   ]
  },
  {
   "cell_type": "markdown",
   "id": "f0fc8d42",
   "metadata": {
    "slideshow": {
     "slide_type": "-"
    }
   },
   "source": [
    " "
   ]
  },
  {
   "cell_type": "markdown",
   "id": "78848f0b",
   "metadata": {
    "cell_style": "split",
    "slideshow": {
     "slide_type": "subslide"
    }
   },
   "source": [
    "**Besser**, wenn die Grafik noch erklärt wird:\n",
    "> &nbsp;\n",
    "> - Hong Kong and Singapore continued to dominate regional sales; however, (...) [they] reduced their overall revenue contribution to 54% in 2017 (...).\n",
    "> - Emerging markets like India, Malaysia and Thailand on the other hand recorded a revenue growth between 14% and 19% (...) making them future growth drivers for the company’s revenue generation.\n",
    "> - China maintained its significance with a marginal 4% revenue growth, while Indonesia and Vietnam performed poorly (...)."
   ]
  },
  {
   "cell_type": "markdown",
   "id": "2ed8fb03",
   "metadata": {
    "cell_style": "split",
    "slideshow": {
     "slide_type": "-"
    }
   },
   "source": [
    "<img src=\"VL05_Material/regionalsales02.png\" />"
   ]
  },
  {
   "cell_type": "markdown",
   "id": "b217531c",
   "metadata": {
    "cell_style": "split",
    "slideshow": {
     "slide_type": "fragment"
    }
   },
   "source": [
    "<div class=\"alert alert-block alert-info\">\n",
    "<b>Zusammenfassung:</b><br><br>\n",
    "   - Zielgruppe festlegen<br>  \n",
    "   - Kernaussage 1. für sich und 2. visuell herausarbeiten<br>  \n",
    "   - vereinfachen und Unnötiges weglassen<br>  \n",
    "   - Sehgewohnheiten (z.B. Gestalt Laws) beachten<br><br>\n",
    "<b>- bei aller Vereinfachung: nicht lügen!</b>\n",
    "</div>"
   ]
  },
  {
   "cell_type": "code",
   "execution_count": null,
   "id": "0d0ba19c",
   "metadata": {
    "slideshow": {
     "slide_type": "skip"
    }
   },
   "outputs": [],
   "source": []
  },
  {
   "cell_type": "markdown",
   "id": "c0c38cc7",
   "metadata": {
    "cell_style": "split",
    "slideshow": {
     "slide_type": "subslide"
    }
   },
   "source": [
    "<center>\n",
    "<img src=\"VL05_Material/kontextsensitivitaet.png\" width=\"50%\" />\n",
    "</center>"
   ]
  },
  {
   "cell_type": "markdown",
   "id": "904d185c",
   "metadata": {
    "cell_style": "split",
    "slideshow": {
     "slide_type": "-"
    }
   },
   "source": [
    "# <div>1. Lagemaße</div>\n",
    "# <div>2. Informationsvisualisierung</div>\n",
    "# <div style=\"color:blue;\">3. Streumaße</div>"
   ]
  },
  {
   "cell_type": "markdown",
   "id": "01e882fc",
   "metadata": {
    "slideshow": {
     "slide_type": "subslide"
    }
   },
   "source": [
    "### 3.1 Wiederholung: Inter Quartile Range (IQR)"
   ]
  },
  {
   "cell_type": "markdown",
   "id": "75c57324",
   "metadata": {
    "cell_style": "split",
    "slideshow": {
     "slide_type": "fragment"
    }
   },
   "source": [
    "<img src=\"VL09_Material/boxplotexplanation.png\" width=\"120%\" />"
   ]
  },
  {
   "cell_type": "markdown",
   "id": "38771bce",
   "metadata": {
    "cell_style": "split",
    "slideshow": {
     "slide_type": "fragment"
    }
   },
   "source": [
    "Der **Inter Quartile Range (IQR)** für einen eindimensionalen Datenvektor $x$ ist definiert als der Abstand zwischen dem oberen und dem unteren Quartil:\n",
    "\n",
    "$$\n",
    "\\text{IQR}(x) = Q_{0.75}(x) - Q_{0.25}(x)\n",
    "$$\n",
    "\n",
    "Hierbei bezeichnet $Q_q(x)$ das $q$-Quantil von $x$.  \n",
    "<div class=\"smallfont\">(Das <b>Quartil</b> wird in 25%-Schritten definiert: 1. Quartil = 25%-Quantil, 2. Quartil=50% Quantil, ...)</div>"
   ]
  },
  {
   "cell_type": "markdown",
   "id": "093d51c3",
   "metadata": {
    "slideshow": {
     "slide_type": "fragment"
    }
   },
   "source": [
    "Der IQR ist robust gegenüber Outlier:"
   ]
  },
  {
   "cell_type": "code",
   "execution_count": 102,
   "id": "ba57fb98",
   "metadata": {
    "slideshow": {
     "slide_type": "-"
    }
   },
   "outputs": [
    {
     "data": {
      "text/plain": [
       "(50.0, 50.0)"
      ]
     },
     "execution_count": 102,
     "metadata": {},
     "output_type": "execute_result"
    }
   ],
   "source": [
    "def iqr(x): return np.quantile(x,q=0.75)-np.quantile(x,q=0.25)         # Alternative: scipy.stats.iqr\n",
    "\n",
    "iqr( np.arange(0,101) ), iqr( np.arange(0,100).tolist()+[10000] )\n"
   ]
  },
  {
   "cell_type": "markdown",
   "id": "d9cb9565",
   "metadata": {
    "slideshow": {
     "slide_type": "fragment"
    }
   },
   "source": [
    "**Best practice:** Der IQR beschreibt gut die \"Größe der Punktwolke\" $x$ (d.h. ist ein gutes *Streumaß*)."
   ]
  },
  {
   "cell_type": "markdown",
   "id": "0bf82adf",
   "metadata": {
    "slideshow": {
     "slide_type": "subslide"
    }
   },
   "source": [
    "### 3.2 (empirische) Varianz und Standardabweichung"
   ]
  },
  {
   "cell_type": "markdown",
   "id": "f10da30e",
   "metadata": {
    "cell_style": "center",
    "slideshow": {
     "slide_type": "fragment"
    }
   },
   "source": [
    "Es sei ein Datenvektor $x=(x_1,...,x_n)\\in \\mathbb{R}^n$ gegeben ($n \\ge 2$). Erinnerung: $\\overline{x} = \\frac{1}{n} \\sum_{i=1}^n x_i$."
   ]
  },
  {
   "cell_type": "markdown",
   "id": "9329417a",
   "metadata": {
    "cell_style": "split",
    "slideshow": {
     "slide_type": "fragment"
    }
   },
   "source": [
    "&nbsp;\n",
    "- Die (empirische) **Varianz** von $x$ ist definiert via\n",
    "$$\n",
    "\\text{var}(x) = \\frac{1}{n-1}\\sum_{i=1}^n (x_i-\\overline{x})^2\n",
    "$$\n",
    "<div class=\"smallfont\">(Die Normierung mit n-1 ist weitgehend akzeptiert, vereinzelt findet man auch die (\"nicht erwartungstreue\") Normierung mit n.)</div>"
   ]
  },
  {
   "cell_type": "markdown",
   "id": "c6416cb6",
   "metadata": {
    "cell_style": "split",
    "slideshow": {
     "slide_type": "fragment"
    }
   },
   "source": [
    "&nbsp;\n",
    "- Die (empirische) **Standardabweichung** von $x$ ist definiert via\n",
    "$$\n",
    "\\text{sd}(x) = \\sqrt{\\text{var}(x)} = \\sqrt{ \\frac{1}{n-1}\\sum_{i=1}^n (x_i-\\overline{x})^2 }\n",
    "$$"
   ]
  },
  {
   "cell_type": "code",
   "execution_count": 115,
   "id": "76c8ad49",
   "metadata": {
    "slideshow": {
     "slide_type": "fragment"
    }
   },
   "outputs": [
    {
     "data": {
      "text/plain": [
       "(841.6666666666666, 833.25)"
      ]
     },
     "execution_count": 115,
     "metadata": {},
     "output_type": "execute_result"
    }
   ],
   "source": [
    "# Was ist hier passiert? x ist ein np.array\n",
    "def var(x): return ( (x-np.mean(x))**2 ).sum() / ( len(x)-1 ) \n",
    "\n",
    "var ( np.arange(100) ), np.var ( np.arange(100) )\n"
   ]
  },
  {
   "cell_type": "code",
   "execution_count": 119,
   "id": "ab400ed5",
   "metadata": {
    "slideshow": {
     "slide_type": "fragment"
    }
   },
   "outputs": [
    {
     "data": {
      "text/plain": [
       "(841.6666666666666, 841.6666666666666, 841.6666666666666)"
      ]
     },
     "execution_count": 119,
     "metadata": {},
     "output_type": "execute_result"
    }
   ],
   "source": [
    "# Standardmäßig teilt numpy durch n statt n-1 (Pandas folgt der (n-1)-Konvention)\n",
    "var ( np.arange(100) ), np.var ( np.arange(100), ddof=1 ), pd.Series ( np.arange(100) ).var()\n"
   ]
  },
  {
   "cell_type": "markdown",
   "id": "b2532c3a",
   "metadata": {
    "slideshow": {
     "slide_type": "subslide"
    }
   },
   "source": [
    "**Verhalten bei Outliern:**"
   ]
  },
  {
   "cell_type": "code",
   "execution_count": 124,
   "id": "63cc2b39",
   "metadata": {
    "cell_style": "split",
    "slideshow": {
     "slide_type": "-"
    }
   },
   "outputs": [
    {
     "data": {
      "text/plain": [
       "(50.0, 29.300170647967224, 858.5)"
      ]
     },
     "execution_count": 124,
     "metadata": {},
     "output_type": "execute_result"
    }
   ],
   "source": [
    "# Zahlen 0,1,...,99,100 (keine Outlier)\n",
    "data = np.arange(0,101)\n",
    "\n",
    "iqr(data), \\\n",
    "   np.std(data, ddof=1), \\\n",
    "   np.var(data, ddof=1)\n"
   ]
  },
  {
   "cell_type": "code",
   "execution_count": 125,
   "id": "b60d1f18",
   "metadata": {
    "cell_style": "split",
    "slideshow": {
     "slide_type": "fragment"
    }
   },
   "outputs": [
    {
     "data": {
      "text/plain": [
       "(50.0, 990.5324525748566, 981154.5396039605)"
      ]
     },
     "execution_count": 125,
     "metadata": {},
     "output_type": "execute_result"
    }
   ],
   "source": [
    "# Zahlen 0,1,...,99,10000 (ein Outlier)\n",
    "data = np.arange(0,100).tolist() + [10000]\n",
    "\n",
    "iqr(data), \\\n",
    "   np.std(data, ddof=1), \\\n",
    "   np.var(data, ddof=1)\n"
   ]
  },
  {
   "cell_type": "markdown",
   "id": "e53499c4",
   "metadata": {
    "slideshow": {
     "slide_type": "fragment"
    }
   },
   "source": [
    "**Ergebnisse:**\n",
    "- Die Standardabweichung sollte als Streumaß gegenüber der Varianz bevorzugt werden, da sie auf der gleichen Einheitenskala wie die Daten (und wie der Mittelwert) lebt.\n",
    "- IQR ist robust gegenüber Outliern, Varianz und Standardabweichung nicht."
   ]
  },
  {
   "cell_type": "markdown",
   "id": "0363f0f6",
   "metadata": {
    "slideshow": {
     "slide_type": "fragment"
    }
   },
   "source": [
    "<div class=\"alert alert-block alert-warning\"><b>Frage:</b> Welche Gründe fallen Ihnen ein, trotzdem die Standardabweichung zu benutzen?</div>"
   ]
  },
  {
   "cell_type": "markdown",
   "id": "3d93d979",
   "metadata": {
    "slideshow": {
     "slide_type": "subslide"
    }
   },
   "source": [
    "### 3.3 Der Zentrale Grenzwertsatz\n",
    "\n",
    "Neben der größeren Akzeptanz (\"Management-tauglich\") der Varianz: weitere Begründung durch den ZGWS."
   ]
  },
  {
   "cell_type": "markdown",
   "id": "0acefbfd",
   "metadata": {
    "slideshow": {
     "slide_type": "fragment"
    }
   },
   "source": [
    "<div class=\"alert alert-block alert-info\">\n",
    "    <b>Zentraler Grenzwertsatz (Spezialfall):</b> Es seien $X_1,X_2,\\dots$ reellwertige Zufallszahlen (z.B. wiederholte Messungen):    \n",
    "$$X_i = \\mu + \\epsilon_i\\ .$$\n",
    "    \n",
    "Hierbei modelliere $\\mu$ den wahren Wert und $\\epsilon_i$ ein zufälliges Rauschen. Die $\\epsilon_i$ haben Varianz $\\sigma^2$.  \n",
    "    &nbsp;  \n",
    "Dann konvergiert\\* die Verteilung der normierten summierten Abweichungen von $\\mu$ gegen eine Normalverteilung:\n",
    "\n",
    "$$\n",
    "\\frac{1}{\\sqrt{n}} \\sum_{i=1}^n (X_i-\\mu) \\xrightarrow{n\\to\\infty} \\text{Normalverteilung } \\mathcal{N}(0,\\sigma^2)\n",
    "$$\n",
    "</div>\n",
    "<div class=\"smallfont\">* unter technischen Annahmen, z.B.: Das Rauschen sei symmetrisch um 0 verteilt (d.h. $\\epsilon_1$ habe die gleiche Verteilung wie $-\\epsilon_1$); die einzelnen Messungen liefern unabhängige, aber identisch verteilte Ergebnisse; und es können keine beliebig hohen Rauschbeträge auftreten (d.h. $\\epsilon_1 \\le C$ für ein $C>0$).</div>"
   ]
  },
  {
   "cell_type": "markdown",
   "id": "ace4c901",
   "metadata": {
    "slideshow": {
     "slide_type": "fragment"
    }
   },
   "source": [
    "**Interpretation:** Der Zentrale Grenzwertsatz liefert eine Begründung\n",
    "- für die Wichtigkeit der Normalverteilung (\"wenn man genügend viele zufällige Einflüsse aufsummiert, sieht es aus wie eine Normalverteilung, auch wenn die einzelnen Einflüsse nicht normalverteilt sind\"),\n",
    "- für die Standardabweichung bzw. die Varianz, da diese Größe im Limes $n\\to\\infty$ erhalten bleibt."
   ]
  },
  {
   "cell_type": "code",
   "execution_count": 163,
   "id": "4a37ad06",
   "metadata": {
    "cell_style": "split",
    "slideshow": {
     "slide_type": "subslide"
    }
   },
   "outputs": [
    {
     "data": {
      "image/png": "[encoded data removed]",
      "text/plain": [
       "<Figure size 640x480 with 1 Axes>"
      ]
     },
     "metadata": {},
     "output_type": "display_data"
    }
   ],
   "source": [
    "# Zufallszahlen X1,X2,..., wobei X_i = µ + Rauschen\n",
    "R = np.random.default_rng ( 42 )\n",
    "µ = 3.141592\n",
    "x = µ + R.uniform(low=-1,high=1,size=1000)\n",
    "sns.swarmplot ( data=x, orient=\"h\" );\n",
    "plt.title('\"Swarmplot\" von 1000 Zufallszahlen: X_i = µ + Rauschen');\n"
   ]
  },
  {
   "cell_type": "code",
   "execution_count": 184,
   "id": "448d216c",
   "metadata": {
    "cell_style": "split",
    "scrolled": false,
    "slideshow": {
     "slide_type": "fragment"
    }
   },
   "outputs": [
    {
     "data": {
      "image/png": "[encoded data removed]",
      "text/plain": [
       "<Figure size 500x300 with 1 Axes>"
      ]
     },
     "metadata": {},
     "output_type": "display_data"
    }
   ],
   "source": [
    "# Betrachte den Ausdruck im ZGWS für n=10.\n",
    "# Dies ist EINE EINZIGE ZAHL, für die wir keine\n",
    "# Verteilungsaussage machen können.\n",
    "# Um eine Verteilungsaussage zu machen, müssen wir\n",
    "# das Experiment oft (hier 10 000x) wiederholen.\n",
    "\n",
    "n=10\n",
    "xs=[ µ + R.uniform(low=-1,high=1,size=1000)\n",
    "     for repeat in range(10000) ]\n",
    "\n",
    "zgws = [ (x-µ)[:n].sum() / np.sqrt(n) for x in xs ]     \n",
    "\n",
    "sns.kdeplot ( zgws )\n",
    "plt.title( 'Die empirische Verteilung des akkumulierten\\nRauschens für 10 Summanden sieht \"fast\" normalverteilt aus\\n(obwohl das Rauschen bei jedem Punkt uniform auf [-1,1] verteilt ist)')\n",
    "plt.gcf().set_size_inches(5,3);\n"
   ]
  },
  {
   "cell_type": "markdown",
   "id": "3b2109aa",
   "metadata": {
    "slideshow": {
     "slide_type": "fragment"
    }
   },
   "source": [
    "Der Zentrale Grenzwertsatz ist nicht klausurrelevant (die Aussage, dass die Varianz hier eine Rolle spielt, aber schon)."
   ]
  },
  {
   "cell_type": "code",
   "execution_count": null,
   "id": "a24d13c4",
   "metadata": {
    "slideshow": {
     "slide_type": "skip"
    }
   },
   "outputs": [],
   "source": []
  },
  {
   "cell_type": "markdown",
   "id": "02f32dbc",
   "metadata": {
    "cell_style": "split",
    "slideshow": {
     "slide_type": "subslide"
    }
   },
   "source": [
    "<center>\n",
    "<img src=\"VL05_Material/kontextsensitivitaet.png\" width=\"50%\" />\n",
    "</center>"
   ]
  },
  {
   "cell_type": "markdown",
   "id": "2fd346c3",
   "metadata": {
    "cell_style": "split",
    "slideshow": {
     "slide_type": "-"
    }
   },
   "source": [
    "# <div style=\"color:gray;\">1. Lagemaße</div>\n",
    "# <div style=\"color:gray;\">2. Informationsvisualisierung</div>\n",
    "# <div style=\"color:gray;\">3. Streumaße</div>\n",
    "\n",
    "# Vielen Dank für Ihre Aufmerksamkeit!"
   ]
  }
 ],
 "metadata": {
  "celltoolbar": "Slideshow",
  "kernelspec": {
   "display_name": "Python 3 (ipykernel)",
   "language": "python",
   "name": "python3"
  },
  "language_info": {
   "codemirror_mode": {
    "name": "ipython",
    "version": 3
   },
   "file_extension": ".py",
   "mimetype": "text/x-python",
   "name": "python",
   "nbconvert_exporter": "python",
   "pygments_lexer": "ipython3",
   "version": "3.9.21"
  },
  "rise": {
   "overlay": "<table style='width:100%; font-size: 10pt; font-weight: bold, background-color: #EEEEEE'><tr><td style='width:30%'>&nbsp;</td><td style='width:20%'>Prof. Dr. Frank Schirmeier<br>VL07: Lage- und Streumaße</td><td style='width:20%'>Healthcare Data Analytics<br>Einf&uuml;hrung in Data Science</td><td style='width:20%; text-align:right'><img src='Logo_Hochschule_Kempten.png' width=107 height=50 /></td></tr></table>",
   "scroll": true,
   "theme": "simple",
   "transition": "slide"
  }
 },
 "nbformat": 4,
 "nbformat_minor": 5
}
