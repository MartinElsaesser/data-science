{
 "cells": [
  {
   "cell_type": "markdown",
   "id": "efe25a34",
   "metadata": {},
   "source": [
    "Wir setzen Aufgabe 3 fort, in der ein DecisionTreeClassifier auf dem heart-Datensatz trainiert wurde.\n",
    "\n",
    "### Teilaufgabe 1\n",
    "\n",
    "Modifizieren Sie die Funktion aus Aufgabe 3.1, die die Daten in gleich große Trainings-, Validierungs- und Testdatensätze unterteilt, derart, dass die Unterteilung **stratifiziert** erfolgt:\n",
    "\n",
    "Der Anteil der Patienten mit HeartDisease=1 soll in allen drei Gruppen gleich groß sein.\n",
    "\n",
    "(Verwenden Sie hierfür keine sklearn-Funktionalität.)\n"
   ]
  },
  {
   "cell_type": "markdown",
   "id": "e6155bd5",
   "metadata": {},
   "source": [
    "### Teilaufgabe 2\n",
    "\n",
    "Erstellen Sie einen DecisionTreeClassifier auf den neu erstellten Trainingsdaten und variieren Sie `max_depth` und `min_samples_leaf` jeweils im Bereich {1,2,...,10}."
   ]
  },
  {
   "cell_type": "markdown",
   "id": "2a1470ec",
   "metadata": {},
   "source": [
    "### Teilaufgabe 3\n",
    "\n",
    "Berechnen Sie die Einträge der Konfusionsmatrix sowie die Accuracy-Werte auf Trainings- und Validierungsdaten und stellen diese in einem pandas Dataframe dar."
   ]
  },
  {
   "cell_type": "markdown",
   "id": "1e7bbe19",
   "metadata": {},
   "source": [
    "### Teilaufgabe 4\n",
    "\n",
    "Visualisieren Sie die Trainings- und Validierungsaccuracy in einer geeigneten (zweidimensionalen) Darstellung."
   ]
  },
  {
   "cell_type": "markdown",
   "id": "aa86670b",
   "metadata": {},
   "source": [
    "### Teilaufgabe 5\n",
    "\n",
    "Vergleichen Sie Ihre 2D- mit der nachfolgenden 3D-Visualisierung. Welche Vor- und Nachteile haben die jeweiligen Darstellungen? \n",
    "\n",
    "Beschreiben und Interpretieren Sie die Abhängigkeit der Accuracy von den zwei Parametern `max_depth` und `min_sample_leafs`.\n",
    "\n",
    "![3d graphic, comparing different hyperparameters](./aufgabe05_3d.png)\n",
    "\n",
    "Hinweis zu Teilaufgabe 3: Wenn zwei Parameter zur Spaltenindizierung verwendet werden sollen (wie hier die Hyperparameter max_depth, min_sample_leafs), sind sog. Multiindices eine elegante Lösung (aber nicht notwendig zur Bearbeitung der Aufgabe).\n",
    "\n",
    "Für eine explizite Konstruktion des Multiindex verwenden Sie pd.MultiIndex.from_tuples; implizit können Sie ein DataFrame mit Multiindices initialisieren, wenn Sie Tuples als Dictionary-Keys verwenden und das Dictionary im DataFrame-Konstruktor übergeben. \n"
   ]
  }
 ],
 "metadata": {
  "language_info": {
   "name": "python"
  }
 },
 "nbformat": 4,
 "nbformat_minor": 5
}
