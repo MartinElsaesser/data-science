{
 "cells": [
  {
   "cell_type": "markdown",
   "id": "feb0166c",
   "metadata": {},
   "source": [
    "Suchen Sie sich einen öffentlich zugänglichen Datensatz, der Sie interessiert (Quellen z.B. kaggle.com, ourworldindata.org, destatis.de/Statistisches Bundesamt, eurostat, OECD).\n",
    "\n",
    "\n",
    "Erstellen Sie eine explorative Datenanalyse und arbeiten Sie einen interessanten Aspekt dieser Daten heraus. Der Umfang soll vergleichbar zu einer Powerpoint-Präsentation mit fünf Folien sein.\n",
    "\n"
   ]
  },
  {
   "cell_type": "code",
   "execution_count": null,
   "id": "993f9659",
   "metadata": {},
   "outputs": [],
   "source": []
  }
 ],
 "metadata": {
  "language_info": {
   "name": "python"
  }
 },
 "nbformat": 4,
 "nbformat_minor": 5
}
