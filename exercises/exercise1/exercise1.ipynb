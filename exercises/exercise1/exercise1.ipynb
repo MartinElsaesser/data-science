{
 "cells": [
  {
   "cell_type": "markdown",
   "metadata": {},
   "source": [
    "#### 1. Teilaufgabe\n",
    "Schreiben Sie -- ohne Verwendung von numpy oder pandas -- eine Funktion, die eine csv-Datei einliest und ein Dictionary ausgibt.\n",
    "\n",
    "Die key/value-Paare des Dictionaries sollen als key den jeweiligen Spaltennamen und als Value eine Liste der Werte in dieser Spalte haben.\n",
    "\n",
    "Wenden Sie die Funktion auf die Datei `heart.csv` an.\n"
   ]
  },
  {
   "cell_type": "code",
   "execution_count": null,
   "metadata": {},
   "outputs": [],
   "source": []
  },
  {
   "cell_type": "markdown",
   "metadata": {},
   "source": [
    "#### 2. Teilaufgabe\n",
    "Schreiben Sie  -- ohne Verwendung von numpy oder pandas -- eine Funktion, die als Argumente einen Datenvektor v sowie einen {0,1}-wertigen Zielvektor z bekommt.\n",
    "\n",
    "Die Funktion soll mittels einer List Comprehension zwei Teilvektoren v_0, v_1 zurückgeben: v_0 beinhaltet nur die Elemente, für die (am entsprechenden Index) z den Wert 0 hat, analog v_1.\n",
    "\n",
    "(Hinweis: Mit \"return v_0, v_1\" können Sie zwei Rückgabewerte definieren.)\n"
   ]
  },
  {
   "cell_type": "code",
   "execution_count": null,
   "metadata": {},
   "outputs": [],
   "source": []
  },
  {
   "cell_type": "markdown",
   "metadata": {},
   "source": [
    "#### 3. Teilaufgabe\n",
    "\n",
    "Visualisieren und vergleichen Sie für jede der numerischen Spalten des Heart-Datensatzes die Teilpopulationen, für die HeartDisease=0 bzw. 1 ist.\n",
    "\n",
    "Bewerten Sie, für wie aussagekräftig Sie die jeweiligen Spalten halten zur Vorhersage von HeartDisease.\n",
    "\n",
    "(Hinweis: mit \"import pandas as pd; vec = pd.Series ( meine_liste )\" können Sie eine Liste in eine Series konvertieren und dann die Funktionalität vec.plot.hist(...) wie in der Vorlesung gezeigt anwenden.)\n"
   ]
  },
  {
   "cell_type": "code",
   "execution_count": null,
   "metadata": {},
   "outputs": [],
   "source": []
  },
  {
   "cell_type": "markdown",
   "metadata": {},
   "source": [
    "#### 4. Teilaufgabe\n",
    "\n",
    "Bei einem Overlay (\"Übereinanderplotten\") zweier Histogramme müssen die Bin-Grenzen nicht notwendigerweise übereinstimmen.\n",
    "\n",
    "Recherchieren Sie in der Dokumentation, wie das vermieden werden kann, und setzen Sie das entsprechend um.\n"
   ]
  },
  {
   "cell_type": "code",
   "execution_count": null,
   "metadata": {},
   "outputs": [],
   "source": []
  }
 ],
 "metadata": {
  "kernelspec": {
   "display_name": ".venv",
   "language": "python",
   "name": "python3"
  },
  "language_info": {
   "codemirror_mode": {
    "name": "ipython",
    "version": 3
   },
   "file_extension": ".py",
   "mimetype": "text/x-python",
   "name": "python",
   "nbconvert_exporter": "python",
   "pygments_lexer": "ipython3",
   "version": "3.13.2"
  }
 },
 "nbformat": 4,
 "nbformat_minor": 2
}
