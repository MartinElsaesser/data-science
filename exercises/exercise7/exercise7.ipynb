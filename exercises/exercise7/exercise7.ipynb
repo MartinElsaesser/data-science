{
 "cells": [
  {
   "cell_type": "markdown",
   "id": "79c3a13e",
   "metadata": {},
   "source": [
    "### Teilaufgabe 1\n",
    "Recherchieren und erklären Sie die Begriffe \"True Positive Rate\" (TPR) und \"False Positive Rate\" (FPR).\n",
    "\n",
    "Können Sie einen Zusammenhang herstellen zwischen diesem Begriffspaar und dem Begriffspaar Sensitivität/Spezifität?"
   ]
  },
  {
   "cell_type": "markdown",
   "id": "90ebc376",
   "metadata": {},
   "source": [
    "### Teilaufgabe 2\n",
    "Arbeiten Sie das Tutorial ROC & AUC (mlu-explain.github.io) durch und erläutern Sie, wie Sie die Achsenbeschriftung im ROC-Graphen durch Begriffe ersetzen können, die Sie aus der Vorlesung kennen."
   ]
  },
  {
   "cell_type": "markdown",
   "id": "dd40ac8b",
   "metadata": {},
   "source": [
    "### Teilaufgabe 3\n",
    "Betrachten Sie den Train/Validation/Test-Split im Heart-Datensatz aus Aufgabe 5 sowie den dort trainierten DecisionTreeClassifier mit bestmöglichen Hyperparametern.\n",
    "\n",
    "Zeichnen Sie die ROC-Kurve und berechnen Sie den AUC-Wert.\n",
    "\n",
    "Hinweis: Sie können ROC-Kurve und AUC selber berechnen oder hierzu eine geeignete sklearn-Funktionalität verwenden."
   ]
  }
 ],
 "metadata": {
  "language_info": {
   "name": "python"
  }
 },
 "nbformat": 4,
 "nbformat_minor": 5
}
