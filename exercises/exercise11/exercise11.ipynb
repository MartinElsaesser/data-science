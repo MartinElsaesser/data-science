{
 "cells": [
  {
   "cell_type": "markdown",
   "id": "dd7da87e",
   "metadata": {},
   "source": [
    "Arbeiten Sie das [ Tutorial zum Random Forest ] (https://mlu-explain.github.io/random-forest/) durch. Beantworten Sie folgende Fragen:\n",
    "\n",
    "* Was besagt das Theorem von Condorcet?\n",
    "\t* => Mehrheitsentscheidungen resultieren in besseren Entscheidungen, solange jeder Beteiligte mit mindestens 50% richtig liegt.\n",
    "* Was versteht man unter Ensemble Learning, und welchen Bezug hat das zum Theorem von Condorcet?\n",
    "\t* => Beim Ensemble Learning arbeiten vielzählige Modelle zeitgleich an einer Vorhersage.  \n",
    "\tDiese Einzelvorhersagen werden zu einer Mehrheitsentscheidung zusammengefasst.  \n",
    "\tDurch die Einbeziehung mehrerer Modelle in den Vorhersage-Prozess möchte man eine Verbesserung im Sinne des Theorem's von Condorcet erzielen.\n",
    "* Durch welche Maßnahmen wird die Korrelation der DecisionTrees (genauer: die Korrelation der Vorhersagen), aus denen ein Random Forest besteht, minimiert? Warum ist das wichtig?\n",
    "\t* Bagging (Bootstrap Aggregation) Method: Trainingsdaten eines Baumes werden zufällig und mit zurücklegen aus den gesamten Trainingsdaten gezogen\n",
    "\t* random Feature selection: die DecisionTrees \"fällen\" Entscheidungen auf einem zufälligen Subset, aller Features\n"
   ]
  },
  {
   "cell_type": "markdown",
   "id": "c4af3edd",
   "metadata": {},
   "source": []
  }
 ],
 "metadata": {
  "kernelspec": {
   "display_name": ".venv",
   "language": "python",
   "name": "python3"
  },
  "language_info": {
   "codemirror_mode": {
    "name": "ipython",
    "version": 3
   },
   "file_extension": ".py",
   "mimetype": "text/x-python",
   "name": "python",
   "nbconvert_exporter": "python",
   "pygments_lexer": "ipython3",
   "version": "3.13.2"
  }
 },
 "nbformat": 4,
 "nbformat_minor": 5
}
