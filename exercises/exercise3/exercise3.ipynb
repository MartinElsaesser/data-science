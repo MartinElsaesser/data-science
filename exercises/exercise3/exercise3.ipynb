{
 "cells": [
  {
   "cell_type": "markdown",
   "metadata": {},
   "source": [
    "### Teilaufgabe 1\n",
    "\n",
    "Schreiben Sie eine Funktion, die den Heart-Datensatz in drei gleich große Teile teilt.\n",
    "\n",
    "Die Zuordnung der Zeilen zu den jeweiligen Teilen soll zufällig geschehen.\n",
    "\n",
    "Recherchieren Sie hierzu z.B. `numpy.random.permutation()`.\n",
    "\n",
    "Die drei Teilmengen werden im folgenden Trainings-, Validierungs- und Testset genannt."
   ]
  },
  {
   "cell_type": "code",
   "execution_count": null,
   "metadata": {},
   "outputs": [],
   "source": []
  },
  {
   "cell_type": "markdown",
   "metadata": {},
   "source": [
    "### Teilaufgabe 2\n",
    "\n",
    "Trainieren Sie auf den Trainingsdaten einen DecisionTreeClassifier wie in der Vorlesung gezeigt.\n",
    "\n",
    "Achten Sie darauf, das für die vorliegende Datenskala korrekte Encoding anzuwenden.\n",
    "\n",
    "Sie können Teil-Tabellen mit `pd.merge (df1, df2, ...)` oder `pd.concat([df1,df2],axis=1)` zusammenführen.\n"
   ]
  },
  {
   "cell_type": "code",
   "execution_count": null,
   "metadata": {},
   "outputs": [],
   "source": []
  },
  {
   "cell_type": "markdown",
   "metadata": {},
   "source": [
    "### Teilaufgabe 3\n",
    "\n",
    "Stellen Sie verschiedene Tree Depths gegenüber `(max_depth=2, 3, ..., 8, 9)` und erstellen Sie eine Tabelle, die die Accuracy auf dem Trainingsdatensatz und dem Validierungsdatensatz gegenüberstellt.\n",
    "\n",
    "Wählen Sie ein finales Modell.\n"
   ]
  },
  {
   "cell_type": "code",
   "execution_count": null,
   "metadata": {},
   "outputs": [],
   "source": []
  },
  {
   "cell_type": "markdown",
   "metadata": {},
   "source": [
    "### Teilaufgabe 4\n",
    "\n",
    "Evaluieren Sie das finale Modell zusätzlich auf den Testdaten.\n",
    "\n",
    "Warum genügt es nicht, die Performance auf den Validierungsdaten zu kennen?\n"
   ]
  },
  {
   "cell_type": "code",
   "execution_count": null,
   "metadata": {},
   "outputs": [],
   "source": []
  }
 ],
 "metadata": {
  "language_info": {
   "name": "python"
  }
 },
 "nbformat": 4,
 "nbformat_minor": 2
}
