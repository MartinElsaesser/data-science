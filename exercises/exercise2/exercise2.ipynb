{
 "cells": [
  {
   "cell_type": "markdown",
   "metadata": {},
   "source": [
    "#### 1. Teilaufgabe\n",
    "Erstellen Sie jeweils ein Histogramm für diese Daten mit den Parametern bins=5, bins=20, bins=100.\n",
    "\n",
    "Was sind die Vor- und Nachteile davon, diesen Parameter zu erhöhen?\n"
   ]
  },
  {
   "cell_type": "code",
   "execution_count": null,
   "metadata": {},
   "outputs": [],
   "source": []
  },
  {
   "cell_type": "markdown",
   "metadata": {},
   "source": [
    "#### 2. Teilaufgabe\n",
    "Erstellen Sie jeweils einen Kernel Density Estimate-Plot mit den Parametern bw_method=0.1, bw_method=0.4, bw_method=1.0 (sofern Sie die pandas-Funktion verwenden; in anderen Bibliotheken heißt dieser \"Bandwidth\"-Parameter ggf. anders).\n",
    "\n",
    "Was sind die Vor- und Nachteile davon, diesen Parameter zu erhöhen?\n"
   ]
  },
  {
   "cell_type": "code",
   "execution_count": null,
   "metadata": {},
   "outputs": [],
   "source": []
  },
  {
   "cell_type": "markdown",
   "metadata": {},
   "source": [
    "#### 3. Teilaufgabe\n",
    "Erstellen Sie -- wie in der Vorlesung gezeigt -- jeweils einen Strip-Plot zu den Parametern jitter=0, jitter=1, jitter=5.\n",
    "\n",
    "(Hierfür müssen Sie das seaborn-Paket installieren.) Welchen Nutzen hat dieser Parameter?\n"
   ]
  },
  {
   "cell_type": "code",
   "execution_count": null,
   "metadata": {},
   "outputs": [],
   "source": []
  },
  {
   "cell_type": "markdown",
   "metadata": {},
   "source": [
    "#### 4. Teilaufgabe\n",
    "Was sind Vor- und Nachteile eines Jitter-Plots im Vergleich zu einer KDE / einem Histogramm?\n",
    "\n",
    "Erstellen Sie einen Plot, der sowohl eine KDE als auch einen Jitter-Plot beinhaltet, um die Vorteile beider Darstellungen in einer Grafik zu vereinen.\n"
   ]
  },
  {
   "cell_type": "code",
   "execution_count": null,
   "metadata": {},
   "outputs": [],
   "source": []
  }
 ],
 "metadata": {
  "kernelspec": {
   "display_name": ".venv",
   "language": "python",
   "name": "python3"
  },
  "language_info": {
   "name": "python",
   "version": "3.13.2"
  }
 },
 "nbformat": 4,
 "nbformat_minor": 2
}
