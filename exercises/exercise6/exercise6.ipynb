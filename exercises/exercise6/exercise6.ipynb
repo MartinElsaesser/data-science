{
 "cells": [
  {
   "cell_type": "markdown",
   "id": "daf6903c",
   "metadata": {},
   "source": [
    "### Teilaufgabe 1\n",
    "\n",
    "Microsoft Research hat das Large Language Model GPT-4 untersucht und beobachtet \"Sparks of Artificial General Intelligence\".\n",
    "\n",
    "Auf Seite 107 des Papers https://arxiv.org/pdf/2303.12712.pdf wurde GPT-4 aufgefordert, den Python-Code für einen Diabetes-Test zu schreiben.\n",
    "\n",
    "Kopieren Sie diesen Python-Code und schreiben Sie ihn so um, dass er lauffähig ist unter Angabe des BMI anstelle von Größe und Gewicht.\n",
    "\n",
    "Testen Sie die Lauffähigkeit und debuggen Sie ggf. den Code.\n"
   ]
  },
  {
   "cell_type": "markdown",
   "id": "4a6ba4cb",
   "metadata": {},
   "source": [
    "### Teilaufgabe 2\n",
    "\n",
    "Laden Sie einen Diabetes-Datensatz herunter unter https://data.mendeley.com/datasets/wj9rwkp9c2/1.\n",
    "\n",
    "Fügen Sie eine zusätzliche Spalte \"Glucose\" ein und vergeben Sie hier pauschal den Wert 6.0. Dieser Wert fehlt leider in den Daten.\n"
   ]
  },
  {
   "cell_type": "markdown",
   "id": "3ee6c9e9",
   "metadata": {},
   "source": [
    "### Teilaufgabe 3\n",
    "\n",
    "Die Spalte CLASS beinhaltet die Zielgröße. Verschaffen Sie sich mit der Pandas Series Methode `.value_counts()` einen Überblick über die Häufigkeiten der vorhandenen Klassen.\n",
    "\n",
    "Sie werden bemerken, dass die Daten nicht in optimaler Form vorliegen.\n",
    "\n",
    "Korrigieren Sie dies. (Tipp: Sie können die Methoden `df[\"CLASS\"].str.XXX` explorieren, um vektorisiert die Strings in einer Spalte zu verändern.)\n"
   ]
  },
  {
   "cell_type": "markdown",
   "id": "b9de83d7",
   "metadata": {},
   "source": [
    "### Teilaufgabe 4\n",
    "\n",
    "Wenden Sie die von GPT-4 vorgeschlagene Funktion (ggf. weiter modifiziert) auf die Daten an und stellen Sie die Klassen in der Zielvariable des Datensatzes den möglichen Befunden (die print-Ausgabe am Ende der Funktion) gegenüber.\n",
    "\n",
    "Wählen Sie eine aggregierte Darstellung, so dass in einer Vielfelder-Tafel die jeweilige Anzahl steht, wie oft diese Kombination im Datensatz auftauchte.\n"
   ]
  },
  {
   "cell_type": "markdown",
   "id": "9b72bfce",
   "metadata": {},
   "source": [
    "### Teilaufgabe 5\n",
    "\n",
    "Binarisieren Sie die Klassen und die Befunde auf geeignete Art und Weise und berechnen Sie Precision (=TP / (TP+FP)) und Recall (=TP / (TP+FN)). \n"
   ]
  }
 ],
 "metadata": {
  "language_info": {
   "name": "python"
  }
 },
 "nbformat": 4,
 "nbformat_minor": 5
}
