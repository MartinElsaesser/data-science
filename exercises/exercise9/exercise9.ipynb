{
 "cells": [
  {
   "cell_type": "markdown",
   "id": "dc53f930",
   "metadata": {},
   "source": [
    "In dieser Aufgabe möchten wir untersuchen, wie sich die Wahl der Trainingsdatengröße auswirkt.\n",
    "\n",
    "### Teilaufgabe 1\n",
    "Betrachten Sie den sklearn Diabetes Datensatz. Führen Sie einen Split in Trainings- und Validierungsdaten durch,  \n",
    "so dass die ersten `k` Samples in den Trainings- und die nachfolgenden Samples in den Validierungsdaten landen.  \n",
    "Variieren Sie im folgenden die Variable `k` zwischen 10 und 432 in 10er-Schritten."
   ]
  },
  {
   "cell_type": "markdown",
   "id": "17d62c98",
   "metadata": {},
   "source": [
    "### Teilaufgabe 2\n",
    "Trainieren Sie für jeden Wert von `k` einen `sklearn.ensemble.RandomForestRegressor` (Hyperparameter `max_features=5`, `max_depth=5` und `n_estimators=100`) und notieren Sie die R²-Scores auf Trainings- und Validierungsdaten.  \n",
    "Zeichnen Sie Validierungskurven, in denen der Parameter `k` auf der x-Achse aufgetragen wird."
   ]
  },
  {
   "cell_type": "markdown",
   "id": "6f22aa4f",
   "metadata": {},
   "source": [
    "### Teilaufgabe 3\n",
    "Erheben Sie nun zusätzlich für jedes `k` einen Vektor, dessen i.ter Eintrag die Standardabweichung der Vorhersagen (der Bäume des Random Forests) für Patient `i` enthält.  \n",
    "Wenden Sie den Mittelwert an, um diesen Standardabweichungs-Vektor auf eine Zahl zu reduzieren.  \n",
    "Für jedes `k` erhalten Sie eine solche Zahl.  \n",
    "Visualisieren Sie wieder die entsprechenden Kurven (als Funktion von `k`) für Trainings- und Validierungsdaten und interpretieren Sie die Kurven.  \n",
    "Tipp: Verwenden Sie `pd.DataFrame ( [m.predict(X_train.values) for m in rf.estimators_] )`, um Zugriff auf die nicht-gemittelten Vorhersagen der einzelnen Bäume zu erhalten."
   ]
  }
 ],
 "metadata": {
  "language_info": {
   "name": "python"
  }
 },
 "nbformat": 4,
 "nbformat_minor": 5
}
