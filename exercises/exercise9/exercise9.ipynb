{
 "cells": [
  {
   "cell_type": "markdown",
   "id": "dc53f930",
   "metadata": {},
   "source": [
    "In dieser Aufgabe möchten wir untersuchen, wie sich die Wahl der Trainingsdatengröße auswirkt.\n",
    "\n",
    "### Teilaufgabe 1\n",
    "Betrachten Sie den sklearn Diabetes Datensatz. Führen Sie einen Split in Trainings- und Validierungsdaten durch,  \n",
    "so dass die ersten `k` Samples in den Trainings- und die nachfolgenden Samples in den Validierungsdaten landen.  \n",
    "Variieren Sie im folgenden die Variable `k` zwischen 10 und 432 in 10er-Schritten."
   ]
  },
  {
   "cell_type": "code",
   "execution_count": null,
   "id": "96716024",
   "metadata": {},
   "outputs": [
    {
     "ename": "",
     "evalue": "",
     "output_type": "error",
     "traceback": [
      "\u001b[1;31mThe kernel failed to start due to the missing module 'comm.base_comm'. Consider installing this module.\n",
      "\u001b[1;31mClick <a href='https://aka.ms/kernelFailuresMissingModule'>here</a> for more info."
     ]
    }
   ],
   "source": [
    "import pandas as pd\n",
    "import numpy as np\n",
    "from sklearn.model_selection import train_test_split"
   ]
  },
  {
   "cell_type": "markdown",
   "id": "17d62c98",
   "metadata": {},
   "source": [
    "### Teilaufgabe 2\n",
    "Trainieren Sie für jeden Wert von `k` einen `sklearn.ensemble.RandomForestRegressor` (Hyperparameter `max_features=5`, `max_depth=5` und `n_estimators=100`) und notieren Sie die R²-Scores auf Trainings- und Validierungsdaten.  \n",
    "Zeichnen Sie Validierungskurven, in denen der Parameter `k` auf der x-Achse aufgetragen wird."
   ]
  },
  {
   "cell_type": "code",
   "execution_count": null,
   "id": "92b438e1",
   "metadata": {},
   "outputs": [],
   "source": [
    "\n",
    "from sklearn.datasets import load_diabetes\n",
    "from sklearn.ensemble import RandomForestRegressor\n",
    "from sklearn.metrics import r2_score\n",
    "X,y = load_diabetes(as_frame=True, return_X_y=True)"
   ]
  },
  {
   "cell_type": "markdown",
   "id": "6f22aa4f",
   "metadata": {},
   "source": [
    "### Teilaufgabe 3\n",
    "Erheben Sie nun zusätzlich für jedes `k` einen Vektor, dessen i.ter Eintrag die Standardabweichung der Vorhersagen (der Bäume des Random Forests) für Patient `i` enthält.  \n",
    "Wenden Sie den Mittelwert an, um diesen Standardabweichungs-Vektor auf eine Zahl zu reduzieren.  \n",
    "Für jedes `k` erhalten Sie eine solche Zahl.  \n",
    "Visualisieren Sie wieder die entsprechenden Kurven (als Funktion von `k`) für Trainings- und Validierungsdaten und interpretieren Sie die Kurven.  \n",
    "Tipp: Verwenden Sie `pd.DataFrame ( [m.predict(X_train.values) for m in rf.estimators_] )`, um Zugriff auf die nicht-gemittelten Vorhersagen der einzelnen Bäume zu erhalten."
   ]
  }
 ],
 "metadata": {
  "kernelspec": {
   "display_name": ".venv",
   "language": "python",
   "name": "python3"
  },
  "language_info": {
   "name": "python",
   "version": "3.13.2"
  }
 },
 "nbformat": 4,
 "nbformat_minor": 5
}
