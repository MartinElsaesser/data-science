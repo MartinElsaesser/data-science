{
 "cells": [
  {
   "cell_type": "markdown",
   "id": "5eed9bf5",
   "metadata": {},
   "source": [
    "### Teilaufgabe 1\n",
    "Arbeiten Sie das Tutorial [ Linear Regression ](https://mlu-explain.github.io/linear-regression/) durch. (Den Abschnitt \"A Closed Form Solution\" können Sie auslassen, da hier die Formel für die Multiple (d.h. Nicht-Einfache) Lineare Regression beschrieben wird -- diese Formel wird in der Vorlesung nicht besprochen.) Was bedeutet der Ausdruck \"Residual\"? Recherchieren Sie zusätzlich, was die Ausdrücke \"Regressor\" und \"Regressand\" bedeuten."
   ]
  },
  {
   "cell_type": "markdown",
   "id": "66dd302a",
   "metadata": {},
   "source": [
    "### Teilaufgabe 2\n",
    "Wir möchten die Regressionsgerade zwischen `x=df[\"s1\"]` und `y=df[\"s2\"]` bestimmen, wenn `df` der sklearn Diabetes-Datensatz ist. Implementieren Sie den Gradient Descent Algorithmus für eine einfache Lineare Regression und führen Sie den Algorithmus für 10 Zeitschritte durch. Verwenden Sie hierfür die Startwerte `a_0 = 1` und `a_1 = 1`. Führen Sie dies jeweils durch für die Learning Rate 0.1, 1.0 und 10 und visualisieren Sie jeweils den zeitlichen Verlauf des MSE."
   ]
  }
 ],
 "metadata": {
  "language_info": {
   "name": "python"
  }
 },
 "nbformat": 4,
 "nbformat_minor": 5
}
