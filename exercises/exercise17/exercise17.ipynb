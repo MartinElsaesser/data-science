{
 "cells": [
  {
   "cell_type": "markdown",
   "id": "67d6bf0f",
   "metadata": {},
   "source": [
    "Im Datensatz `daten_ohne_spaltennamen.csv` sind unglücklicherweise die Spaltennamen verloren gegangen.\n",
    "### Teilaufgabe 1\n",
    "Führen Sie eine explorative Datenanalyse durch und erarbeiten Sie sich (d.h. raten Sie) die Bedeutung der einzelnen Spalten."
   ]
  },
  {
   "cell_type": "markdown",
   "id": "e5c59a19",
   "metadata": {},
   "source": [
    "### Teilaufgabe 2\n",
    "Visualisieren Sie die Daten auf geeignete Art und Weise. Sie können hier beispielsweise auf zeitliche Aspekte, oder auf räumliche Aspekte (Paket cartopy oder basemap), eingehen.\n",
    "\n",
    "Dieser Datensatz wurde in der Vergangenheit als \"Data Science Challenge\" an einem Forschungsinstitut verwendet, um die Auffassungsgabe der Bewerber sowie das handwerkliche Geschick, eine explorative Datenanalyse durchzuführen, zu testen."
   ]
  }
 ],
 "metadata": {
  "language_info": {
   "name": "python"
  }
 },
 "nbformat": 4,
 "nbformat_minor": 5
}
