{
 "cells": [
  {
   "cell_type": "markdown",
   "id": "eadd2878",
   "metadata": {},
   "source": [
    "Mit einer Dimensionsreduktion wird versucht, den Informationsgehalt hochdimensionaler Daten (d.h. viele Spalten) auf wenige Spalten abzubilden. Typischerweise wird mit versucht, nach der Reduktion mit 2 Spalten zu arbeiten, da diese gut visualisiert werden können. In dieser Aufgabe soll eine Principal Component Analysis (PCA) als grundlegende Technik untersucht werden.\n",
    "\n",
    "### Teilaufgabe 1\n",
    "Laden Sie den digits Datensatz von sklearn und zeigen Sie sich die ersten 50 \"handwritten digits\" an. Beschränken Sie sich auf die Zahlen 0,1,...,5. Sie können sich am nachfolgenden Programmcode orientieren.\n",
    "\n",
    "```\n",
    "from sklearn.datasets import load_digits\n",
    "digits = load_digits(n_class=6)\n",
    "images = digits[\"images\"]  # 1083 Bilder der Größe 8x8 Pixel\n",
    "target = digits[\"target\"]  # Die auf den Bildern gezeigten Zahlen (0,...,5), Array der Länge 1083\n",
    "data   = digits[\"data\"]    # Die Bilder nochmals jeweils als \"flacher\" Datenvektor der Länge 64 \n",
    "plt.imshow ( images[0], cmap=\"Grays\" )\n",
    "```"
   ]
  },
  {
   "cell_type": "markdown",
   "id": "7e2002cc",
   "metadata": {},
   "source": [
    "### Teilaufgabe 2\n",
    "Wenden Sie nun auf `data` eine [ PCA ](https://scikit-learn.org/stable/modules/generated/sklearn.decomposition.PCA.html) an. Orientieren Sie sich am nachfolgenden Code. Die transformierten Daten sollten nun ein Array mit weiterhin 1083 Zeilen, aber 2 Spalten beinhalten. Visualisieren Sie diese beiden Spalten in einem Scatterplot und färben Sie die jeweiligen Punktpaare gemäß der auf diesem Bild dargestellten Zahl (`target`) ein.\n",
    "\n",
    "```\n",
    "from sklearn.decomposition import PCA\n",
    "pca = PCA(n_components=2)\n",
    "X_transformiert = pca.fit_transform(X)\n",
    "```"
   ]
  },
  {
   "cell_type": "markdown",
   "id": "0c8fe38b",
   "metadata": {},
   "source": [
    "### Teilaufgabe 3\n",
    "Rekonstruieren Sie die Originaldaten basierend auf den transformierten Daten. Orientieren Sie sich am nachfolgenden Code. Zeigen Sie die ersten 50 rekonstruierten Bilder an und vergleichen Sie das Ergebnis mit Teilaufgabe 1. (Beachten Sie hierbei, dass die PCA auf den \"flachen\" Datenvektoren der Länge 64 arbeitete; das Ergebnis ist also ebenfalls ein Vektor der Länge 64, der erst wieder in ein Array der Größe 8x8 \"reshaped\" werden muss.)\n",
    "\n",
    "```\n",
    "X_reconstructed = pca.inverse_transform(X_transformiert)\n",
    "\n",
    "```"
   ]
  },
  {
   "cell_type": "markdown",
   "id": "31a1f902",
   "metadata": {},
   "source": []
  }
 ],
 "metadata": {
  "language_info": {
   "name": "python"
  }
 },
 "nbformat": 4,
 "nbformat_minor": 5
}
