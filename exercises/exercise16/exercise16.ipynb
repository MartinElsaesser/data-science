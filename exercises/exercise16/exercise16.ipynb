{
 "cells": [
  {
   "cell_type": "markdown",
   "id": "bfb3dc75",
   "metadata": {},
   "source": [
    "Arbeiten Sie das Tutorial [Train,Test, and Validation Sets](https://mlu-explain.github.io/train-test-validation/) durch. Fassen Sie das Ergebnis des Modellvergleichs in Ihren Worten zusammen."
   ]
  },
  {
   "cell_type": "markdown",
   "id": "b8e80346",
   "metadata": {},
   "source": [
    "Datensätze fürs KI Training werden in 3 Teile geteilt: ein Trainings-, ein Validierungs- und ein Testdatensatz.\n",
    "\n",
    "Der Trainingsdatensatz wird verwendet, um das KI Modell zu trainieren. Es ist wichtig, dass dieser Datensatz repräsentativ für Realwelt Daten ist.\n",
    "\n",
    "Der Validierungsdatensatz wird verwendet, um die Hyperparameter eines Modells zu verbessern.\n",
    "\n",
    "Der Testdatensatz wird abschließend benutzt, um herauszufinden, wie gut das Modell auf realen Daten funktioniert. Es ist wichtig, dass der Testdatensatz nicht schon während des Trainings, oder dem Hyperparameter Tuning verwendet wird. Dies ist nämlich auch eine Form des Overfittings."
   ]
  }
 ],
 "metadata": {
  "language_info": {
   "name": "python"
  }
 },
 "nbformat": 4,
 "nbformat_minor": 5
}
