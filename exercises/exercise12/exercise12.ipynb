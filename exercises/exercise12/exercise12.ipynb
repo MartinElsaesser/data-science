{
 "cells": [
  {
   "cell_type": "markdown",
   "id": "972ba4b4",
   "metadata": {},
   "source": [
    "Lesen Sie die Datei `aufgabe_mean_und_std.csv` in ein pandas DataFrame ein. Die Daten beinhalten vier Gruppen zu je zwei Spalten `x`,`y`.\n",
    "\n",
    "### Teilaufgabe 1\n",
    "Berechnen Sie jeweils für alle Spalten den Mittelwert und die Varianz über diese Spalten. Runden Sie auf eine Nachkommastelle."
   ]
  },
  {
   "cell_type": "markdown",
   "id": "cb65520d",
   "metadata": {},
   "source": [
    "### Teilaufgabe 2\n",
    "Visualisieren Sie jedes (`x`,`y`)-Paar in einem Scatterplot und vergleichen Sie die Bilder mit den Aussagen, die Sie vom Mittelwert und Standardabweichung bekommen haben."
   ]
  },
  {
   "cell_type": "markdown",
   "id": "c459efa6",
   "metadata": {},
   "source": [
    "### Teilaufgabe 3\n",
    "Schauen Sie sich den Vortrag von Jake VanderPlas zu Datenvisualisierung\n",
    "\n",
    "\n",
    " auf der PyCon 2019 an (bis Minute 18:45 reicht). Hier werden einige Visualisierungen dieses Datensatzes ausprobiert. Was funktioniert laut Jake VanderPlas hier am besten?"
   ]
  }
 ],
 "metadata": {
  "language_info": {
   "name": "python"
  }
 },
 "nbformat": 4,
 "nbformat_minor": 5
}
