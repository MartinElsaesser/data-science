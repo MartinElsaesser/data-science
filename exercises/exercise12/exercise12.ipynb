{
 "cells": [
  {
   "cell_type": "markdown",
   "id": "972ba4b4",
   "metadata": {},
   "source": [
    "Lesen Sie die Datei `aufgabe_mean_und_std.csv` in ein pandas DataFrame ein. Die Daten beinhalten vier Gruppen zu je zwei Spalten `x`,`y`.\n",
    "\n",
    "### Teilaufgabe 1\n",
    "Berechnen Sie jeweils für alle Spalten den Mittelwert und die Varianz über diese Spalten. Runden Sie auf eine Nachkommastelle."
   ]
  },
  {
   "cell_type": "code",
   "execution_count": 46,
   "id": "c653f95e",
   "metadata": {},
   "outputs": [
    {
     "data": {
      "application/vnd.microsoft.datawrangler.viewer.v0+json": {
       "columns": [
        {
         "name": "index",
         "rawType": "int64",
         "type": "integer"
        },
        {
         "name": "x1",
         "rawType": "float64",
         "type": "float"
        },
        {
         "name": "y1",
         "rawType": "float64",
         "type": "float"
        },
        {
         "name": "x2",
         "rawType": "float64",
         "type": "float"
        },
        {
         "name": "y2",
         "rawType": "float64",
         "type": "float"
        },
        {
         "name": "x3",
         "rawType": "float64",
         "type": "float"
        },
        {
         "name": "y3",
         "rawType": "float64",
         "type": "float"
        },
        {
         "name": "x4",
         "rawType": "float64",
         "type": "float"
        },
        {
         "name": "y4",
         "rawType": "float64",
         "type": "float"
        }
       ],
       "conversionMethod": "pd.DataFrame",
       "ref": "9a306c2d-6ed5-4c76-be9d-93aab93ea4a1",
       "rows": [
        [
         "0",
         "4.0",
         "4.26",
         "4.0",
         "3.1",
         "4.0",
         "5.39",
         "8.0",
         "5.25"
        ],
        [
         "1",
         "5.0",
         "5.68",
         "5.0",
         "4.74",
         "5.0",
         "5.73",
         "8.0",
         "5.56"
        ],
        [
         "2",
         "6.0",
         "7.24",
         "6.0",
         "6.13",
         "6.0",
         "6.08",
         "8.0",
         "5.76"
        ],
        [
         "3",
         "7.0",
         "4.82",
         "7.0",
         "7.26",
         "7.0",
         "6.42",
         "8.0",
         "6.58"
        ],
        [
         "4",
         "8.0",
         "6.95",
         "8.0",
         "8.14",
         "8.0",
         "6.77",
         "8.0",
         "6.89"
        ],
        [
         "5",
         "9.0",
         "8.81",
         "9.0",
         "8.77",
         "9.0",
         "7.11",
         "8.0",
         "7.04"
        ],
        [
         "6",
         "10.0",
         "8.04",
         "10.0",
         "9.14",
         "10.0",
         "7.46",
         "8.0",
         "7.71"
        ],
        [
         "7",
         "11.0",
         "8.33",
         "11.0",
         "9.26",
         "11.0",
         "7.81",
         "8.0",
         "7.91"
        ],
        [
         "8",
         "12.0",
         "10.84",
         "12.0",
         "9.13",
         "12.0",
         "8.15",
         "8.0",
         "8.47"
        ],
        [
         "9",
         "13.0",
         "7.58",
         "13.0",
         "8.74",
         "13.0",
         "12.74",
         "8.0",
         "8.84"
        ],
        [
         "10",
         "14.0",
         "9.96",
         "14.0",
         "8.1",
         "14.0",
         "8.84",
         "19.0",
         "12.5"
        ]
       ],
       "shape": {
        "columns": 8,
        "rows": 11
       }
      },
      "text/html": [
       "<div>\n",
       "<style scoped>\n",
       "    .dataframe tbody tr th:only-of-type {\n",
       "        vertical-align: middle;\n",
       "    }\n",
       "\n",
       "    .dataframe tbody tr th {\n",
       "        vertical-align: top;\n",
       "    }\n",
       "\n",
       "    .dataframe thead th {\n",
       "        text-align: right;\n",
       "    }\n",
       "</style>\n",
       "<table border=\"1\" class=\"dataframe\">\n",
       "  <thead>\n",
       "    <tr style=\"text-align: right;\">\n",
       "      <th></th>\n",
       "      <th>x1</th>\n",
       "      <th>y1</th>\n",
       "      <th>x2</th>\n",
       "      <th>y2</th>\n",
       "      <th>x3</th>\n",
       "      <th>y3</th>\n",
       "      <th>x4</th>\n",
       "      <th>y4</th>\n",
       "    </tr>\n",
       "  </thead>\n",
       "  <tbody>\n",
       "    <tr>\n",
       "      <th>0</th>\n",
       "      <td>4.0</td>\n",
       "      <td>4.26</td>\n",
       "      <td>4.0</td>\n",
       "      <td>3.10</td>\n",
       "      <td>4.0</td>\n",
       "      <td>5.39</td>\n",
       "      <td>8.0</td>\n",
       "      <td>5.25</td>\n",
       "    </tr>\n",
       "    <tr>\n",
       "      <th>1</th>\n",
       "      <td>5.0</td>\n",
       "      <td>5.68</td>\n",
       "      <td>5.0</td>\n",
       "      <td>4.74</td>\n",
       "      <td>5.0</td>\n",
       "      <td>5.73</td>\n",
       "      <td>8.0</td>\n",
       "      <td>5.56</td>\n",
       "    </tr>\n",
       "    <tr>\n",
       "      <th>2</th>\n",
       "      <td>6.0</td>\n",
       "      <td>7.24</td>\n",
       "      <td>6.0</td>\n",
       "      <td>6.13</td>\n",
       "      <td>6.0</td>\n",
       "      <td>6.08</td>\n",
       "      <td>8.0</td>\n",
       "      <td>5.76</td>\n",
       "    </tr>\n",
       "    <tr>\n",
       "      <th>3</th>\n",
       "      <td>7.0</td>\n",
       "      <td>4.82</td>\n",
       "      <td>7.0</td>\n",
       "      <td>7.26</td>\n",
       "      <td>7.0</td>\n",
       "      <td>6.42</td>\n",
       "      <td>8.0</td>\n",
       "      <td>6.58</td>\n",
       "    </tr>\n",
       "    <tr>\n",
       "      <th>4</th>\n",
       "      <td>8.0</td>\n",
       "      <td>6.95</td>\n",
       "      <td>8.0</td>\n",
       "      <td>8.14</td>\n",
       "      <td>8.0</td>\n",
       "      <td>6.77</td>\n",
       "      <td>8.0</td>\n",
       "      <td>6.89</td>\n",
       "    </tr>\n",
       "    <tr>\n",
       "      <th>5</th>\n",
       "      <td>9.0</td>\n",
       "      <td>8.81</td>\n",
       "      <td>9.0</td>\n",
       "      <td>8.77</td>\n",
       "      <td>9.0</td>\n",
       "      <td>7.11</td>\n",
       "      <td>8.0</td>\n",
       "      <td>7.04</td>\n",
       "    </tr>\n",
       "    <tr>\n",
       "      <th>6</th>\n",
       "      <td>10.0</td>\n",
       "      <td>8.04</td>\n",
       "      <td>10.0</td>\n",
       "      <td>9.14</td>\n",
       "      <td>10.0</td>\n",
       "      <td>7.46</td>\n",
       "      <td>8.0</td>\n",
       "      <td>7.71</td>\n",
       "    </tr>\n",
       "    <tr>\n",
       "      <th>7</th>\n",
       "      <td>11.0</td>\n",
       "      <td>8.33</td>\n",
       "      <td>11.0</td>\n",
       "      <td>9.26</td>\n",
       "      <td>11.0</td>\n",
       "      <td>7.81</td>\n",
       "      <td>8.0</td>\n",
       "      <td>7.91</td>\n",
       "    </tr>\n",
       "    <tr>\n",
       "      <th>8</th>\n",
       "      <td>12.0</td>\n",
       "      <td>10.84</td>\n",
       "      <td>12.0</td>\n",
       "      <td>9.13</td>\n",
       "      <td>12.0</td>\n",
       "      <td>8.15</td>\n",
       "      <td>8.0</td>\n",
       "      <td>8.47</td>\n",
       "    </tr>\n",
       "    <tr>\n",
       "      <th>9</th>\n",
       "      <td>13.0</td>\n",
       "      <td>7.58</td>\n",
       "      <td>13.0</td>\n",
       "      <td>8.74</td>\n",
       "      <td>13.0</td>\n",
       "      <td>12.74</td>\n",
       "      <td>8.0</td>\n",
       "      <td>8.84</td>\n",
       "    </tr>\n",
       "    <tr>\n",
       "      <th>10</th>\n",
       "      <td>14.0</td>\n",
       "      <td>9.96</td>\n",
       "      <td>14.0</td>\n",
       "      <td>8.10</td>\n",
       "      <td>14.0</td>\n",
       "      <td>8.84</td>\n",
       "      <td>19.0</td>\n",
       "      <td>12.50</td>\n",
       "    </tr>\n",
       "  </tbody>\n",
       "</table>\n",
       "</div>"
      ],
      "text/plain": [
       "      x1     y1    x2    y2    x3     y3    x4     y4\n",
       "0    4.0   4.26   4.0  3.10   4.0   5.39   8.0   5.25\n",
       "1    5.0   5.68   5.0  4.74   5.0   5.73   8.0   5.56\n",
       "2    6.0   7.24   6.0  6.13   6.0   6.08   8.0   5.76\n",
       "3    7.0   4.82   7.0  7.26   7.0   6.42   8.0   6.58\n",
       "4    8.0   6.95   8.0  8.14   8.0   6.77   8.0   6.89\n",
       "5    9.0   8.81   9.0  8.77   9.0   7.11   8.0   7.04\n",
       "6   10.0   8.04  10.0  9.14  10.0   7.46   8.0   7.71\n",
       "7   11.0   8.33  11.0  9.26  11.0   7.81   8.0   7.91\n",
       "8   12.0  10.84  12.0  9.13  12.0   8.15   8.0   8.47\n",
       "9   13.0   7.58  13.0  8.74  13.0  12.74   8.0   8.84\n",
       "10  14.0   9.96  14.0  8.10  14.0   8.84  19.0  12.50"
      ]
     },
     "execution_count": 46,
     "metadata": {},
     "output_type": "execute_result"
    }
   ],
   "source": [
    "import pandas as pd\n",
    "df = pd.read_csv(\"./datasets/aufgabe_mean_und_std.csv\", index_col=0)\n",
    "df"
   ]
  },
  {
   "cell_type": "code",
   "execution_count": 47,
   "id": "42592310",
   "metadata": {},
   "outputs": [
    {
     "name": "stdout",
     "output_type": "stream",
     "text": [
      "<class 'pandas.core.frame.DataFrame'>\n",
      "Index: 11 entries, 0 to 10\n",
      "Data columns (total 8 columns):\n",
      " #   Column  Non-Null Count  Dtype  \n",
      "---  ------  --------------  -----  \n",
      " 0   x1      11 non-null     float64\n",
      " 1   y1      11 non-null     float64\n",
      " 2   x2      11 non-null     float64\n",
      " 3   y2      11 non-null     float64\n",
      " 4   x3      11 non-null     float64\n",
      " 5   y3      11 non-null     float64\n",
      " 6   x4      11 non-null     float64\n",
      " 7   y4      11 non-null     float64\n",
      "dtypes: float64(8)\n",
      "memory usage: 792.0 bytes\n"
     ]
    }
   ],
   "source": [
    "df.info()"
   ]
  },
  {
   "cell_type": "code",
   "execution_count": 48,
   "id": "8a5d44a8",
   "metadata": {},
   "outputs": [
    {
     "data": {
      "text/plain": [
       "x1    9.0\n",
       "y1    7.5\n",
       "x2    9.0\n",
       "y2    7.5\n",
       "x3    9.0\n",
       "y3    7.5\n",
       "x4    9.0\n",
       "y4    7.5\n",
       "dtype: float64"
      ]
     },
     "execution_count": 48,
     "metadata": {},
     "output_type": "execute_result"
    }
   ],
   "source": [
    "df.mean(axis=0).round(1)"
   ]
  },
  {
   "cell_type": "code",
   "execution_count": 49,
   "id": "2cd2a655",
   "metadata": {},
   "outputs": [
    {
     "data": {
      "text/plain": [
       "x1    10.0\n",
       "y1     3.8\n",
       "x2    10.0\n",
       "y2     3.8\n",
       "x3    10.0\n",
       "y3     3.7\n",
       "x4    10.0\n",
       "y4     3.7\n",
       "dtype: float64"
      ]
     },
     "execution_count": 49,
     "metadata": {},
     "output_type": "execute_result"
    }
   ],
   "source": [
    "df.var(axis=0, ddof=0).round(1)"
   ]
  },
  {
   "cell_type": "markdown",
   "id": "cb65520d",
   "metadata": {},
   "source": [
    "### Teilaufgabe 2\n",
    "Visualisieren Sie jedes (`x`,`y`)-Paar in einem Scatterplot und vergleichen Sie die Bilder mit den Aussagen, die Sie vom Mittelwert und Standardabweichung bekommen haben."
   ]
  },
  {
   "cell_type": "code",
   "execution_count": 50,
   "id": "73a7d00e",
   "metadata": {},
   "outputs": [
    {
     "data": {
      "image/png": "[encoded data removed]",
      "text/plain": [
       "<Figure size 1000x800 with 4 Axes>"
      ]
     },
     "metadata": {},
     "output_type": "display_data"
    }
   ],
   "source": [
    "import matplotlib.pyplot as plt\n",
    "fig, axes = plt.subplots(2, 2, figsize=(10, 8), sharex=True, sharey=True)\n",
    "for pairIdx, ax in zip(range(1, 5), axes.flatten()):\n",
    "\tx_col = f\"x{pairIdx}\"\n",
    "\ty_col = f\"y{pairIdx}\"\n",
    "\n",
    "\tax.scatter(df[x_col], df[y_col], alpha=0.5, s=10, c=\"blue\", edgecolor=\"black\")\n",
    "\tax.set_xlabel(x_col)\n",
    "\tax.set_ylabel(y_col)\n",
    "\tax.set_title(f\"Dataset {pairIdx}\")"
   ]
  },
  {
   "cell_type": "markdown",
   "id": "c3ebe5b5",
   "metadata": {},
   "source": [
    "Mittelwert und Varianz ließen vermuten, dass sich die Datensätze stark ähneln. Ein Blick auf die Visualisierung erzählt eine etwas andere Geschichte.\n",
    "\n",
    "Die Datensätze unterscheiden in ihrer Verteilung, ähneln sich aber in ihrem Maßstab."
   ]
  },
  {
   "cell_type": "markdown",
   "id": "c459efa6",
   "metadata": {},
   "source": [
    "### Teilaufgabe 3\n",
    "Schauen Sie sich den Vortrag von Jake VanderPlas zu Datenvisualisierung\n",
    "\n",
    "\n",
    " auf der PyCon 2019 an (bis Minute 18:45 reicht). Hier werden einige Visualisierungen dieses Datensatzes ausprobiert. Was funktioniert laut Jake VanderPlas hier am besten?"
   ]
  },
  {
   "cell_type": "markdown",
   "id": "e3598c4d",
   "metadata": {},
   "source": [
    "Er meint die Datensätze in eigene Subplots zu teilen wäre der beste Weg sie zu visualisieren. \"So ist es am intuitivsten\", denn Menschen verstehen sofort, dass verschiedene Diagramme zu verschiedenen Dingen gehören.\n",
    "\""
   ]
  }
 ],
 "metadata": {
  "kernelspec": {
   "display_name": ".venv",
   "language": "python",
   "name": "python3"
  },
  "language_info": {
   "name": "python",
   "version": "3.13.2"
  }
 },
 "nbformat": 4,
 "nbformat_minor": 5
}
