{
 "cells": [
  {
   "cell_type": "markdown",
   "id": "ada357c8",
   "metadata": {},
   "source": [
    "Wir betrachten den Diabetes-Datensatz (`sklearn.datasets.load_diabets`) mit kontinuierlicher Zielgröße \"target\", der in VL05 besprochen wurde. Splitten Sie den Datensatz in Trainings- und Validierungsdaten.\n",
    "\n",
    "### Teilaufgabe 1\n",
    "Trainieren Sie einen (Regressions-)Entscheidungsbaum und wählen Sie den Hyperparameter `max_depth`, so dass die Performance-Metrik (s.u.) auf den Validierungsdaten optimal ist.\n",
    "\n",
    "Wie viele verschiedene Werte kommen in den Predictions vor?"
   ]
  },
  {
   "cell_type": "markdown",
   "id": "d50e94a4",
   "metadata": {},
   "source": [
    "### Teilaufgabe 2\n",
    "Der im Schritt 1 gewählte Hyperparameter `max_depth` wird im folgenden festgehalten. Es sei nun `N=100` ein weiterer Parameter.\n",
    "\n",
    "Trainieren Sie nun `N` mal auf den Trainingsdaten einen Entscheidungsbaum trainieren, um `N` Bäume zu erhalten.\n",
    "\n",
    "Damit diese Bäume nicht identisch sind, soll jedes Training auf einer zufälligen Teilmenge der Trainingsdaten erfolgen; hierzu soll n-mal \"mit Zurücklegen\" aus den Trainingsdaten gezogen werden, wenn der Trainingsdatensatz die Größe n hat.\n",
    "\n",
    "(Hinweis: Verwenden Sie hierfür für ein pandas Dataframe `df.sample(frac=1.0, replace=True)`.),\n",
    "und zusätzlich der Hyperparameter `max_features=5` gesetzt werden, wodurch bei jedem Split nur 5 zufällig ausgewählte Features in Betracht gezogen werden.\n"
   ]
  },
  {
   "cell_type": "markdown",
   "id": "7fd017c5",
   "metadata": {},
   "source": [
    "### Teilaufgabe 3\n",
    "Erstellen Sie nun ein \"Ensemble-Modell\", in dem die Predictions aus allen N Bäumen gemittelt werden. Welche Performance ergibt sich auf den Validierungsdaten? Wie viele Werte nehmen die Predictions jeweils an?"
   ]
  },
  {
   "cell_type": "markdown",
   "id": "112eed4f",
   "metadata": {},
   "source": [
    "### Teilaufgabe 4\n",
    "Wie würde sich für `N=100` eine Erhöhung des Parameters `max_depth` auswirken (im Vergleich zur Untersuchung mit `N=1` in Schritt 1)?\n",
    "Verwenden Sie als Performance-Metrik die R²-Metrik, die in der sklearn-Bibliothek implementiert ist. Die Metrik sollte Werte zwischen 0 und 1 liefern, wobei 1 einen perfekten Fit anzeigt."
   ]
  }
 ],
 "metadata": {
  "language_info": {
   "name": "python"
  }
 },
 "nbformat": 4,
 "nbformat_minor": 5
}
