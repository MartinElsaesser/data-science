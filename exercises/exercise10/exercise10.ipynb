{
 "cells": [
  {
   "cell_type": "markdown",
   "id": "d5a4611c",
   "metadata": {},
   "source": [
    "Der Staatliche Pensionsfonds des Königreichs Norwegen (...) zählt (...) zu den zwei mit Abstand größten Staatsfonds der Welt. Mit dem Fonds sollen die staatlichen Öleinnahmen investiert werden, um für die Zeit vorzusorgen, in der die Erdölreserven der Nordsee zur Neige gehen. [Wikipedia]\n",
    "\n",
    "### Teilaufgabe 1\n",
    "Laden Sie die letzten fünf jährlichen Berichte (Investment Type: Equity) zur Fonds-Zusammensetzung im .xlsx-Format von der [Webseite des Pensionsfonds](https://www.nbim.no/en/investments/all-investments/#/) herunter und visualisieren Sie die zeitliche Entwicklung des Gesamtwerts der vom Fond gehaltenen Aktien je Industriesegment.\n"
   ]
  },
  {
   "cell_type": "markdown",
   "id": "46cf6473",
   "metadata": {},
   "source": [
    "### Teilaufgabe 2\n",
    "Betrachten Sie nun das Industriesegment \"Health Care\".\n",
    "Visualisieren Sie die zeitliche Entwicklung des Marktwerts der vom Fonds gehaltenen Anteile der drei Firmen, die im aktuellsten Bericht den größten Marktwert haben.\n",
    "Ein Privatanleger unterstellt dem Management des Fonds nun eine überlegene Marktkenntnis und möchte eine gute Investment-Entscheidung (im Health Care-Bereich) fällen basierend auf den historischen Entscheidungen des Fonds. Empfehlen Sie dem Privatanleger eine Aktie basierend auf den vorliegenden Daten."
   ]
  }
 ],
 "metadata": {
  "language_info": {
   "name": "python"
  }
 },
 "nbformat": 4,
 "nbformat_minor": 5
}
