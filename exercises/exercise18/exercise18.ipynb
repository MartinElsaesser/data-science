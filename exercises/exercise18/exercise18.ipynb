{
 "cells": [
  {
   "cell_type": "markdown",
   "id": "263fcf86",
   "metadata": {},
   "source": [
    "Laden Sie den scikit-learn Diabetes Datensatz.\n",
    "### Teilaufgabe 1\n",
    "Berechnen Sie für alle Paare von Spalten die Pearson-Korrelation."
   ]
  },
  {
   "cell_type": "markdown",
   "id": "1066bf99",
   "metadata": {},
   "source": [
    "### Teilaufgabe 2\n",
    "Berechnen Sie für alle Paare von Spalten die Spearman-Korrelation."
   ]
  },
  {
   "cell_type": "markdown",
   "id": "2943878a",
   "metadata": {},
   "source": [
    "### Teilaufgabe 3\n",
    "Berechnen Sie eine lineare Regression zwischen den Spalten \"s1\" und \"s2\". Verwenden Sie hierfür [LinearRegression](https://scikit-learn.org/stable/modules/generated/sklearn.linear_model.LinearRegression.html) von Sklearn."
   ]
  },
  {
   "cell_type": "markdown",
   "id": "e3972316",
   "metadata": {},
   "source": [
    "### Teilaufgabe 4\n",
    "Ermitteln Sie den Steigungskoeffizienten (recherchieren Sie `LinearRegression().coef_`). Finden Sie einen (rechnerischen) Zusammenhang zwischen der Pearson-Korrelation und dem Steigungskoeffizienten?"
   ]
  },
  {
   "cell_type": "markdown",
   "id": "ee6eb557",
   "metadata": {},
   "source": [
    "### Teilaufgabe 5\n",
    "Berechnen Sie den [R²-Score](https://scikit-learn.org/stable/modules/generated/sklearn.metrics.r2_score.html) der Vorhersage. Finden Sie einen (rechnerischen) Zusammenhang zwischen der Pearson-Korrelation und dem R²-Score?"
   ]
  }
 ],
 "metadata": {
  "kernelspec": {
   "display_name": ".venv",
   "language": "python",
   "name": "python3"
  },
  "language_info": {
   "codemirror_mode": {
    "name": "ipython",
    "version": 3
   },
   "file_extension": ".py",
   "mimetype": "text/x-python",
   "name": "python",
   "nbconvert_exporter": "python",
   "pygments_lexer": "ipython3",
   "version": "3.13.2"
  }
 },
 "nbformat": 4,
 "nbformat_minor": 5
}
